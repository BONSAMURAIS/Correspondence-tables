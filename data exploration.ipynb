{
 "cells": [
  {
   "cell_type": "markdown",
   "metadata": {},
   "source": [
    "This notebook does a very preliminary assessment of the existing tables, and tries to create metadata that is machine and human readable."
   ]
  },
  {
   "cell_type": "code",
   "execution_count": 1,
   "metadata": {},
   "outputs": [],
   "source": [
    "import pandas as pd\n",
    "from tableschema import Table\n",
    "from goodtables import validate"
   ]
  },
  {
   "cell_type": "markdown",
   "metadata": {},
   "source": [
    "this file has a sort of description of description of what do we have here. some of it could eventually be moved to the metadata "
   ]
  },
  {
   "cell_type": "code",
   "execution_count": 2,
   "metadata": {},
   "outputs": [],
   "source": [
    "overview=pd.read_csv('raw/_Overview_of_available_correspondence_files.csv',\n",
    "            engine='python',\n",
    "            )"
   ]
  },
  {
   "cell_type": "markdown",
   "metadata": {},
   "source": [
    "drop cells and rows that are completely empty"
   ]
  },
  {
   "cell_type": "code",
   "execution_count": 20,
   "metadata": {
    "scrolled": true
   },
   "outputs": [],
   "source": [
    "overview=overview.dropna(how='all',axis='columns').dropna(how='all',axis='index')"
   ]
  },
  {
   "cell_type": "code",
   "execution_count": 22,
   "metadata": {},
   "outputs": [
    {
     "data": {
      "text/html": [
       "<div>\n",
       "<style scoped>\n",
       "    .dataframe tbody tr th:only-of-type {\n",
       "        vertical-align: middle;\n",
       "    }\n",
       "\n",
       "    .dataframe tbody tr th {\n",
       "        vertical-align: top;\n",
       "    }\n",
       "\n",
       "    .dataframe thead th {\n",
       "        text-align: right;\n",
       "    }\n",
       "</style>\n",
       "<table border=\"1\" class=\"dataframe\">\n",
       "  <thead>\n",
       "    <tr style=\"text-align: right;\">\n",
       "      <th></th>\n",
       "      <th>Full name</th>\n",
       "      <th>Full name.1</th>\n",
       "    </tr>\n",
       "  </thead>\n",
       "  <tbody>\n",
       "    <tr>\n",
       "      <th>1</th>\n",
       "      <td>Standard International Trade Classification</td>\n",
       "      <td>Central Product Classification</td>\n",
       "    </tr>\n",
       "    <tr>\n",
       "      <th>2</th>\n",
       "      <td>Standard International Trade Classification</td>\n",
       "      <td>Broad Economic Categories</td>\n",
       "    </tr>\n",
       "    <tr>\n",
       "      <th>3</th>\n",
       "      <td>Standard International Trade Classification</td>\n",
       "      <td>Combined Nomenclature</td>\n",
       "    </tr>\n",
       "    <tr>\n",
       "      <th>4</th>\n",
       "      <td>Standard International Trade Classification</td>\n",
       "      <td>Harmonized System</td>\n",
       "    </tr>\n",
       "    <tr>\n",
       "      <th>5</th>\n",
       "      <td>Central Product Classification</td>\n",
       "      <td>Standard International Trade Classification</td>\n",
       "    </tr>\n",
       "    <tr>\n",
       "      <th>6</th>\n",
       "      <td>Central Product Classification</td>\n",
       "      <td>FAOSTAT Commodity List</td>\n",
       "    </tr>\n",
       "    <tr>\n",
       "      <th>7</th>\n",
       "      <td>Central Product Classification</td>\n",
       "      <td>Classification of Products by Activity</td>\n",
       "    </tr>\n",
       "    <tr>\n",
       "      <th>8</th>\n",
       "      <td>United Nations Standard Products and Services ...</td>\n",
       "      <td>Standard International Trade Classification</td>\n",
       "    </tr>\n",
       "    <tr>\n",
       "      <th>9</th>\n",
       "      <td>FAOSTAT Commodity List</td>\n",
       "      <td>Central Product Classification</td>\n",
       "    </tr>\n",
       "    <tr>\n",
       "      <th>10</th>\n",
       "      <td>Broad Economic Categories</td>\n",
       "      <td>Standard International Trade Classification</td>\n",
       "    </tr>\n",
       "    <tr>\n",
       "      <th>11</th>\n",
       "      <td>Classification of Products by Activity</td>\n",
       "      <td>Central Product Classification</td>\n",
       "    </tr>\n",
       "    <tr>\n",
       "      <th>12</th>\n",
       "      <td>Classification of Products by Activity</td>\n",
       "      <td>Harmonized System</td>\n",
       "    </tr>\n",
       "    <tr>\n",
       "      <th>13</th>\n",
       "      <td>PRODuction COMmunautaire</td>\n",
       "      <td>Combined Nomenclature</td>\n",
       "    </tr>\n",
       "    <tr>\n",
       "      <th>14</th>\n",
       "      <td>Combined Nomenclature</td>\n",
       "      <td>Combined Nomenclature</td>\n",
       "    </tr>\n",
       "    <tr>\n",
       "      <th>15</th>\n",
       "      <td>Combined Nomenclature</td>\n",
       "      <td>PRODuction COMmunautaire</td>\n",
       "    </tr>\n",
       "    <tr>\n",
       "      <th>16</th>\n",
       "      <td>Harmonized System</td>\n",
       "      <td>Standard International Trade Classification</td>\n",
       "    </tr>\n",
       "    <tr>\n",
       "      <th>17</th>\n",
       "      <td>Harmonized System</td>\n",
       "      <td>Classification of Products by Activity</td>\n",
       "    </tr>\n",
       "    <tr>\n",
       "      <th>18</th>\n",
       "      <td>Exiobase products classification</td>\n",
       "      <td>Ecoinvent products classification</td>\n",
       "    </tr>\n",
       "    <tr>\n",
       "      <th>19</th>\n",
       "      <td>Ecoinvent products classification</td>\n",
       "      <td>Exiobase products classification</td>\n",
       "    </tr>\n",
       "    <tr>\n",
       "      <th>20</th>\n",
       "      <td>European Life Cycle Database products classifi...</td>\n",
       "      <td>Ecoinvent products classification</td>\n",
       "    </tr>\n",
       "    <tr>\n",
       "      <th>21</th>\n",
       "      <td>International Standard Industrial Classificati...</td>\n",
       "      <td>Classification of Economic Activities in the E...</td>\n",
       "    </tr>\n",
       "    <tr>\n",
       "      <th>22</th>\n",
       "      <td>Classification of Economic Activities in the E...</td>\n",
       "      <td>International Standard Industrial Classificati...</td>\n",
       "    </tr>\n",
       "    <tr>\n",
       "      <th>23</th>\n",
       "      <td>Exiobase activities classification</td>\n",
       "      <td>Classification of Economic Activities in the E...</td>\n",
       "    </tr>\n",
       "    <tr>\n",
       "      <th>24</th>\n",
       "      <td>Ecoinvent activities classification</td>\n",
       "      <td>Exiobase activities classification</td>\n",
       "    </tr>\n",
       "    <tr>\n",
       "      <th>25</th>\n",
       "      <td>European Life Cycle Database activities  class...</td>\n",
       "      <td>Exiobase activities classification</td>\n",
       "    </tr>\n",
       "    <tr>\n",
       "      <th>26</th>\n",
       "      <td>Ecospold 2 elementary flows</td>\n",
       "      <td>International Reference Life Cycle Data System...</td>\n",
       "    </tr>\n",
       "    <tr>\n",
       "      <th>27</th>\n",
       "      <td>International Reference Life Cycle Data System...</td>\n",
       "      <td>NaN</td>\n",
       "    </tr>\n",
       "  </tbody>\n",
       "</table>\n",
       "</div>"
      ],
      "text/plain": [
       "                                            Full name  \\\n",
       "1         Standard International Trade Classification   \n",
       "2         Standard International Trade Classification   \n",
       "3         Standard International Trade Classification   \n",
       "4         Standard International Trade Classification   \n",
       "5                      Central Product Classification   \n",
       "6                      Central Product Classification   \n",
       "7                      Central Product Classification   \n",
       "8   United Nations Standard Products and Services ...   \n",
       "9                              FAOSTAT Commodity List   \n",
       "10                          Broad Economic Categories   \n",
       "11             Classification of Products by Activity   \n",
       "12             Classification of Products by Activity   \n",
       "13                           PRODuction COMmunautaire   \n",
       "14                              Combined Nomenclature   \n",
       "15                              Combined Nomenclature   \n",
       "16                                  Harmonized System   \n",
       "17                                  Harmonized System   \n",
       "18                   Exiobase products classification   \n",
       "19                  Ecoinvent products classification   \n",
       "20  European Life Cycle Database products classifi...   \n",
       "21  International Standard Industrial Classificati...   \n",
       "22  Classification of Economic Activities in the E...   \n",
       "23                 Exiobase activities classification   \n",
       "24                Ecoinvent activities classification   \n",
       "25  European Life Cycle Database activities  class...   \n",
       "26                        Ecospold 2 elementary flows   \n",
       "27  International Reference Life Cycle Data System...   \n",
       "\n",
       "                                          Full name.1  \n",
       "1                      Central Product Classification  \n",
       "2                           Broad Economic Categories  \n",
       "3                               Combined Nomenclature  \n",
       "4                                   Harmonized System  \n",
       "5         Standard International Trade Classification  \n",
       "6                              FAOSTAT Commodity List  \n",
       "7              Classification of Products by Activity  \n",
       "8         Standard International Trade Classification  \n",
       "9                      Central Product Classification  \n",
       "10        Standard International Trade Classification  \n",
       "11                     Central Product Classification  \n",
       "12                                  Harmonized System  \n",
       "13                              Combined Nomenclature  \n",
       "14                              Combined Nomenclature  \n",
       "15                           PRODuction COMmunautaire  \n",
       "16        Standard International Trade Classification  \n",
       "17             Classification of Products by Activity  \n",
       "18                  Ecoinvent products classification  \n",
       "19                   Exiobase products classification  \n",
       "20                  Ecoinvent products classification  \n",
       "21  Classification of Economic Activities in the E...  \n",
       "22  International Standard Industrial Classificati...  \n",
       "23  Classification of Economic Activities in the E...  \n",
       "24                 Exiobase activities classification  \n",
       "25                 Exiobase activities classification  \n",
       "26  International Reference Life Cycle Data System...  \n",
       "27                                                NaN  "
      ]
     },
     "execution_count": 22,
     "metadata": {},
     "output_type": "execute_result"
    }
   ],
   "source": [
    "overview[['Full name','Full name.1']]"
   ]
  },
  {
   "cell_type": "markdown",
   "metadata": {},
   "source": [
    "it could be a good idea to use use always lowercase."
   ]
  },
  {
   "cell_type": "code",
   "execution_count": 23,
   "metadata": {
    "scrolled": true
   },
   "outputs": [
    {
     "data": {
      "text/plain": [
       "FROM classification:                                                         SITC\n",
       "Full name                             Standard International Trade Classification\n",
       "Author/organization                                                United Nations\n",
       "TO classification:                                                            CPC\n",
       "Full name.1                                        Central Product Classification\n",
       "Author/organization.1                                              United Nations\n",
       "Type of clasifications                                                   products\n",
       "Status of the correspondance file                          Completed and Verified\n",
       "Comment                                                                       NaN\n",
       "Name: 1, dtype: object"
      ]
     },
     "execution_count": 23,
     "metadata": {},
     "output_type": "execute_result"
    }
   ],
   "source": [
    "overview.loc[1]"
   ]
  },
  {
   "cell_type": "markdown",
   "metadata": {},
   "source": [
    "## Exiobase2 nace2008"
   ]
  },
  {
   "cell_type": "markdown",
   "metadata": {},
   "source": [
    "it is interpreting the last column as if there was something but it is empty. probably it would be necessary to know the version of exiobase "
   ]
  },
  {
   "cell_type": "code",
   "execution_count": 73,
   "metadata": {
    "scrolled": true
   },
   "outputs": [
    {
     "data": {
      "text/html": [
       "<div>\n",
       "<style scoped>\n",
       "    .dataframe tbody tr th:only-of-type {\n",
       "        vertical-align: middle;\n",
       "    }\n",
       "\n",
       "    .dataframe tbody tr th {\n",
       "        vertical-align: top;\n",
       "    }\n",
       "\n",
       "    .dataframe thead th {\n",
       "        text-align: right;\n",
       "    }\n",
       "</style>\n",
       "<table border=\"1\" class=\"dataframe\">\n",
       "  <thead>\n",
       "    <tr style=\"text-align: right;\">\n",
       "      <th></th>\n",
       "      <th>IndustryTypeCode</th>\n",
       "      <th>IndustryTypeName</th>\n",
       "      <th>NACE Code A</th>\n",
       "      <th>A</th>\n",
       "      <th>Unnamed: 4</th>\n",
       "    </tr>\n",
       "  </thead>\n",
       "  <tbody>\n",
       "    <tr>\n",
       "      <th>0</th>\n",
       "      <td>i01.a</td>\n",
       "      <td>Cultivation of paddy rice</td>\n",
       "      <td>1.10</td>\n",
       "      <td>Growing of non-perennial crops</td>\n",
       "      <td>NaN</td>\n",
       "    </tr>\n",
       "    <tr>\n",
       "      <th>1</th>\n",
       "      <td>i01.a</td>\n",
       "      <td>Cultivation of paddy rice</td>\n",
       "      <td>1.12</td>\n",
       "      <td>Growing of rice</td>\n",
       "      <td>NaN</td>\n",
       "    </tr>\n",
       "    <tr>\n",
       "      <th>2</th>\n",
       "      <td>i01.b</td>\n",
       "      <td>Cultivation of wheat</td>\n",
       "      <td>1.11</td>\n",
       "      <td>Growing of cereals (except rice), leguminous c...</td>\n",
       "      <td>NaN</td>\n",
       "    </tr>\n",
       "  </tbody>\n",
       "</table>\n",
       "</div>"
      ],
      "text/plain": [
       "  IndustryTypeCode           IndustryTypeName  NACE Code A  \\\n",
       "0            i01.a  Cultivation of paddy rice         1.10   \n",
       "1            i01.a  Cultivation of paddy rice         1.12   \n",
       "2            i01.b       Cultivation of wheat         1.11   \n",
       "\n",
       "                                                   A Unnamed: 4  \n",
       "0                     Growing of non-perennial crops        NaN  \n",
       "1                                    Growing of rice        NaN  \n",
       "2  Growing of cereals (except rice), leguminous c...        NaN  "
      ]
     },
     "execution_count": 73,
     "metadata": {},
     "output_type": "execute_result"
    }
   ],
   "source": [
    "ex_to_nace_df=pd.read_csv('raw/exiobase2_to_NACE2008_v2.csv')\n",
    "ex_to_nace_df.head(3)"
   ]
  },
  {
   "cell_type": "markdown",
   "metadata": {},
   "source": [
    "there is a 4th column without name which is mostly empty."
   ]
  },
  {
   "cell_type": "code",
   "execution_count": 20,
   "metadata": {},
   "outputs": [
    {
     "data": {
      "text/html": [
       "<div>\n",
       "<style scoped>\n",
       "    .dataframe tbody tr th:only-of-type {\n",
       "        vertical-align: middle;\n",
       "    }\n",
       "\n",
       "    .dataframe tbody tr th {\n",
       "        vertical-align: top;\n",
       "    }\n",
       "\n",
       "    .dataframe thead th {\n",
       "        text-align: right;\n",
       "    }\n",
       "</style>\n",
       "<table border=\"1\" class=\"dataframe\">\n",
       "  <thead>\n",
       "    <tr style=\"text-align: right;\">\n",
       "      <th></th>\n",
       "      <th>IndustryTypeCode</th>\n",
       "      <th>IndustryTypeName</th>\n",
       "      <th>NACE Code A</th>\n",
       "      <th>A</th>\n",
       "      <th>Unnamed: 4</th>\n",
       "    </tr>\n",
       "  </thead>\n",
       "  <tbody>\n",
       "    <tr>\n",
       "      <th>68</th>\n",
       "      <td>i14.1</td>\n",
       "      <td>Quarrying of stone</td>\n",
       "      <td>8.11</td>\n",
       "      <td>Quarrying of ornamental and building stone, li...</td>\n",
       "      <td>08.9 Mining and quarrying n.e.c. MINUS 08.92 E...</td>\n",
       "    </tr>\n",
       "    <tr>\n",
       "      <th>112</th>\n",
       "      <td>i23.3</td>\n",
       "      <td>Processing of nuclear fuel</td>\n",
       "      <td>20.13</td>\n",
       "      <td>Manufacture of other inorganic basic chemicals</td>\n",
       "      <td>Enrichment of uranium</td>\n",
       "    </tr>\n",
       "    <tr>\n",
       "      <th>113</th>\n",
       "      <td>i23.3</td>\n",
       "      <td>Processing of nuclear fuel</td>\n",
       "      <td>21.20</td>\n",
       "      <td>Manufacture of pharmaceutical preparations</td>\n",
       "      <td>Radioactive in-vivo diagnostic substances</td>\n",
       "    </tr>\n",
       "    <tr>\n",
       "      <th>114</th>\n",
       "      <td>i23.3</td>\n",
       "      <td>Processing of nuclear fuel</td>\n",
       "      <td>24.46</td>\n",
       "      <td>Processing of nuclear fuel</td>\n",
       "      <td>Except enrichment of uranium.</td>\n",
       "    </tr>\n",
       "    <tr>\n",
       "      <th>115</th>\n",
       "      <td>i23.3</td>\n",
       "      <td>Processing of nuclear fuel</td>\n",
       "      <td>38.12</td>\n",
       "      <td>Collection of hazardous waste</td>\n",
       "      <td>Collection and treatment of radioactive nuclea...</td>\n",
       "    </tr>\n",
       "    <tr>\n",
       "      <th>116</th>\n",
       "      <td>i23.3</td>\n",
       "      <td>Processing of nuclear fuel</td>\n",
       "      <td>38.22</td>\n",
       "      <td>Treatment and disposal of hazardous waste</td>\n",
       "      <td>Treatment, disposal and storage of radioactive...</td>\n",
       "    </tr>\n",
       "  </tbody>\n",
       "</table>\n",
       "</div>"
      ],
      "text/plain": [
       "    IndustryTypeCode            IndustryTypeName  NACE Code A  \\\n",
       "68             i14.1          Quarrying of stone         8.11   \n",
       "112            i23.3  Processing of nuclear fuel        20.13   \n",
       "113            i23.3  Processing of nuclear fuel        21.20   \n",
       "114            i23.3  Processing of nuclear fuel        24.46   \n",
       "115            i23.3  Processing of nuclear fuel        38.12   \n",
       "116            i23.3  Processing of nuclear fuel        38.22   \n",
       "\n",
       "                                                     A  \\\n",
       "68   Quarrying of ornamental and building stone, li...   \n",
       "112     Manufacture of other inorganic basic chemicals   \n",
       "113         Manufacture of pharmaceutical preparations   \n",
       "114                        Processing of nuclear fuel    \n",
       "115                      Collection of hazardous waste   \n",
       "116          Treatment and disposal of hazardous waste   \n",
       "\n",
       "                                            Unnamed: 4  \n",
       "68   08.9 Mining and quarrying n.e.c. MINUS 08.92 E...  \n",
       "112                              Enrichment of uranium  \n",
       "113          Radioactive in-vivo diagnostic substances  \n",
       "114                      Except enrichment of uranium.  \n",
       "115  Collection and treatment of radioactive nuclea...  \n",
       "116  Treatment, disposal and storage of radioactive...  "
      ]
     },
     "execution_count": 20,
     "metadata": {},
     "output_type": "execute_result"
    }
   ],
   "source": [
    "ex_to_nace_df[ex_to_nace_df['Unnamed: 4'].notna()]"
   ]
  },
  {
   "cell_type": "markdown",
   "metadata": {},
   "source": [
    "lets work with the assumption that we erase that almost empty column."
   ]
  },
  {
   "cell_type": "code",
   "execution_count": 24,
   "metadata": {},
   "outputs": [],
   "source": [
    "ex_to_nace_df=ex_to_nace_df.drop('Unnamed: 4',axis=1)"
   ]
  },
  {
   "cell_type": "code",
   "execution_count": 30,
   "metadata": {},
   "outputs": [],
   "source": [
    "ex_to_nace_df.to_csv('final_tables/exiobase2_to_NACE2008_v2.csv',index=None)"
   ]
  },
  {
   "cell_type": "markdown",
   "metadata": {},
   "source": [
    "## create a frictionless data descriptor (metadata)\n",
    "\n",
    "example here : https://github.com/frictionlessdata/tableschema-py"
   ]
  },
  {
   "cell_type": "code",
   "execution_count": 27,
   "metadata": {},
   "outputs": [],
   "source": [
    "ex_to_nace = Table('final_tables/exiobase2_to_NACE2008_v2.csv')"
   ]
  },
  {
   "cell_type": "code",
   "execution_count": 31,
   "metadata": {
    "scrolled": true
   },
   "outputs": [
    {
     "data": {
      "text/plain": [
       "{'IndustryTypeCode': 'i01.a',\n",
       " 'IndustryTypeName': 'Cultivation of paddy rice',\n",
       " 'NACE Code A': '1.1',\n",
       " 'A': 'Growing of non-perennial crops'}"
      ]
     },
     "execution_count": 31,
     "metadata": {},
     "output_type": "execute_result"
    }
   ],
   "source": [
    "ex_to_nace.read(keyed=True)[0]"
   ]
  },
  {
   "cell_type": "markdown",
   "metadata": {},
   "source": [
    "infer data types"
   ]
  },
  {
   "cell_type": "code",
   "execution_count": 32,
   "metadata": {},
   "outputs": [
    {
     "data": {
      "text/plain": [
       "{'fields': [{'name': 'IndustryTypeCode',\n",
       "   'type': 'string',\n",
       "   'format': 'default'},\n",
       "  {'name': 'IndustryTypeName', 'type': 'string', 'format': 'default'},\n",
       "  {'name': 'NACE Code A', 'type': 'number', 'format': 'default'},\n",
       "  {'name': 'A', 'type': 'string', 'format': 'default'}],\n",
       " 'missingValues': ['']}"
      ]
     },
     "execution_count": 32,
     "metadata": {},
     "output_type": "execute_result"
    }
   ],
   "source": [
    "ex_to_nace.infer()"
   ]
  },
  {
   "cell_type": "code",
   "execution_count": 33,
   "metadata": {},
   "outputs": [
    {
     "data": {
      "text/plain": [
       "{'fields': [{'name': 'IndustryTypeCode',\n",
       "   'type': 'string',\n",
       "   'format': 'default'},\n",
       "  {'name': 'IndustryTypeName', 'type': 'string', 'format': 'default'},\n",
       "  {'name': 'NACE Code A', 'type': 'number', 'format': 'default'},\n",
       "  {'name': 'A', 'type': 'string', 'format': 'default'}],\n",
       " 'missingValues': ['']}"
      ]
     },
     "execution_count": 33,
     "metadata": {},
     "output_type": "execute_result"
    }
   ],
   "source": [
    "ex_to_nace.schema.descriptor"
   ]
  },
  {
   "cell_type": "code",
   "execution_count": 34,
   "metadata": {},
   "outputs": [
    {
     "ename": "CastError",
     "evalue": "Table headers don't match schema field names",
     "output_type": "error",
     "traceback": [
      "\u001b[1;31m---------------------------------------------------------------------------\u001b[0m",
      "\u001b[1;31mCastError\u001b[0m                                 Traceback (most recent call last)",
      "\u001b[1;32m<ipython-input-34-672edd32ac89>\u001b[0m in \u001b[0;36m<module>\u001b[1;34m\u001b[0m\n\u001b[1;32m----> 1\u001b[1;33m \u001b[0mex_to_nace\u001b[0m\u001b[1;33m.\u001b[0m\u001b[0mread\u001b[0m\u001b[1;33m(\u001b[0m\u001b[0mkeyed\u001b[0m\u001b[1;33m=\u001b[0m\u001b[1;32mTrue\u001b[0m\u001b[1;33m)\u001b[0m\u001b[1;33m\u001b[0m\u001b[1;33m\u001b[0m\u001b[0m\n\u001b[0m",
      "\u001b[1;32m~\\Anaconda3\\envs\\bw2\\lib\\site-packages\\tableschema\\table.py\u001b[0m in \u001b[0;36mread\u001b[1;34m(self, keyed, extended, cast, relations, limit)\u001b[0m\n\u001b[0;32m    131\u001b[0m         \u001b[0mresult\u001b[0m \u001b[1;33m=\u001b[0m \u001b[1;33m[\u001b[0m\u001b[1;33m]\u001b[0m\u001b[1;33m\u001b[0m\u001b[1;33m\u001b[0m\u001b[0m\n\u001b[0;32m    132\u001b[0m         \u001b[0mrows\u001b[0m \u001b[1;33m=\u001b[0m \u001b[0mself\u001b[0m\u001b[1;33m.\u001b[0m\u001b[0miter\u001b[0m\u001b[1;33m(\u001b[0m\u001b[0mkeyed\u001b[0m\u001b[1;33m=\u001b[0m\u001b[0mkeyed\u001b[0m\u001b[1;33m,\u001b[0m \u001b[0mextended\u001b[0m\u001b[1;33m=\u001b[0m\u001b[0mextended\u001b[0m\u001b[1;33m,\u001b[0m \u001b[0mcast\u001b[0m\u001b[1;33m=\u001b[0m\u001b[0mcast\u001b[0m\u001b[1;33m,\u001b[0m \u001b[0mrelations\u001b[0m\u001b[1;33m=\u001b[0m\u001b[0mrelations\u001b[0m\u001b[1;33m)\u001b[0m\u001b[1;33m\u001b[0m\u001b[1;33m\u001b[0m\u001b[0m\n\u001b[1;32m--> 133\u001b[1;33m         \u001b[1;32mfor\u001b[0m \u001b[0mcount\u001b[0m\u001b[1;33m,\u001b[0m \u001b[0mrow\u001b[0m \u001b[1;32min\u001b[0m \u001b[0menumerate\u001b[0m\u001b[1;33m(\u001b[0m\u001b[0mrows\u001b[0m\u001b[1;33m,\u001b[0m \u001b[0mstart\u001b[0m\u001b[1;33m=\u001b[0m\u001b[1;36m1\u001b[0m\u001b[1;33m)\u001b[0m\u001b[1;33m:\u001b[0m\u001b[1;33m\u001b[0m\u001b[1;33m\u001b[0m\u001b[0m\n\u001b[0m\u001b[0;32m    134\u001b[0m             \u001b[0mresult\u001b[0m\u001b[1;33m.\u001b[0m\u001b[0mappend\u001b[0m\u001b[1;33m(\u001b[0m\u001b[0mrow\u001b[0m\u001b[1;33m)\u001b[0m\u001b[1;33m\u001b[0m\u001b[1;33m\u001b[0m\u001b[0m\n\u001b[0;32m    135\u001b[0m             \u001b[1;32mif\u001b[0m \u001b[0mcount\u001b[0m \u001b[1;33m==\u001b[0m \u001b[0mlimit\u001b[0m\u001b[1;33m:\u001b[0m\u001b[1;33m\u001b[0m\u001b[1;33m\u001b[0m\u001b[0m\n",
      "\u001b[1;32m~\\Anaconda3\\envs\\bw2\\lib\\site-packages\\tableschema\\table.py\u001b[0m in \u001b[0;36miter\u001b[1;34m(self, keyed, extended, cast, relations)\u001b[0m\n\u001b[0;32m     90\u001b[0m                         \u001b[0mself\u001b[0m\u001b[1;33m.\u001b[0m\u001b[0m__stream\u001b[0m\u001b[1;33m.\u001b[0m\u001b[0mclose\u001b[0m\u001b[1;33m(\u001b[0m\u001b[1;33m)\u001b[0m\u001b[1;33m\u001b[0m\u001b[1;33m\u001b[0m\u001b[0m\n\u001b[0;32m     91\u001b[0m                         \u001b[0mmessage\u001b[0m \u001b[1;33m=\u001b[0m \u001b[1;34m'Table headers don\\'t match schema field names'\u001b[0m\u001b[1;33m\u001b[0m\u001b[1;33m\u001b[0m\u001b[0m\n\u001b[1;32m---> 92\u001b[1;33m                         \u001b[1;32mraise\u001b[0m \u001b[0mexceptions\u001b[0m\u001b[1;33m.\u001b[0m\u001b[0mCastError\u001b[0m\u001b[1;33m(\u001b[0m\u001b[0mmessage\u001b[0m\u001b[1;33m)\u001b[0m\u001b[1;33m\u001b[0m\u001b[1;33m\u001b[0m\u001b[0m\n\u001b[0m\u001b[0;32m     93\u001b[0m \u001b[1;33m\u001b[0m\u001b[0m\n\u001b[0;32m     94\u001b[0m             \u001b[1;31m# Check unique\u001b[0m\u001b[1;33m\u001b[0m\u001b[1;33m\u001b[0m\u001b[1;33m\u001b[0m\u001b[0m\n",
      "\u001b[1;31mCastError\u001b[0m: Table headers don't match schema field names"
     ]
    }
   ],
   "source": [
    "ex_to_nace.read(keyed=True)"
   ]
  },
  {
   "cell_type": "markdown",
   "metadata": {},
   "source": [
    "alternatively use the web interface : http://try.goodtables.io/"
   ]
  },
  {
   "cell_type": "code",
   "execution_count": 37,
   "metadata": {},
   "outputs": [],
   "source": [
    "report=validate('final_tables/exiobase2_to_NACE2008_v2.csv')"
   ]
  },
  {
   "cell_type": "code",
   "execution_count": 49,
   "metadata": {
    "scrolled": false
   },
   "outputs": [
    {
     "name": "stdout",
     "output_type": "stream",
     "text": [
      "duplicate-row 38\n",
      "duplicate-row 41\n",
      "duplicate-row 49\n",
      "duplicate-row 108\n",
      "duplicate-row 165\n",
      "duplicate-row 184\n",
      "duplicate-row 186\n",
      "duplicate-row 191\n",
      "duplicate-row 193\n",
      "duplicate-row 195\n",
      "duplicate-row 243\n",
      "duplicate-row 245\n"
     ]
    }
   ],
   "source": [
    "for error in report['tables'][0]['errors']:\n",
    "    print(error['code'],error['row-number'])"
   ]
  },
  {
   "cell_type": "markdown",
   "metadata": {},
   "source": [
    "there are indeed 12 duplicated rows."
   ]
  },
  {
   "cell_type": "code",
   "execution_count": 52,
   "metadata": {},
   "outputs": [
    {
     "data": {
      "text/plain": [
       "12"
      ]
     },
     "execution_count": 52,
     "metadata": {},
     "output_type": "execute_result"
    }
   ],
   "source": [
    "ex_to_nace_df.duplicated().sum()"
   ]
  },
  {
   "cell_type": "code",
   "execution_count": 55,
   "metadata": {
    "collapsed": true
   },
   "outputs": [
    {
     "data": {
      "text/html": [
       "<div>\n",
       "<style scoped>\n",
       "    .dataframe tbody tr th:only-of-type {\n",
       "        vertical-align: middle;\n",
       "    }\n",
       "\n",
       "    .dataframe tbody tr th {\n",
       "        vertical-align: top;\n",
       "    }\n",
       "\n",
       "    .dataframe thead th {\n",
       "        text-align: right;\n",
       "    }\n",
       "</style>\n",
       "<table border=\"1\" class=\"dataframe\">\n",
       "  <thead>\n",
       "    <tr style=\"text-align: right;\">\n",
       "      <th></th>\n",
       "      <th>IndustryTypeCode</th>\n",
       "      <th>IndustryTypeName</th>\n",
       "      <th>NACE Code A</th>\n",
       "      <th>A</th>\n",
       "    </tr>\n",
       "  </thead>\n",
       "  <tbody>\n",
       "    <tr>\n",
       "      <th>35</th>\n",
       "      <td>i01.l</td>\n",
       "      <td>Meat animals nec</td>\n",
       "      <td>1.70</td>\n",
       "      <td>Hunting, trapping and related service activities</td>\n",
       "    </tr>\n",
       "    <tr>\n",
       "      <th>36</th>\n",
       "      <td>i01.l</td>\n",
       "      <td>Meat animals nec</td>\n",
       "      <td>1.70</td>\n",
       "      <td>Hunting, trapping and related service activities</td>\n",
       "    </tr>\n",
       "    <tr>\n",
       "      <th>38</th>\n",
       "      <td>i01.m</td>\n",
       "      <td>Animal products nec</td>\n",
       "      <td>10.10</td>\n",
       "      <td>Processing and preserving of meat and producti...</td>\n",
       "    </tr>\n",
       "    <tr>\n",
       "      <th>39</th>\n",
       "      <td>i01.m</td>\n",
       "      <td>Animal products nec</td>\n",
       "      <td>10.10</td>\n",
       "      <td>Processing and preserving of meat and producti...</td>\n",
       "    </tr>\n",
       "    <tr>\n",
       "      <th>46</th>\n",
       "      <td>i01.w.1</td>\n",
       "      <td>Manure treatment (conventional), storage and l...</td>\n",
       "      <td>NaN</td>\n",
       "      <td>NaN</td>\n",
       "    </tr>\n",
       "    <tr>\n",
       "      <th>47</th>\n",
       "      <td>i01.w.1</td>\n",
       "      <td>Manure treatment (conventional), storage and l...</td>\n",
       "      <td>NaN</td>\n",
       "      <td>NaN</td>\n",
       "    </tr>\n",
       "    <tr>\n",
       "      <th>105</th>\n",
       "      <td>i21.2</td>\n",
       "      <td>Paper</td>\n",
       "      <td>17.12</td>\n",
       "      <td>Manufacture of paper and paperboard</td>\n",
       "    </tr>\n",
       "    <tr>\n",
       "      <th>106</th>\n",
       "      <td>i21.2</td>\n",
       "      <td>Paper</td>\n",
       "      <td>17.12</td>\n",
       "      <td>Manufacture of paper and paperboard</td>\n",
       "    </tr>\n",
       "    <tr>\n",
       "      <th>162</th>\n",
       "      <td>i29</td>\n",
       "      <td>Manufacture of machinery and equipment n.e.c.</td>\n",
       "      <td>28.30</td>\n",
       "      <td>Manufacture of agricultural and forestry machi...</td>\n",
       "    </tr>\n",
       "    <tr>\n",
       "      <th>163</th>\n",
       "      <td>i29</td>\n",
       "      <td>Manufacture of machinery and equipment n.e.c.</td>\n",
       "      <td>28.30</td>\n",
       "      <td>Manufacture of agricultural and forestry machi...</td>\n",
       "    </tr>\n",
       "    <tr>\n",
       "      <th>181</th>\n",
       "      <td>i32</td>\n",
       "      <td>Manufacture of radio, television and communica...</td>\n",
       "      <td>26.30</td>\n",
       "      <td>Manufacture of communication equipment</td>\n",
       "    </tr>\n",
       "    <tr>\n",
       "      <th>182</th>\n",
       "      <td>i32</td>\n",
       "      <td>Manufacture of radio, television and communica...</td>\n",
       "      <td>26.30</td>\n",
       "      <td>Manufacture of communication equipment</td>\n",
       "    </tr>\n",
       "    <tr>\n",
       "      <th>183</th>\n",
       "      <td>i32</td>\n",
       "      <td>Manufacture of radio, television and communica...</td>\n",
       "      <td>26.40</td>\n",
       "      <td>Manufacture of consumer electronics</td>\n",
       "    </tr>\n",
       "    <tr>\n",
       "      <th>184</th>\n",
       "      <td>i32</td>\n",
       "      <td>Manufacture of radio, television and communica...</td>\n",
       "      <td>26.40</td>\n",
       "      <td>Manufacture of consumer electronics</td>\n",
       "    </tr>\n",
       "    <tr>\n",
       "      <th>188</th>\n",
       "      <td>i33</td>\n",
       "      <td>Manufacture of medical, precision and optical ...</td>\n",
       "      <td>26.60</td>\n",
       "      <td>Manufacture of irradiation, electromedical and...</td>\n",
       "    </tr>\n",
       "    <tr>\n",
       "      <th>189</th>\n",
       "      <td>i33</td>\n",
       "      <td>Manufacture of medical, precision and optical ...</td>\n",
       "      <td>26.60</td>\n",
       "      <td>Manufacture of irradiation, electromedical and...</td>\n",
       "    </tr>\n",
       "    <tr>\n",
       "      <th>190</th>\n",
       "      <td>i33</td>\n",
       "      <td>Manufacture of medical, precision and optical ...</td>\n",
       "      <td>26.70</td>\n",
       "      <td>Manufacture of optical instruments and photogr...</td>\n",
       "    </tr>\n",
       "    <tr>\n",
       "      <th>191</th>\n",
       "      <td>i33</td>\n",
       "      <td>Manufacture of medical, precision and optical ...</td>\n",
       "      <td>26.70</td>\n",
       "      <td>Manufacture of optical instruments and photogr...</td>\n",
       "    </tr>\n",
       "    <tr>\n",
       "      <th>192</th>\n",
       "      <td>i33</td>\n",
       "      <td>Manufacture of medical, precision and optical ...</td>\n",
       "      <td>26.80</td>\n",
       "      <td>Manufacture of magnetic and optical media</td>\n",
       "    </tr>\n",
       "    <tr>\n",
       "      <th>193</th>\n",
       "      <td>i33</td>\n",
       "      <td>Manufacture of medical, precision and optical ...</td>\n",
       "      <td>26.80</td>\n",
       "      <td>Manufacture of magnetic and optical media</td>\n",
       "    </tr>\n",
       "    <tr>\n",
       "      <th>240</th>\n",
       "      <td>i60.1</td>\n",
       "      <td>Transport via railways</td>\n",
       "      <td>49.10</td>\n",
       "      <td>Passenger rail transport, interurban</td>\n",
       "    </tr>\n",
       "    <tr>\n",
       "      <th>241</th>\n",
       "      <td>i60.1</td>\n",
       "      <td>Transport via railways</td>\n",
       "      <td>49.10</td>\n",
       "      <td>Passenger rail transport, interurban</td>\n",
       "    </tr>\n",
       "    <tr>\n",
       "      <th>242</th>\n",
       "      <td>i60.1</td>\n",
       "      <td>Transport via railways</td>\n",
       "      <td>49.20</td>\n",
       "      <td>Freight rail transport</td>\n",
       "    </tr>\n",
       "    <tr>\n",
       "      <th>243</th>\n",
       "      <td>i60.1</td>\n",
       "      <td>Transport via railways</td>\n",
       "      <td>49.20</td>\n",
       "      <td>Freight rail transport</td>\n",
       "    </tr>\n",
       "  </tbody>\n",
       "</table>\n",
       "</div>"
      ],
      "text/plain": [
       "    IndustryTypeCode                                   IndustryTypeName  \\\n",
       "35             i01.l                                   Meat animals nec   \n",
       "36             i01.l                                   Meat animals nec   \n",
       "38             i01.m                                Animal products nec   \n",
       "39             i01.m                                Animal products nec   \n",
       "46           i01.w.1  Manure treatment (conventional), storage and l...   \n",
       "47           i01.w.1  Manure treatment (conventional), storage and l...   \n",
       "105            i21.2                                              Paper   \n",
       "106            i21.2                                              Paper   \n",
       "162              i29      Manufacture of machinery and equipment n.e.c.   \n",
       "163              i29      Manufacture of machinery and equipment n.e.c.   \n",
       "181              i32  Manufacture of radio, television and communica...   \n",
       "182              i32  Manufacture of radio, television and communica...   \n",
       "183              i32  Manufacture of radio, television and communica...   \n",
       "184              i32  Manufacture of radio, television and communica...   \n",
       "188              i33  Manufacture of medical, precision and optical ...   \n",
       "189              i33  Manufacture of medical, precision and optical ...   \n",
       "190              i33  Manufacture of medical, precision and optical ...   \n",
       "191              i33  Manufacture of medical, precision and optical ...   \n",
       "192              i33  Manufacture of medical, precision and optical ...   \n",
       "193              i33  Manufacture of medical, precision and optical ...   \n",
       "240            i60.1                             Transport via railways   \n",
       "241            i60.1                             Transport via railways   \n",
       "242            i60.1                             Transport via railways   \n",
       "243            i60.1                             Transport via railways   \n",
       "\n",
       "     NACE Code A                                                  A  \n",
       "35          1.70   Hunting, trapping and related service activities  \n",
       "36          1.70   Hunting, trapping and related service activities  \n",
       "38         10.10  Processing and preserving of meat and producti...  \n",
       "39         10.10  Processing and preserving of meat and producti...  \n",
       "46           NaN                                                NaN  \n",
       "47           NaN                                                NaN  \n",
       "105        17.12                Manufacture of paper and paperboard  \n",
       "106        17.12                Manufacture of paper and paperboard  \n",
       "162        28.30  Manufacture of agricultural and forestry machi...  \n",
       "163        28.30  Manufacture of agricultural and forestry machi...  \n",
       "181        26.30             Manufacture of communication equipment  \n",
       "182        26.30             Manufacture of communication equipment  \n",
       "183        26.40                Manufacture of consumer electronics  \n",
       "184        26.40                Manufacture of consumer electronics  \n",
       "188        26.60  Manufacture of irradiation, electromedical and...  \n",
       "189        26.60  Manufacture of irradiation, electromedical and...  \n",
       "190        26.70  Manufacture of optical instruments and photogr...  \n",
       "191        26.70  Manufacture of optical instruments and photogr...  \n",
       "192        26.80          Manufacture of magnetic and optical media  \n",
       "193        26.80          Manufacture of magnetic and optical media  \n",
       "240        49.10               Passenger rail transport, interurban  \n",
       "241        49.10               Passenger rail transport, interurban  \n",
       "242        49.20                             Freight rail transport  \n",
       "243        49.20                             Freight rail transport  "
      ]
     },
     "execution_count": 55,
     "metadata": {},
     "output_type": "execute_result"
    }
   ],
   "source": [
    "ex_to_nace_df[ex_to_nace_df.duplicated(keep=False)]"
   ]
  },
  {
   "cell_type": "code",
   "execution_count": 57,
   "metadata": {},
   "outputs": [],
   "source": [
    "ex_to_nace_df=ex_to_nace_df.drop_duplicates()"
   ]
  },
  {
   "cell_type": "code",
   "execution_count": 58,
   "metadata": {},
   "outputs": [],
   "source": [
    "ex_to_nace_df.to_csv('final_tables/exiobase2_to_NACE2008_v2.csv',index=None)"
   ]
  },
  {
   "cell_type": "code",
   "execution_count": 59,
   "metadata": {},
   "outputs": [],
   "source": [
    "report=validate('final_tables/exiobase2_to_NACE2008_v2.csv')"
   ]
  },
  {
   "cell_type": "code",
   "execution_count": 64,
   "metadata": {},
   "outputs": [
    {
     "name": "stdout",
     "output_type": "stream",
     "text": [
      "hurray!\n"
     ]
    }
   ],
   "source": [
    "if (report['error-count']==0): print('hurray!')"
   ]
  },
  {
   "cell_type": "markdown",
   "metadata": {},
   "source": [
    "now that it is error free we can create the description"
   ]
  },
  {
   "cell_type": "markdown",
   "metadata": {},
   "source": [
    "we can add some fields to the descriptor:"
   ]
  },
  {
   "cell_type": "code",
   "execution_count": 71,
   "metadata": {},
   "outputs": [],
   "source": [
    "ex_to_nace.schema.descriptor['description']=\\\n",
    "'table linking exiobase v2 with NACE2008 (Statistical Classification of Economic Activities in the European Community)'"
   ]
  },
  {
   "cell_type": "code",
   "execution_count": 72,
   "metadata": {},
   "outputs": [],
   "source": [
    "ex_to_nace.schema.save('final_tables/exiobase2_to_NACE2008_v2.json')\n",
    "#ex_to_nace.save('data.csv')"
   ]
  },
  {
   "cell_type": "code",
   "execution_count": null,
   "metadata": {},
   "outputs": [],
   "source": []
  }
 ],
 "metadata": {
  "kernelspec": {
   "display_name": "Python 3",
   "language": "python",
   "name": "python3"
  },
  "language_info": {
   "codemirror_mode": {
    "name": "ipython",
    "version": 3
   },
   "file_extension": ".py",
   "mimetype": "text/x-python",
   "name": "python",
   "nbconvert_exporter": "python",
   "pygments_lexer": "ipython3",
   "version": "3.6.8"
  }
 },
 "nbformat": 4,
 "nbformat_minor": 2
}
