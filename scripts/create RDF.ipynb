{
 "cells": [
  {
   "cell_type": "code",
   "execution_count": 2,
   "metadata": {},
   "outputs": [],
   "source": [
    "import json\n",
    "import pandas as pd"
   ]
  },
  {
   "cell_type": "markdown",
   "metadata": {},
   "source": [
    "# Bentso technologies"
   ]
  },
  {
   "cell_type": "code",
   "execution_count": 88,
   "metadata": {},
   "outputs": [
    {
     "data": {
      "text/html": [
       "<div>\n",
       "<style scoped>\n",
       "    .dataframe tbody tr th:only-of-type {\n",
       "        vertical-align: middle;\n",
       "    }\n",
       "\n",
       "    .dataframe tbody tr th {\n",
       "        vertical-align: top;\n",
       "    }\n",
       "\n",
       "    .dataframe thead th {\n",
       "        text-align: right;\n",
       "    }\n",
       "</style>\n",
       "<table border=\"1\" class=\"dataframe\">\n",
       "  <thead>\n",
       "    <tr style=\"text-align: right;\">\n",
       "      <th></th>\n",
       "      <th>Bentso technology</th>\n",
       "      <th>uri</th>\n",
       "    </tr>\n",
       "  </thead>\n",
       "  <tbody>\n",
       "    <tr>\n",
       "      <th>0</th>\n",
       "      <td>Fossil Hard coal</td>\n",
       "      <td>http://rdf.bonsai.uno/activitytype/entsoe/Foss...</td>\n",
       "    </tr>\n",
       "  </tbody>\n",
       "</table>\n",
       "</div>"
      ],
      "text/plain": [
       "  Bentso technology                                                uri\n",
       "0  Fossil Hard coal  http://rdf.bonsai.uno/activitytype/entsoe/Foss..."
      ]
     },
     "execution_count": 88,
     "metadata": {},
     "output_type": "execute_result"
    }
   ],
   "source": [
    "bentso_label_uri=pd.read_csv('../final_tables/tables/bentso_activity_types_uri.csv')\n",
    "bentso_label_uri.head(1)"
   ]
  },
  {
   "cell_type": "code",
   "execution_count": 89,
   "metadata": {},
   "outputs": [
    {
     "data": {
      "text/html": [
       "<div>\n",
       "<style scoped>\n",
       "    .dataframe tbody tr th:only-of-type {\n",
       "        vertical-align: middle;\n",
       "    }\n",
       "\n",
       "    .dataframe tbody tr th {\n",
       "        vertical-align: top;\n",
       "    }\n",
       "\n",
       "    .dataframe thead th {\n",
       "        text-align: right;\n",
       "    }\n",
       "</style>\n",
       "<table border=\"1\" class=\"dataframe\">\n",
       "  <thead>\n",
       "    <tr style=\"text-align: right;\">\n",
       "      <th></th>\n",
       "      <th>Exiobase Activity name</th>\n",
       "      <th>Bentso technology</th>\n",
       "    </tr>\n",
       "  </thead>\n",
       "  <tbody>\n",
       "    <tr>\n",
       "      <th>0</th>\n",
       "      <td>Cultivation of paddy rice</td>\n",
       "      <td>NaN</td>\n",
       "    </tr>\n",
       "  </tbody>\n",
       "</table>\n",
       "</div>"
      ],
      "text/plain": [
       "      Exiobase Activity name Bentso technology\n",
       "0  Cultivation of paddy rice               NaN"
      ]
     },
     "execution_count": 89,
     "metadata": {},
     "output_type": "execute_result"
    }
   ],
   "source": [
    "exiobase2bentso=pd.read_csv('../final_tables/tables/exiobase_to_bentso_activities.csv')\n",
    "exiobase2bentso.head(1)"
   ]
  },
  {
   "cell_type": "code",
   "execution_count": 90,
   "metadata": {
    "scrolled": true
   },
   "outputs": [
    {
     "data": {
      "text/html": [
       "<div>\n",
       "<style scoped>\n",
       "    .dataframe tbody tr th:only-of-type {\n",
       "        vertical-align: middle;\n",
       "    }\n",
       "\n",
       "    .dataframe tbody tr th {\n",
       "        vertical-align: top;\n",
       "    }\n",
       "\n",
       "    .dataframe thead th {\n",
       "        text-align: right;\n",
       "    }\n",
       "</style>\n",
       "<table border=\"1\" class=\"dataframe\">\n",
       "  <thead>\n",
       "    <tr style=\"text-align: right;\">\n",
       "      <th></th>\n",
       "      <th>Activity name</th>\n",
       "      <th>Activity code 1</th>\n",
       "      <th>Activity code 2</th>\n",
       "    </tr>\n",
       "  </thead>\n",
       "  <tbody>\n",
       "    <tr>\n",
       "      <th>0</th>\n",
       "      <td>Cultivation of paddy rice</td>\n",
       "      <td>i01.a</td>\n",
       "      <td>A_PARI</td>\n",
       "    </tr>\n",
       "  </tbody>\n",
       "</table>\n",
       "</div>"
      ],
      "text/plain": [
       "               Activity name Activity code 1 Activity code 2\n",
       "0  Cultivation of paddy rice           i01.a          A_PARI"
      ]
     },
     "execution_count": 90,
     "metadata": {},
     "output_type": "execute_result"
    }
   ],
   "source": [
    "exiobase_labels=pd.read_csv('../raw/exiobase_v3_3_17_activities.csv')\n",
    "exiobase_labels.head(1)"
   ]
  },
  {
   "cell_type": "code",
   "execution_count": 91,
   "metadata": {},
   "outputs": [],
   "source": [
    "df=pd.merge(exiobase2bentso.dropna(),\n",
    "         exiobase_labels,\n",
    "         left_on='Exiobase Activity name',\n",
    "         right_on='Activity name')\\\n",
    ".set_index('Exiobase Activity name')[['Activity code 2','Bentso technology']]"
   ]
  },
  {
   "cell_type": "code",
   "execution_count": 106,
   "metadata": {},
   "outputs": [
    {
     "data": {
      "text/html": [
       "<div>\n",
       "<style scoped>\n",
       "    .dataframe tbody tr th:only-of-type {\n",
       "        vertical-align: middle;\n",
       "    }\n",
       "\n",
       "    .dataframe tbody tr th {\n",
       "        vertical-align: top;\n",
       "    }\n",
       "\n",
       "    .dataframe thead th {\n",
       "        text-align: right;\n",
       "    }\n",
       "</style>\n",
       "<table border=\"1\" class=\"dataframe\">\n",
       "  <thead>\n",
       "    <tr style=\"text-align: right;\">\n",
       "      <th></th>\n",
       "      <th>Activity code 2</th>\n",
       "      <th>Bentso technology</th>\n",
       "      <th>uri</th>\n",
       "    </tr>\n",
       "  </thead>\n",
       "  <tbody>\n",
       "    <tr>\n",
       "      <th>0</th>\n",
       "      <td>A_POWC</td>\n",
       "      <td>Fossil Hard coal</td>\n",
       "      <td>http://rdf.bonsai.uno/activitytype/entsoe/Foss...</td>\n",
       "    </tr>\n",
       "  </tbody>\n",
       "</table>\n",
       "</div>"
      ],
      "text/plain": [
       "  Activity code 2 Bentso technology  \\\n",
       "0          A_POWC  Fossil Hard coal   \n",
       "\n",
       "                                                 uri  \n",
       "0  http://rdf.bonsai.uno/activitytype/entsoe/Foss...  "
      ]
     },
     "execution_count": 106,
     "metadata": {},
     "output_type": "execute_result"
    }
   ],
   "source": [
    "ex2bentso_act=pd.merge(df,bentso_label_uri,on='Bentso technology')\n",
    "ex2bentso_act.head(1)"
   ]
  },
  {
   "cell_type": "code",
   "execution_count": 108,
   "metadata": {
    "scrolled": true
   },
   "outputs": [
    {
     "data": {
      "text/html": [
       "<div>\n",
       "<style scoped>\n",
       "    .dataframe tbody tr th:only-of-type {\n",
       "        vertical-align: middle;\n",
       "    }\n",
       "\n",
       "    .dataframe tbody tr th {\n",
       "        vertical-align: top;\n",
       "    }\n",
       "\n",
       "    .dataframe thead th {\n",
       "        text-align: right;\n",
       "    }\n",
       "</style>\n",
       "<table border=\"1\" class=\"dataframe\">\n",
       "  <thead>\n",
       "    <tr style=\"text-align: right;\">\n",
       "      <th></th>\n",
       "      <th>brdfat</th>\n",
       "      <th>rdfs:label</th>\n",
       "      <th>brdfatb</th>\n",
       "    </tr>\n",
       "  </thead>\n",
       "  <tbody>\n",
       "    <tr>\n",
       "      <th>0</th>\n",
       "      <td>A_POWC</td>\n",
       "      <td>Fossil Hard coal</td>\n",
       "      <td>Fossil_Hard_coal</td>\n",
       "    </tr>\n",
       "  </tbody>\n",
       "</table>\n",
       "</div>"
      ],
      "text/plain": [
       "   brdfat        rdfs:label           brdfatb\n",
       "0  A_POWC  Fossil Hard coal  Fossil_Hard_coal"
      ]
     },
     "execution_count": 108,
     "metadata": {},
     "output_type": "execute_result"
    }
   ],
   "source": [
    "\n",
    "ex2bentso_act=ex2bentso_act.rename({'Activity code 2':'brdfat',\n",
    "                                    'Bentso technology':'rdfs:label',\n",
    "                                    'uri':'brdfatb'\n",
    "                                   },\n",
    "                                   axis=1)\n",
    "#ex2bentso_act.head(1)\n",
    "\n",
    "ex2bentso_act.brdfatb=ex2bentso_act.brdfatb.str.extract('http://rdf.bonsai.uno/activitytype/entsoe/(.*)')\n",
    "\n",
    "ex2bentso_act.head(1)"
   ]
  },
  {
   "cell_type": "code",
   "execution_count": 123,
   "metadata": {
    "collapsed": true
   },
   "outputs": [
    {
     "data": {
      "text/html": [
       "<div>\n",
       "<style scoped>\n",
       "    .dataframe tbody tr th:only-of-type {\n",
       "        vertical-align: middle;\n",
       "    }\n",
       "\n",
       "    .dataframe tbody tr th {\n",
       "        vertical-align: top;\n",
       "    }\n",
       "\n",
       "    .dataframe thead th {\n",
       "        text-align: right;\n",
       "    }\n",
       "</style>\n",
       "<table border=\"1\" class=\"dataframe\">\n",
       "  <thead>\n",
       "    <tr style=\"text-align: right;\">\n",
       "      <th></th>\n",
       "      <th>brdfat</th>\n",
       "      <th>rdfs:label</th>\n",
       "      <th>brdfatb</th>\n",
       "    </tr>\n",
       "  </thead>\n",
       "  <tbody>\n",
       "    <tr>\n",
       "      <th>0</th>\n",
       "      <td>A_POWC</td>\n",
       "      <td>Fossil Hard coal</td>\n",
       "      <td>Fossil_Hard_coal</td>\n",
       "    </tr>\n",
       "    <tr>\n",
       "      <th>1</th>\n",
       "      <td>A_POWC</td>\n",
       "      <td>Fossil Brown coal/Lignite</td>\n",
       "      <td>Fossil_Brown_coalorLignite</td>\n",
       "    </tr>\n",
       "    <tr>\n",
       "      <th>2</th>\n",
       "      <td>A_POWG</td>\n",
       "      <td>Fossil Gas</td>\n",
       "      <td>Fossil_Gas</td>\n",
       "    </tr>\n",
       "    <tr>\n",
       "      <th>3</th>\n",
       "      <td>A_POWG</td>\n",
       "      <td>Fossil Coal-derived gas</td>\n",
       "      <td>Fossil_Coal-derived_gas</td>\n",
       "    </tr>\n",
       "    <tr>\n",
       "      <th>4</th>\n",
       "      <td>A_POWN</td>\n",
       "      <td>Nuclear</td>\n",
       "      <td>Nuclear</td>\n",
       "    </tr>\n",
       "    <tr>\n",
       "      <th>5</th>\n",
       "      <td>A_POWH</td>\n",
       "      <td>Hydro Pumped Storage</td>\n",
       "      <td>Hydro_Pumped_Storage</td>\n",
       "    </tr>\n",
       "    <tr>\n",
       "      <th>6</th>\n",
       "      <td>A_POWH</td>\n",
       "      <td>Hydro Run-of-river and poundage</td>\n",
       "      <td>Hydro_Run-of-river_and_poundage</td>\n",
       "    </tr>\n",
       "    <tr>\n",
       "      <th>7</th>\n",
       "      <td>A_POWH</td>\n",
       "      <td>Hydro Water Reservoir</td>\n",
       "      <td>Hydro_Water_Reservoir</td>\n",
       "    </tr>\n",
       "    <tr>\n",
       "      <th>8</th>\n",
       "      <td>A_POWW</td>\n",
       "      <td>Wind Offshore</td>\n",
       "      <td>Wind_Offshore</td>\n",
       "    </tr>\n",
       "    <tr>\n",
       "      <th>9</th>\n",
       "      <td>A_POWW</td>\n",
       "      <td>Wind Onshore</td>\n",
       "      <td>Wind_Onshore</td>\n",
       "    </tr>\n",
       "    <tr>\n",
       "      <th>10</th>\n",
       "      <td>A_POWP</td>\n",
       "      <td>Fossil Oil</td>\n",
       "      <td>Fossil_Oil</td>\n",
       "    </tr>\n",
       "    <tr>\n",
       "      <th>11</th>\n",
       "      <td>A_POWB</td>\n",
       "      <td>Biomass</td>\n",
       "      <td>Biomass</td>\n",
       "    </tr>\n",
       "    <tr>\n",
       "      <th>12</th>\n",
       "      <td>A_POWB</td>\n",
       "      <td>Waste</td>\n",
       "      <td>Waste</td>\n",
       "    </tr>\n",
       "    <tr>\n",
       "      <th>13</th>\n",
       "      <td>A_POWS</td>\n",
       "      <td>Solar</td>\n",
       "      <td>Solar</td>\n",
       "    </tr>\n",
       "    <tr>\n",
       "      <th>14</th>\n",
       "      <td>A_POWS</td>\n",
       "      <td>Solar</td>\n",
       "      <td>Solar</td>\n",
       "    </tr>\n",
       "    <tr>\n",
       "      <th>15</th>\n",
       "      <td>A_POWE</td>\n",
       "      <td>Solar</td>\n",
       "      <td>Solar</td>\n",
       "    </tr>\n",
       "    <tr>\n",
       "      <th>16</th>\n",
       "      <td>A_POWE</td>\n",
       "      <td>Solar</td>\n",
       "      <td>Solar</td>\n",
       "    </tr>\n",
       "    <tr>\n",
       "      <th>17</th>\n",
       "      <td>A_POWO</td>\n",
       "      <td>Other renewable</td>\n",
       "      <td>Other_renewable</td>\n",
       "    </tr>\n",
       "    <tr>\n",
       "      <th>18</th>\n",
       "      <td>A_POWM</td>\n",
       "      <td>Geothermal</td>\n",
       "      <td>Geothermal</td>\n",
       "    </tr>\n",
       "    <tr>\n",
       "      <th>19</th>\n",
       "      <td>A_POWZ</td>\n",
       "      <td>Other</td>\n",
       "      <td>Other</td>\n",
       "    </tr>\n",
       "  </tbody>\n",
       "</table>\n",
       "</div>"
      ],
      "text/plain": [
       "    brdfat                       rdfs:label                          brdfatb\n",
       "0   A_POWC                 Fossil Hard coal                 Fossil_Hard_coal\n",
       "1   A_POWC        Fossil Brown coal/Lignite       Fossil_Brown_coalorLignite\n",
       "2   A_POWG                       Fossil Gas                       Fossil_Gas\n",
       "3   A_POWG          Fossil Coal-derived gas          Fossil_Coal-derived_gas\n",
       "4   A_POWN                          Nuclear                          Nuclear\n",
       "5   A_POWH             Hydro Pumped Storage             Hydro_Pumped_Storage\n",
       "6   A_POWH  Hydro Run-of-river and poundage  Hydro_Run-of-river_and_poundage\n",
       "7   A_POWH            Hydro Water Reservoir            Hydro_Water_Reservoir\n",
       "8   A_POWW                    Wind Offshore                    Wind_Offshore\n",
       "9   A_POWW                     Wind Onshore                     Wind_Onshore\n",
       "10  A_POWP                       Fossil Oil                       Fossil_Oil\n",
       "11  A_POWB                          Biomass                          Biomass\n",
       "12  A_POWB                            Waste                            Waste\n",
       "13  A_POWS                            Solar                            Solar\n",
       "14  A_POWS                            Solar                            Solar\n",
       "15  A_POWE                            Solar                            Solar\n",
       "16  A_POWE                            Solar                            Solar\n",
       "17  A_POWO                  Other renewable                  Other_renewable\n",
       "18  A_POWM                       Geothermal                       Geothermal\n",
       "19  A_POWZ                            Other                            Other"
      ]
     },
     "execution_count": 123,
     "metadata": {},
     "output_type": "execute_result"
    }
   ],
   "source": [
    "ex2bentso_act"
   ]
  },
  {
   "cell_type": "markdown",
   "metadata": {},
   "source": [
    "## turtle"
   ]
  },
  {
   "cell_type": "code",
   "execution_count": 145,
   "metadata": {},
   "outputs": [],
   "source": [
    "f= open(\"../final_tables/tables_rdf_turtle/entsoe.ttl\",\"w+\")\n",
    "\n",
    "f.write('@prefix bont: <http://ontology.bonsai.uno/core#> .\\n')\n",
    "f.write('@prefix rdfs: <http://www.w3.org/2000/01/rdf-schema#> .\\n')\n",
    "f.write('@prefix brdfatb: <http://rdf.bonsai.uno/activitytype/entsoe/> .\\n')\n",
    "f.write('@prefix brdfat: <http://rdf.bonsai.uno/activitytype/exiobase3_3_17/> .\\n')\n",
    "f.write('@prefix owl: <http://www.w3.org/2002/07/owl#> .\\n')\n",
    "f.write('@prefix dtype: <http://purl.org/dc/dcmitype/> .\\n')\n",
    "f.write('@prefix dc: <http://purl.org/dc/terms/> .\\n')\n",
    "f.write('@prefix foaf: <http://xmlns.com/foaf/0.1/> .\\n')\n",
    "f.write('@prefix ns0: <http://purl.org/vocab/vann/> .\\n')\n",
    "f.write('@prefix cc: <http://creativecommons.org/ns#> .\\n')\n",
    "f.write('@prefix xsd: <http://www.w3.org/2001/XMLSchema#> .\\n')\n",
    "\n",
    "\n",
    "f.write('\\n')\n",
    "\n",
    "f.write('<http://rdf.bonsai.uno/activitytype/entsoe/>\\n')\n",
    "f.write('  a dtype:Dataset ;\\n')\n",
    "f.write('  dc:title \"Entsoe activity types\"@en ;\\n')\n",
    "f.write('  dc:description \"relation between entsoe electricity generators and exiobase\"@en ;\\n')\n",
    "f.write('  foaf:homepage <http://rdf.bonsai.uno/activitytype/entsoe/documentation.html> ;\\n')\n",
    "f.write('  ns0:preferredNamespaceUri \"http://rdf.bonsai.uno/activitytype/entsoe/#\" ;\\n')\n",
    "f.write('  owl:versionInfo \"Version 0.1 - 2019-03-25\"@en ;\\n')\n",
    "f.write('  dc:modified \"2019-03-25\"^^xsd:date ;\\n')\n",
    "f.write('  dc:publisher \"bonsai.uno\" ;\\n')\n",
    "f.write('  dc:creator <http://bonsai.uno/foaf/bonsai.rdf#bonsai> ;\\n')\n",
    "f.write('  dc:contributor \"Miguel F. Astudillo\";\\n')\n",
    "f.write('  cc:license <http://creativecommons.org/licenses/by/3.0/> ;\\n')\n",
    "f.write('  rdfs:comment \"\"\"First ever version 0.1 :Will change!\"\"\"@en .\\n')\n",
    "\n",
    "f.write('\\n')\n",
    "\n",
    "for r in ex2bentso_act.iterrows():  \n",
    "    \n",
    "    f.write('brdfatb:{} a bont:ActivityType;\\n'.format(r[1]['brdfatb']))\n",
    "    f.write('  owl:sameAs brdfat:{};\\n'.format(r[1]['brdfat']))\n",
    "    f.write('  rdfs:label:\"{}\".\\n'.format(r[1]['rdfs:label']))\n",
    "    f.write('\\n')\n",
    "    \n",
    "f.close()"
   ]
  },
  {
   "cell_type": "code",
   "execution_count": null,
   "metadata": {},
   "outputs": [],
   "source": []
  },
  {
   "cell_type": "code",
   "execution_count": null,
   "metadata": {},
   "outputs": [],
   "source": []
  },
  {
   "cell_type": "markdown",
   "metadata": {},
   "source": [
    "## JSON"
   ]
  },
  {
   "cell_type": "markdown",
   "metadata": {},
   "source": [
    "```\n",
    "\"@graph\": [\n",
    "        {\n",
    "      \"@id\": \"brdfat:A_ALUM\",\n",
    "      \"@type\": \"bont:ActivityType\",\n",
    "      \"rdfs:label\": \"Aluminium production\"\n",
    "        },\n",
    "```"
   ]
  },
  {
   "cell_type": "markdown",
   "metadata": {},
   "source": [
    "now we need to say for each row that \n",
    "\n",
    "- brdfatb:Fossil_Brown_coalorLignite a bont:ActivityType;\n",
    "- owl:sameAs brdfat:A_POWC;\n",
    "- rdfs:label: \"Fossil Hard coal\"."
   ]
  },
  {
   "cell_type": "code",
   "execution_count": null,
   "metadata": {},
   "outputs": [],
   "source": []
  },
  {
   "cell_type": "code",
   "execution_count": 35,
   "metadata": {},
   "outputs": [
    {
     "data": {
      "text/plain": [
       "{'Activity code 2': {0: 'A_POWC', 1: 'A_POWC'},\n",
       " 'Bentso technology': {0: 'Fossil Hard coal', 1: 'Fossil Brown coal/Lignite'},\n",
       " 'uri': {0: 'http://rdf.bonsai.uno/activitytype/bentso/Fossil_Hard_coal',\n",
       "  1: 'http://rdf.bonsai.uno/activitytype/bentso/Fossil_Brown_coalorLignite'}}"
      ]
     },
     "execution_count": 35,
     "metadata": {},
     "output_type": "execute_result"
    }
   ],
   "source": [
    "ex2bentso_act.loc[0:1].to_dict()"
   ]
  },
  {
   "cell_type": "code",
   "execution_count": 42,
   "metadata": {},
   "outputs": [
    {
     "data": {
      "text/plain": [
       "'{\"Activity code 2\": {\"0\": \"A_POWC\", \"1\": \"A_POWC\"}, \"Bentso technology\": {\"0\": \"Fossil Hard coal\", \"1\": \"Fossil Brown coal/Lignite\"}, \"uri\": {\"0\": \"http://rdf.bonsai.uno/activitytype/bentso/Fossil_Hard_coal\", \"1\": \"http://rdf.bonsai.uno/activitytype/bentso/Fossil_Brown_coalorLignite\"}}'"
      ]
     },
     "execution_count": 42,
     "metadata": {},
     "output_type": "execute_result"
    }
   ],
   "source": [
    "json.dumps(ex2bentso_act.loc[0:1].to_dict())"
   ]
  },
  {
   "cell_type": "code",
   "execution_count": 38,
   "metadata": {},
   "outputs": [],
   "source": [
    "json.dumps?"
   ]
  },
  {
   "cell_type": "code",
   "execution_count": 40,
   "metadata": {},
   "outputs": [],
   "source": [
    "with open('example.json', 'w') as f: json.dump(ex2bentso_act.loc[0:1].to_dict(), f)"
   ]
  },
  {
   "cell_type": "code",
   "execution_count": null,
   "metadata": {},
   "outputs": [],
   "source": []
  },
  {
   "cell_type": "code",
   "execution_count": null,
   "metadata": {},
   "outputs": [],
   "source": []
  },
  {
   "cell_type": "code",
   "execution_count": 1,
   "metadata": {},
   "outputs": [
    {
     "ename": "ModuleNotFoundError",
     "evalue": "No module named 'bontofrom'",
     "output_type": "error",
     "traceback": [
      "\u001b[1;31m---------------------------------------------------------------------------\u001b[0m",
      "\u001b[1;31mModuleNotFoundError\u001b[0m                       Traceback (most recent call last)",
      "\u001b[1;32m<ipython-input-1-2ace6d235750>\u001b[0m in \u001b[0;36m<module>\u001b[1;34m\u001b[0m\n\u001b[0;32m      1\u001b[0m \u001b[1;32mimport\u001b[0m \u001b[0mjson\u001b[0m\u001b[1;33m\u001b[0m\u001b[1;33m\u001b[0m\u001b[0m\n\u001b[1;32m----> 2\u001b[1;33m \u001b[1;32mfrom\u001b[0m \u001b[0mbontofrom\u001b[0m\u001b[1;33m.\u001b[0m\u001b[0mload_metadata\u001b[0m \u001b[1;32mimport\u001b[0m \u001b[0mget_metadata\u001b[0m\u001b[1;33m\u001b[0m\u001b[1;33m\u001b[0m\u001b[0m\n\u001b[0m\u001b[0;32m      3\u001b[0m \u001b[1;32mfrom\u001b[0m \u001b[0mpathlib\u001b[0m \u001b[1;32mimport\u001b[0m \u001b[0mPath\u001b[0m\u001b[1;33m\u001b[0m\u001b[1;33m\u001b[0m\u001b[0m\n\u001b[0;32m      4\u001b[0m \u001b[1;33m\u001b[0m\u001b[0m\n\u001b[0;32m      5\u001b[0m \u001b[1;33m\u001b[0m\u001b[0m\n",
      "\u001b[1;31mModuleNotFoundError\u001b[0m: No module named 'bontofrom'"
     ]
    }
   ],
   "source": [
    "import json\n",
    "from bontofrom.load_metadata import get_metadata\n",
    "from pathlib import Path\n",
    "\n",
    "\n",
    "output_dir = Path(__file__).parent / \"output\"\n",
    "\n",
    "\n",
    "EXIOBASE_DOCKER = \"\"\"\n",
    "Please run the following to convert JSON-LD to TTL:\n",
    "    cd \"{0}\"\n",
    "    docker run -it --rm -v `pwd`:/rdf stain/jena riot -out Turtle bontofrom/output/flowobject.jsonld > bontofrom/output/flowobject.ttl\n",
    "    docker run -it --rm -v `pwd`:/rdf stain/jena riot -out Turtle bontofrom/output/activitytype.jsonld > bontofrom/output/activitytype.ttl\n",
    "    docker run -it --rm -v `pwd`:/rdf stain/jena riot -out Turtle bontofrom/output/location.jsonld > bontofrom/output/location.ttl\n",
    "\"\"\".format((Path(__file__).parent.parent).absolute())\n",
    "\n",
    "\n",
    "class Converter:\n",
    "    def __init__(self, abbrev, full, filename, type_, metadata):\n",
    "        self.context = {\n",
    "                \"bont\" : \"http://ontology.bonsai.uno/core#\",\n",
    "                \"rdfs\": \"http://www.w3.org/2000/01/rdf-schema#\",\n",
    "                \"gn\": \"http://sws.geonames.org/\",\n",
    "                \"schema\": \"http://schema.org/\",\n",
    "        }\n",
    "        self.context.update({abbrev: full})\n",
    "        self.metadata = metadata\n",
    "        self.filename = filename\n",
    "        self.type_ = type_\n",
    "\n",
    "    def substitute(self, string):\n",
    "        for k, v in self.context.items():\n",
    "            string = string.replace(v, k + \":\")\n",
    "        return string\n",
    "\n",
    "    def get_data(self):\n",
    "        data = {\n",
    "            \"@context\": self.context,\n",
    "            \"@graph\": []\n",
    "        }\n",
    "        for name, uri in self.metadata[self.filename].items():\n",
    "            data['@graph'].append({\n",
    "                '@id': self.substitute(uri),\n",
    "                \"@type\" : self.type_,\n",
    "                \"rdfs:label\": name,\n",
    "            })\n",
    "        return data\n",
    "\n",
    "    def write_file(self):\n",
    "        with open(output_dir / (self.filename + \".jsonld\"), \"w\", encoding='utf-8') as f:\n",
    "            json.dump(self.get_data(), f,\n",
    "                      ensure_ascii=False, indent=2)\n",
    "\n",
    "\n",
    "\n",
    "def convert_exiobase():\n",
    "    metadata = get_metadata()\n",
    "\n",
    "    flow_object = Converter(\n",
    "        \"brdffo\",\n",
    "        \"http://rdf.bonsai.uno/flowobject/exiobase3_3_17/\",\n",
    "        \"flowobject\",\n",
    "        \"bont:FlowObject\",\n",
    "        metadata,\n",
    "    )\n",
    "    flow_object.write_file()\n",
    "\n",
    "    activity_type = Converter(\n",
    "        \"brdfat\",\n",
    "        \"http://rdf.bonsai.uno/activitytype/exiobase3_3_17/\",\n",
    "        \"activitytype\",\n",
    "        \"bont:ActivityType\",\n",
    "        metadata,\n",
    "    )\n",
    "    activity_type.write_file()\n",
    "\n",
    "    location = Converter(\n",
    "        \"brdfl\",\n",
    "        \"http://rdf.bonsai.uno/location/exiobase3_3_17/\",\n",
    "        \"location\",\n",
    "        \"schema:Place\",\n",
    "        metadata,\n",
    "    )\n",
    "    location.write_file()\n",
    "\n",
    "    print(EXIOBASE_DOCKER)\n",
    "pass"
   ]
  },
  {
   "cell_type": "code",
   "execution_count": null,
   "metadata": {},
   "outputs": [],
   "source": []
  }
 ],
 "metadata": {
  "kernelspec": {
   "display_name": "Python 3",
   "language": "python",
   "name": "python3"
  },
  "language_info": {
   "codemirror_mode": {
    "name": "ipython",
    "version": 3
   },
   "file_extension": ".py",
   "mimetype": "text/x-python",
   "name": "python",
   "nbconvert_exporter": "python",
   "pygments_lexer": "ipython3",
   "version": "3.6.8"
  }
 },
 "nbformat": 4,
 "nbformat_minor": 2
}
