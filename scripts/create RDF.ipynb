{
 "cells": [
  {
   "cell_type": "code",
   "execution_count": 1,
   "metadata": {},
   "outputs": [],
   "source": [
    "import json\n",
    "import pandas as pd"
   ]
  },
  {
   "cell_type": "markdown",
   "metadata": {},
   "source": [
    "# Bentso technologies"
   ]
  },
  {
   "cell_type": "markdown",
   "metadata": {},
   "source": [
    "the uri is `http://rdf.bonsai.uno/activitytype/entsoe/` + the `Bentso technology` substituting the blackspaces by _ and / by `or`"
   ]
  },
  {
   "cell_type": "markdown",
   "metadata": {},
   "source": [
    "e.g. 'http://rdf.bonsai.uno/activitytype/entsoe/Fossil_Brown_coalorLignite' for 'Fossil Brown coal/Lignite'"
   ]
  },
  {
   "cell_type": "code",
   "execution_count": 2,
   "metadata": {},
   "outputs": [
    {
     "data": {
      "text/html": [
       "<div>\n",
       "<style scoped>\n",
       "    .dataframe tbody tr th:only-of-type {\n",
       "        vertical-align: middle;\n",
       "    }\n",
       "\n",
       "    .dataframe tbody tr th {\n",
       "        vertical-align: top;\n",
       "    }\n",
       "\n",
       "    .dataframe thead th {\n",
       "        text-align: right;\n",
       "    }\n",
       "</style>\n",
       "<table border=\"1\" class=\"dataframe\">\n",
       "  <thead>\n",
       "    <tr style=\"text-align: right;\">\n",
       "      <th></th>\n",
       "      <th>Bentso technology</th>\n",
       "      <th>uri</th>\n",
       "    </tr>\n",
       "  </thead>\n",
       "  <tbody>\n",
       "    <tr>\n",
       "      <th>0</th>\n",
       "      <td>Fossil Hard coal</td>\n",
       "      <td>http://rdf.bonsai.uno/activitytype/entsoe/Foss...</td>\n",
       "    </tr>\n",
       "  </tbody>\n",
       "</table>\n",
       "</div>"
      ],
      "text/plain": [
       "  Bentso technology                                                uri\n",
       "0  Fossil Hard coal  http://rdf.bonsai.uno/activitytype/entsoe/Foss..."
      ]
     },
     "execution_count": 2,
     "metadata": {},
     "output_type": "execute_result"
    }
   ],
   "source": [
    "bentso_label_uri=pd.read_csv('../final_tables/tables/bentso_activity_types_uri.csv')\n",
    "bentso_label_uri.head(1)"
   ]
  },
  {
   "cell_type": "code",
   "execution_count": 89,
   "metadata": {},
   "outputs": [
    {
     "data": {
      "text/html": [
       "<div>\n",
       "<style scoped>\n",
       "    .dataframe tbody tr th:only-of-type {\n",
       "        vertical-align: middle;\n",
       "    }\n",
       "\n",
       "    .dataframe tbody tr th {\n",
       "        vertical-align: top;\n",
       "    }\n",
       "\n",
       "    .dataframe thead th {\n",
       "        text-align: right;\n",
       "    }\n",
       "</style>\n",
       "<table border=\"1\" class=\"dataframe\">\n",
       "  <thead>\n",
       "    <tr style=\"text-align: right;\">\n",
       "      <th></th>\n",
       "      <th>Exiobase Activity name</th>\n",
       "      <th>Bentso technology</th>\n",
       "    </tr>\n",
       "  </thead>\n",
       "  <tbody>\n",
       "    <tr>\n",
       "      <th>0</th>\n",
       "      <td>Cultivation of paddy rice</td>\n",
       "      <td>NaN</td>\n",
       "    </tr>\n",
       "  </tbody>\n",
       "</table>\n",
       "</div>"
      ],
      "text/plain": [
       "      Exiobase Activity name Bentso technology\n",
       "0  Cultivation of paddy rice               NaN"
      ]
     },
     "execution_count": 89,
     "metadata": {},
     "output_type": "execute_result"
    }
   ],
   "source": [
    "exiobase2bentso=pd.read_csv('../final_tables/tables/exiobase_to_bentso_activities.csv')\n",
    "exiobase2bentso.head(1)"
   ]
  },
  {
   "cell_type": "code",
   "execution_count": 90,
   "metadata": {
    "scrolled": true
   },
   "outputs": [
    {
     "data": {
      "text/html": [
       "<div>\n",
       "<style scoped>\n",
       "    .dataframe tbody tr th:only-of-type {\n",
       "        vertical-align: middle;\n",
       "    }\n",
       "\n",
       "    .dataframe tbody tr th {\n",
       "        vertical-align: top;\n",
       "    }\n",
       "\n",
       "    .dataframe thead th {\n",
       "        text-align: right;\n",
       "    }\n",
       "</style>\n",
       "<table border=\"1\" class=\"dataframe\">\n",
       "  <thead>\n",
       "    <tr style=\"text-align: right;\">\n",
       "      <th></th>\n",
       "      <th>Activity name</th>\n",
       "      <th>Activity code 1</th>\n",
       "      <th>Activity code 2</th>\n",
       "    </tr>\n",
       "  </thead>\n",
       "  <tbody>\n",
       "    <tr>\n",
       "      <th>0</th>\n",
       "      <td>Cultivation of paddy rice</td>\n",
       "      <td>i01.a</td>\n",
       "      <td>A_PARI</td>\n",
       "    </tr>\n",
       "  </tbody>\n",
       "</table>\n",
       "</div>"
      ],
      "text/plain": [
       "               Activity name Activity code 1 Activity code 2\n",
       "0  Cultivation of paddy rice           i01.a          A_PARI"
      ]
     },
     "execution_count": 90,
     "metadata": {},
     "output_type": "execute_result"
    }
   ],
   "source": [
    "exiobase_labels=pd.read_csv('../raw/exiobase_v3_3_17_activities.csv')\n",
    "exiobase_labels.head(1)"
   ]
  },
  {
   "cell_type": "code",
   "execution_count": 91,
   "metadata": {},
   "outputs": [],
   "source": [
    "df=pd.merge(exiobase2bentso.dropna(),\n",
    "         exiobase_labels,\n",
    "         left_on='Exiobase Activity name',\n",
    "         right_on='Activity name')\\\n",
    ".set_index('Exiobase Activity name')[['Activity code 2','Bentso technology']]"
   ]
  },
  {
   "cell_type": "code",
   "execution_count": 106,
   "metadata": {},
   "outputs": [
    {
     "data": {
      "text/html": [
       "<div>\n",
       "<style scoped>\n",
       "    .dataframe tbody tr th:only-of-type {\n",
       "        vertical-align: middle;\n",
       "    }\n",
       "\n",
       "    .dataframe tbody tr th {\n",
       "        vertical-align: top;\n",
       "    }\n",
       "\n",
       "    .dataframe thead th {\n",
       "        text-align: right;\n",
       "    }\n",
       "</style>\n",
       "<table border=\"1\" class=\"dataframe\">\n",
       "  <thead>\n",
       "    <tr style=\"text-align: right;\">\n",
       "      <th></th>\n",
       "      <th>Activity code 2</th>\n",
       "      <th>Bentso technology</th>\n",
       "      <th>uri</th>\n",
       "    </tr>\n",
       "  </thead>\n",
       "  <tbody>\n",
       "    <tr>\n",
       "      <th>0</th>\n",
       "      <td>A_POWC</td>\n",
       "      <td>Fossil Hard coal</td>\n",
       "      <td>http://rdf.bonsai.uno/activitytype/entsoe/Foss...</td>\n",
       "    </tr>\n",
       "  </tbody>\n",
       "</table>\n",
       "</div>"
      ],
      "text/plain": [
       "  Activity code 2 Bentso technology  \\\n",
       "0          A_POWC  Fossil Hard coal   \n",
       "\n",
       "                                                 uri  \n",
       "0  http://rdf.bonsai.uno/activitytype/entsoe/Foss...  "
      ]
     },
     "execution_count": 106,
     "metadata": {},
     "output_type": "execute_result"
    }
   ],
   "source": [
    "ex2bentso_act=pd.merge(df,bentso_label_uri,on='Bentso technology')\n",
    "ex2bentso_act.head(1)"
   ]
  },
  {
   "cell_type": "code",
   "execution_count": 108,
   "metadata": {
    "scrolled": true
   },
   "outputs": [
    {
     "data": {
      "text/html": [
       "<div>\n",
       "<style scoped>\n",
       "    .dataframe tbody tr th:only-of-type {\n",
       "        vertical-align: middle;\n",
       "    }\n",
       "\n",
       "    .dataframe tbody tr th {\n",
       "        vertical-align: top;\n",
       "    }\n",
       "\n",
       "    .dataframe thead th {\n",
       "        text-align: right;\n",
       "    }\n",
       "</style>\n",
       "<table border=\"1\" class=\"dataframe\">\n",
       "  <thead>\n",
       "    <tr style=\"text-align: right;\">\n",
       "      <th></th>\n",
       "      <th>brdfat</th>\n",
       "      <th>rdfs:label</th>\n",
       "      <th>brdfatb</th>\n",
       "    </tr>\n",
       "  </thead>\n",
       "  <tbody>\n",
       "    <tr>\n",
       "      <th>0</th>\n",
       "      <td>A_POWC</td>\n",
       "      <td>Fossil Hard coal</td>\n",
       "      <td>Fossil_Hard_coal</td>\n",
       "    </tr>\n",
       "  </tbody>\n",
       "</table>\n",
       "</div>"
      ],
      "text/plain": [
       "   brdfat        rdfs:label           brdfatb\n",
       "0  A_POWC  Fossil Hard coal  Fossil_Hard_coal"
      ]
     },
     "execution_count": 108,
     "metadata": {},
     "output_type": "execute_result"
    }
   ],
   "source": [
    "\n",
    "ex2bentso_act=ex2bentso_act.rename({'Activity code 2':'brdfat',\n",
    "                                    'Bentso technology':'rdfs:label',\n",
    "                                    'uri':'brdfatb'\n",
    "                                   },\n",
    "                                   axis=1)\n",
    "#ex2bentso_act.head(1)\n",
    "\n",
    "ex2bentso_act.brdfatb=ex2bentso_act.brdfatb.str.extract('http://rdf.bonsai.uno/activitytype/entsoe/(.*)')\n",
    "\n",
    "ex2bentso_act.head(1)"
   ]
  },
  {
   "cell_type": "markdown",
   "metadata": {},
   "source": [
    "## turtle"
   ]
  },
  {
   "cell_type": "code",
   "execution_count": 145,
   "metadata": {},
   "outputs": [],
   "source": [
    "f= open(\"../final_tables/tables_rdf_turtle/entsoe.ttl\",\"w+\")\n",
    "\n",
    "f.write('@prefix bont: <http://ontology.bonsai.uno/core#> .\\n')\n",
    "f.write('@prefix rdfs: <http://www.w3.org/2000/01/rdf-schema#> .\\n')\n",
    "f.write('@prefix brdfatb: <http://rdf.bonsai.uno/activitytype/entsoe/> .\\n')\n",
    "f.write('@prefix brdfat: <http://rdf.bonsai.uno/activitytype/exiobase3_3_17/> .\\n')\n",
    "f.write('@prefix owl: <http://www.w3.org/2002/07/owl#> .\\n')\n",
    "f.write('@prefix dtype: <http://purl.org/dc/dcmitype/> .\\n')\n",
    "f.write('@prefix dc: <http://purl.org/dc/terms/> .\\n')\n",
    "f.write('@prefix foaf: <http://xmlns.com/foaf/0.1/> .\\n')\n",
    "f.write('@prefix ns0: <http://purl.org/vocab/vann/> .\\n')\n",
    "f.write('@prefix cc: <http://creativecommons.org/ns#> .\\n')\n",
    "f.write('@prefix xsd: <http://www.w3.org/2001/XMLSchema#> .\\n')\n",
    "\n",
    "\n",
    "f.write('\\n')\n",
    "\n",
    "f.write('<http://rdf.bonsai.uno/activitytype/entsoe/>\\n')\n",
    "f.write('  a dtype:Dataset ;\\n')\n",
    "f.write('  dc:title \"Entsoe activity types\"@en ;\\n')\n",
    "f.write('  dc:description \"relation between entsoe electricity generators and exiobase\"@en ;\\n')\n",
    "f.write('  foaf:homepage <http://rdf.bonsai.uno/activitytype/entsoe/documentation.html> ;\\n')\n",
    "f.write('  ns0:preferredNamespaceUri \"http://rdf.bonsai.uno/activitytype/entsoe/#\" ;\\n')\n",
    "f.write('  owl:versionInfo \"Version 0.1 - 2019-03-25\"@en ;\\n')\n",
    "f.write('  dc:modified \"2019-03-25\"^^xsd:date ;\\n')\n",
    "f.write('  dc:publisher \"bonsai.uno\" ;\\n')\n",
    "f.write('  dc:creator <http://bonsai.uno/foaf/bonsai.rdf#bonsai> ;\\n')\n",
    "f.write('  dc:contributor \"Miguel F. Astudillo\";\\n')\n",
    "f.write('  cc:license <http://creativecommons.org/licenses/by/3.0/> ;\\n')\n",
    "f.write('  rdfs:comment \"\"\"First ever version 0.1 :Will change!\"\"\"@en .\\n')\n",
    "\n",
    "f.write('\\n')\n",
    "\n",
    "for r in ex2bentso_act.iterrows():  \n",
    "    \n",
    "    f.write('brdfatb:{} a bont:ActivityType;\\n'.format(r[1]['brdfatb']))\n",
    "    f.write('  owl:sameAs brdfat:{};\\n'.format(r[1]['brdfat']))\n",
    "    f.write('  rdfs:label:\"{}\".\\n'.format(r[1]['rdfs:label']))\n",
    "    f.write('\\n')\n",
    "    \n",
    "f.close()"
   ]
  },
  {
   "cell_type": "code",
   "execution_count": null,
   "metadata": {},
   "outputs": [],
   "source": []
  },
  {
   "cell_type": "code",
   "execution_count": null,
   "metadata": {},
   "outputs": [],
   "source": []
  },
  {
   "cell_type": "code",
   "execution_count": null,
   "metadata": {},
   "outputs": [],
   "source": []
  }
 ],
 "metadata": {
  "kernelspec": {
   "display_name": "Python 3",
   "language": "python",
   "name": "python3"
  },
  "language_info": {
   "codemirror_mode": {
    "name": "ipython",
    "version": 3
   },
   "file_extension": ".py",
   "mimetype": "text/x-python",
   "name": "python",
   "nbconvert_exporter": "python",
   "pygments_lexer": "ipython3",
   "version": "3.6.8"
  }
 },
 "nbformat": 4,
 "nbformat_minor": 2
}
