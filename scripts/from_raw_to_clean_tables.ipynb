{
 "cells": [
  {
   "cell_type": "markdown",
   "metadata": {},
   "source": [
    "# Examples of creation of correspondance tables.\n",
    "\n",
    "Correspondance tables are created from \"raw\" data, which comes in a variety of formats, sometimes considerably messy. To arrive to a clean csv file with an agreed format some data cleaning has to be made. Cleaning should be scripted so we are able to reproduce them from raw data, but the steps required to clean the data are very specific to the case in hand. "
   ]
  },
  {
   "cell_type": "markdown",
   "metadata": {},
   "source": [
    "# exiobase to isic v4 \n",
    "\n",
    "this correspondance table does not exist but here we create it from existing ones. "
   ]
  },
  {
   "cell_type": "markdown",
   "metadata": {},
   "source": [
    "## Option 1\n",
    "\"raw\" data:\n",
    "- correspondance from exiobase 2 to isic 3 provided by ntnu\n",
    "- correspondance between isic 3 and 4 provided by UN\n",
    "- correspondance between exiobase 3 and 2 (non exisisting)."
   ]
  },
  {
   "cell_type": "code",
   "execution_count": 1,
   "metadata": {},
   "outputs": [],
   "source": [
    "import pandas as pd"
   ]
  },
  {
   "cell_type": "markdown",
   "metadata": {},
   "source": [
    "from https://unstats.un.org/unsd/classifications/business-trade/tables/ISIC/ISIC31_ISIC4/ISIC31_ISIC4.txt"
   ]
  },
  {
   "cell_type": "code",
   "execution_count": 2,
   "metadata": {},
   "outputs": [
    {
     "name": "stderr",
     "output_type": "stream",
     "text": [
      "C:\\Users\\migue\\Anaconda3\\envs\\bw2\\lib\\site-packages\\ipykernel_launcher.py:1: FutureWarning: read_table is deprecated, use read_csv instead.\n",
      "  \"\"\"Entry point for launching an IPython kernel.\n"
     ]
    },
    {
     "data": {
      "text/html": [
       "<div>\n",
       "<style scoped>\n",
       "    .dataframe tbody tr th:only-of-type {\n",
       "        vertical-align: middle;\n",
       "    }\n",
       "\n",
       "    .dataframe tbody tr th {\n",
       "        vertical-align: top;\n",
       "    }\n",
       "\n",
       "    .dataframe thead th {\n",
       "        text-align: right;\n",
       "    }\n",
       "</style>\n",
       "<table border=\"1\" class=\"dataframe\">\n",
       "  <thead>\n",
       "    <tr style=\"text-align: right;\">\n",
       "      <th></th>\n",
       "      <th>ISIC31code</th>\n",
       "      <th>partialISIC31</th>\n",
       "      <th>ISIC4code</th>\n",
       "      <th>partialISIC4</th>\n",
       "      <th>Detail</th>\n",
       "    </tr>\n",
       "  </thead>\n",
       "  <tbody>\n",
       "    <tr>\n",
       "      <th>0</th>\n",
       "      <td>111</td>\n",
       "      <td>1</td>\n",
       "      <td>111</td>\n",
       "      <td>0</td>\n",
       "      <td>NaN</td>\n",
       "    </tr>\n",
       "    <tr>\n",
       "      <th>1</th>\n",
       "      <td>111</td>\n",
       "      <td>1</td>\n",
       "      <td>112</td>\n",
       "      <td>0</td>\n",
       "      <td>NaN</td>\n",
       "    </tr>\n",
       "    <tr>\n",
       "      <th>2</th>\n",
       "      <td>111</td>\n",
       "      <td>1</td>\n",
       "      <td>113</td>\n",
       "      <td>1</td>\n",
       "      <td>Growing of sugar beet, roots and tubers</td>\n",
       "    </tr>\n",
       "    <tr>\n",
       "      <th>3</th>\n",
       "      <td>111</td>\n",
       "      <td>1</td>\n",
       "      <td>114</td>\n",
       "      <td>0</td>\n",
       "      <td>NaN</td>\n",
       "    </tr>\n",
       "    <tr>\n",
       "      <th>4</th>\n",
       "      <td>111</td>\n",
       "      <td>1</td>\n",
       "      <td>115</td>\n",
       "      <td>0</td>\n",
       "      <td>NaN</td>\n",
       "    </tr>\n",
       "  </tbody>\n",
       "</table>\n",
       "</div>"
      ],
      "text/plain": [
       "   ISIC31code  partialISIC31  ISIC4code  partialISIC4  \\\n",
       "0         111              1        111             0   \n",
       "1         111              1        112             0   \n",
       "2         111              1        113             1   \n",
       "3         111              1        114             0   \n",
       "4         111              1        115             0   \n",
       "\n",
       "                                    Detail  \n",
       "0                                      NaN  \n",
       "1                                      NaN  \n",
       "2  Growing of sugar beet, roots and tubers  \n",
       "3                                      NaN  \n",
       "4                                      NaN  "
      ]
     },
     "execution_count": 2,
     "metadata": {},
     "output_type": "execute_result"
    }
   ],
   "source": [
    "isic31to4=pd.read_table('../raw/ISIC31_ISIC4.txt',sep=',')\n",
    "isic31to4.head()"
   ]
  },
  {
   "cell_type": "markdown",
   "metadata": {},
   "source": [
    "dictionary converting isic 3.1 to 4"
   ]
  },
  {
   "cell_type": "code",
   "execution_count": 3,
   "metadata": {},
   "outputs": [],
   "source": [
    "isic_31_to_4_dict=dict(isic31to4[['ISIC31code','ISIC4code']].values)"
   ]
  },
  {
   "cell_type": "markdown",
   "metadata": {},
   "source": [
    "Exiobase 2 to Isic 3. From the Exiobase consortium. Provided by Constantin Stadler"
   ]
  },
  {
   "cell_type": "code",
   "execution_count": 71,
   "metadata": {},
   "outputs": [
    {
     "data": {
      "text/html": [
       "<div>\n",
       "<style scoped>\n",
       "    .dataframe tbody tr th:only-of-type {\n",
       "        vertical-align: middle;\n",
       "    }\n",
       "\n",
       "    .dataframe tbody tr th {\n",
       "        vertical-align: top;\n",
       "    }\n",
       "\n",
       "    .dataframe thead th {\n",
       "        text-align: right;\n",
       "    }\n",
       "</style>\n",
       "<table border=\"1\" class=\"dataframe\">\n",
       "  <thead>\n",
       "    <tr style=\"text-align: right;\">\n",
       "      <th></th>\n",
       "      <th>ISIC REV. 3 - NACE REV. 1</th>\n",
       "      <th>EXIOBASE 2.0</th>\n",
       "    </tr>\n",
       "  </thead>\n",
       "  <tbody>\n",
       "    <tr>\n",
       "      <th>0</th>\n",
       "      <td>Source (unique)</td>\n",
       "      <td>NaN</td>\n",
       "    </tr>\n",
       "    <tr>\n",
       "      <th>1</th>\n",
       "      <td>1</td>\n",
       "      <td>i01.a;i01.b;i01.c;i01.d;i01.e;i01.f;i01.g;i01....</td>\n",
       "    </tr>\n",
       "    <tr>\n",
       "      <th>2</th>\n",
       "      <td>11</td>\n",
       "      <td>i01.a;i01.b;i01.c;i01.d;i01.e;i01.f;i01.g;i01.h</td>\n",
       "    </tr>\n",
       "    <tr>\n",
       "      <th>3</th>\n",
       "      <td>111</td>\n",
       "      <td>i01.a;i01.b;i01.c;i01.e;i01.f;i01.g;i01.h</td>\n",
       "    </tr>\n",
       "    <tr>\n",
       "      <th>4</th>\n",
       "      <td>112</td>\n",
       "      <td>i01.d;i01.e;i01.h</td>\n",
       "    </tr>\n",
       "  </tbody>\n",
       "</table>\n",
       "</div>"
      ],
      "text/plain": [
       "  ISIC REV. 3 - NACE REV. 1                                       EXIOBASE 2.0\n",
       "0           Source (unique)                                                NaN\n",
       "1                         1  i01.a;i01.b;i01.c;i01.d;i01.e;i01.f;i01.g;i01....\n",
       "2                        11    i01.a;i01.b;i01.c;i01.d;i01.e;i01.f;i01.g;i01.h\n",
       "3                       111          i01.a;i01.b;i01.c;i01.e;i01.f;i01.g;i01.h\n",
       "4                       112                                  i01.d;i01.e;i01.h"
      ]
     },
     "execution_count": 71,
     "metadata": {},
     "output_type": "execute_result"
    }
   ],
   "source": [
    "exiobase_to_isic3=pd.read_excel('../raw/ISIC REV. 3 - EXIOBASE2.0.xlsx',usecols='B:C')\n",
    "exiobase_to_isic3.head()"
   ]
  },
  {
   "cell_type": "markdown",
   "metadata": {},
   "source": [
    "ok, this needs further processing because codes are given at different levels of aggregation."
   ]
  },
  {
   "cell_type": "code",
   "execution_count": 72,
   "metadata": {},
   "outputs": [],
   "source": [
    "exiobase_to_isic3=exiobase_to_isic3.drop(0)"
   ]
  },
  {
   "cell_type": "code",
   "execution_count": 73,
   "metadata": {},
   "outputs": [],
   "source": [
    "exiobase_to_isic3.columns=['isic3','exiobase2']"
   ]
  },
  {
   "cell_type": "markdown",
   "metadata": {},
   "source": [
    "convert to string to do regex operations more easily"
   ]
  },
  {
   "cell_type": "code",
   "execution_count": 74,
   "metadata": {},
   "outputs": [],
   "source": [
    "exiobase_to_isic3.isic3=exiobase_to_isic3.isic3.astype(str)"
   ]
  },
  {
   "cell_type": "markdown",
   "metadata": {},
   "source": [
    "Identify all the isic codes with 4 digits"
   ]
  },
  {
   "cell_type": "code",
   "execution_count": 8,
   "metadata": {},
   "outputs": [],
   "source": [
    "exiobase_to_isic3_l4=exiobase_to_isic3[exiobase_to_isic3.isic3.str.match('....')]"
   ]
  },
  {
   "cell_type": "code",
   "execution_count": 9,
   "metadata": {},
   "outputs": [
    {
     "data": {
      "text/html": [
       "<div>\n",
       "<style scoped>\n",
       "    .dataframe tbody tr th:only-of-type {\n",
       "        vertical-align: middle;\n",
       "    }\n",
       "\n",
       "    .dataframe tbody tr th {\n",
       "        vertical-align: top;\n",
       "    }\n",
       "\n",
       "    .dataframe thead th {\n",
       "        text-align: right;\n",
       "    }\n",
       "</style>\n",
       "<table border=\"1\" class=\"dataframe\">\n",
       "  <thead>\n",
       "    <tr style=\"text-align: right;\">\n",
       "      <th></th>\n",
       "      <th>isic3</th>\n",
       "      <th>exiobase2</th>\n",
       "    </tr>\n",
       "  </thead>\n",
       "  <tbody>\n",
       "    <tr>\n",
       "      <th>23</th>\n",
       "      <td>1010</td>\n",
       "      <td>i10</td>\n",
       "    </tr>\n",
       "    <tr>\n",
       "      <th>25</th>\n",
       "      <td>1020</td>\n",
       "      <td>i10</td>\n",
       "    </tr>\n",
       "    <tr>\n",
       "      <th>27</th>\n",
       "      <td>1030</td>\n",
       "      <td>i10</td>\n",
       "    </tr>\n",
       "    <tr>\n",
       "      <th>29</th>\n",
       "      <td>1110</td>\n",
       "      <td>i11.a;i11.b;i11.c</td>\n",
       "    </tr>\n",
       "    <tr>\n",
       "      <th>30</th>\n",
       "      <td>1120</td>\n",
       "      <td>i11.a;i11.b;i11.c</td>\n",
       "    </tr>\n",
       "  </tbody>\n",
       "</table>\n",
       "</div>"
      ],
      "text/plain": [
       "   isic3          exiobase2\n",
       "23  1010                i10\n",
       "25  1020                i10\n",
       "27  1030                i10\n",
       "29  1110  i11.a;i11.b;i11.c\n",
       "30  1120  i11.a;i11.b;i11.c"
      ]
     },
     "execution_count": 9,
     "metadata": {},
     "output_type": "execute_result"
    }
   ],
   "source": [
    "exiobase_to_isic3_l4.head(5)"
   ]
  },
  {
   "cell_type": "markdown",
   "metadata": {},
   "source": [
    "we can iterate the columns and parse the string in exiobase separating by `;`. To create a dictionary of the exiobase codes to isic codes."
   ]
  },
  {
   "cell_type": "code",
   "execution_count": 75,
   "metadata": {},
   "outputs": [],
   "source": [
    "ex2_isic3_l4={}\n",
    "for row in exiobase_to_isic3_l4.iterrows():\n",
    "    for excode in row[1]['exiobase2'].split(';'):\n",
    "        excode=excode.strip()\n",
    "        ex2_isic3_l4[excode]=row[1]['isic3']"
   ]
  },
  {
   "cell_type": "code",
   "execution_count": 76,
   "metadata": {},
   "outputs": [
    {
     "data": {
      "text/plain": [
       "143"
      ]
     },
     "execution_count": 76,
     "metadata": {},
     "output_type": "execute_result"
    }
   ],
   "source": [
    "len(ex2_isic3_l4)"
   ]
  },
  {
   "cell_type": "markdown",
   "metadata": {},
   "source": [
    "now isic3 to isic 4"
   ]
  },
  {
   "cell_type": "code",
   "execution_count": 77,
   "metadata": {},
   "outputs": [],
   "source": [
    "ex2_isic4_l4={}\n",
    "for item in ex2_isic3_l4.items():\n",
    "    ex2_isic4_l4[item[0]]=str(isic_31_to_4_dict[int(item[1])])"
   ]
  },
  {
   "cell_type": "code",
   "execution_count": 78,
   "metadata": {},
   "outputs": [
    {
     "data": {
      "text/plain": [
       "143"
      ]
     },
     "execution_count": 78,
     "metadata": {},
     "output_type": "execute_result"
    }
   ],
   "source": [
    "len(ex2_isic4_l4)"
   ]
  },
  {
   "cell_type": "markdown",
   "metadata": {},
   "source": [
    "we only have correspondances between 143 codes in Exiobase 2 to isic v4. Exiobase 3 has 200 activities, thus some are necesarely missing. If only because Exiobase was expanded."
   ]
  },
  {
   "cell_type": "markdown",
   "metadata": {},
   "source": [
    "Read existing activity names in Exiobase 3.3.17"
   ]
  },
  {
   "cell_type": "code",
   "execution_count": 80,
   "metadata": {},
   "outputs": [
    {
     "data": {
      "text/html": [
       "<div>\n",
       "<style scoped>\n",
       "    .dataframe tbody tr th:only-of-type {\n",
       "        vertical-align: middle;\n",
       "    }\n",
       "\n",
       "    .dataframe tbody tr th {\n",
       "        vertical-align: top;\n",
       "    }\n",
       "\n",
       "    .dataframe thead th {\n",
       "        text-align: right;\n",
       "    }\n",
       "</style>\n",
       "<table border=\"1\" class=\"dataframe\">\n",
       "  <thead>\n",
       "    <tr style=\"text-align: right;\">\n",
       "      <th></th>\n",
       "      <th></th>\n",
       "      <th>Activity code 1</th>\n",
       "      <th>Activity code 2</th>\n",
       "    </tr>\n",
       "    <tr>\n",
       "      <th>Contry code</th>\n",
       "      <th>Activity name</th>\n",
       "      <th></th>\n",
       "      <th></th>\n",
       "    </tr>\n",
       "  </thead>\n",
       "  <tbody>\n",
       "    <tr>\n",
       "      <th rowspan=\"3\" valign=\"top\">AU</th>\n",
       "      <th>Cultivation of paddy rice</th>\n",
       "      <td>i01.a</td>\n",
       "      <td>A_PARI</td>\n",
       "    </tr>\n",
       "    <tr>\n",
       "      <th>Cultivation of wheat</th>\n",
       "      <td>i01.b</td>\n",
       "      <td>A_WHEA</td>\n",
       "    </tr>\n",
       "    <tr>\n",
       "      <th>Cultivation of cereal grains nec</th>\n",
       "      <td>i01.c</td>\n",
       "      <td>A_OCER</td>\n",
       "    </tr>\n",
       "  </tbody>\n",
       "</table>\n",
       "</div>"
      ],
      "text/plain": [
       "                                             Activity code 1 Activity code 2\n",
       "Contry code Activity name                                                   \n",
       "AU          Cultivation of paddy rice                  i01.a          A_PARI\n",
       "            Cultivation of wheat                       i01.b          A_WHEA\n",
       "            Cultivation of cereal grains nec           i01.c          A_OCER"
      ]
     },
     "execution_count": 80,
     "metadata": {},
     "output_type": "execute_result"
    }
   ],
   "source": [
    "ex3=pd.read_excel('../raw/Classifications_v_3_3_17.xlsx',sheet_name='Activities',index_col=[0,1])\n",
    "ex3.head(3)"
   ]
  },
  {
   "cell_type": "code",
   "execution_count": 81,
   "metadata": {},
   "outputs": [
    {
     "data": {
      "text/plain": [
       "Activity code 1    True\n",
       "Activity code 2    True\n",
       "dtype: bool"
      ]
     },
     "execution_count": 81,
     "metadata": {},
     "output_type": "execute_result"
    }
   ],
   "source": [
    "(ex3.groupby('Contry code').count()==164).all()"
   ]
  },
  {
   "cell_type": "markdown",
   "metadata": {},
   "source": [
    "All the countries have the same number of activities, so we can pick one to identify the codes. "
   ]
  },
  {
   "cell_type": "markdown",
   "metadata": {},
   "source": [
    "Dictionary of activity names to activity code 1"
   ]
  },
  {
   "cell_type": "code",
   "execution_count": 82,
   "metadata": {},
   "outputs": [],
   "source": [
    "ex3_descrip_to_actcode1=dict(ex3.loc['AU','Activity code 1'])"
   ]
  },
  {
   "cell_type": "markdown",
   "metadata": {},
   "source": [
    "Dictionary of activity code 1 to activity names"
   ]
  },
  {
   "cell_type": "code",
   "execution_count": 54,
   "metadata": {},
   "outputs": [],
   "source": [
    "ex3_actcode1_to_descrip = {v: k for k, v in ex3_descrip_to_actcode1.items()}"
   ]
  },
  {
   "cell_type": "markdown",
   "metadata": {},
   "source": [
    "Identify the missing ones."
   ]
  },
  {
   "cell_type": "code",
   "execution_count": 31,
   "metadata": {},
   "outputs": [],
   "source": [
    "ex3_actcode1_set=set(ex3['Activity code 1'].values)"
   ]
  },
  {
   "cell_type": "code",
   "execution_count": 33,
   "metadata": {},
   "outputs": [],
   "source": [
    "missing_codes=ex3_actcode1_set.difference(set([k for k in ex2_isic4_l4.keys()]))"
   ]
  },
  {
   "cell_type": "code",
   "execution_count": 61,
   "metadata": {},
   "outputs": [
    {
     "name": "stdout",
     "output_type": "stream",
     "text": [
      "i90.5.d - Landfill of waste: Inert/metal/hazardous\n",
      "i01.f - Cultivation of sugar cane, sugar beet\n",
      "i24.a - Plastics, basic\n",
      "i01.a - Cultivation of paddy rice\n",
      "i90.2.a - Biogasification of food waste, incl. land application\n",
      "i05 - Fishing, operating of fish hatcheries and fish farms; service activities incidental to fishing (05)\n",
      "i01.k - Poultry farming\n",
      "i01.d - Cultivation of vegetables, fruit, nuts\n",
      "i90.5.c - Landfill of waste: Plastic\n",
      "i90.2.c - Biogasification of sewage slugde, incl. land application\n",
      "i24.a.w - Re-processing of secondary plastic into new plastic\n",
      "i01.o - Wool, silk-worm cocoons\n",
      "i01.b - Cultivation of wheat\n",
      "i01.w.1 - Manure treatment (conventional), storage and land application\n",
      "i90.2.b - Biogasification of paper, incl. land application\n",
      "i26.a.w - Re-processing of secondary glass into new glass\n",
      "i01.e - Cultivation of oil seeds\n",
      "i90.5.f - Landfill of waste: Wood\n",
      "i01.g - Cultivation of plant-based fibers\n",
      "i26.d.w - Re-processing of ash into clinker\n",
      "i01.c - Cultivation of cereal grains nec\n",
      "i02 - Forestry, logging and related service activities (02)\n",
      "i24.d - Chemicals nec\n",
      "i01.j - Pigs farming\n",
      "i24.c - P- and other fertiliser\n",
      "i40.2.a - Manufacture of gas;\n",
      "i01.n - Raw milk\n",
      "i24.b - N-fertiliser\n",
      "i01.l - Meat animals nec\n",
      "i90.5.e - Landfill of waste: Textiles\n",
      "i01.m - Animal products nec\n",
      "i40.2.b - Distribution of gaseous fuels through mains\n",
      "i01.w.2 - Manure treatment (biogas), storage and land application\n",
      "i01.i - Cattle farming\n",
      "i01.h - Cultivation of crops nec\n"
     ]
    }
   ],
   "source": [
    "for code in missing_codes:\n",
    "    print(code,'-',ex3_actcode1_to_descrip[code])"
   ]
  },
  {
   "cell_type": "code",
   "execution_count": 57,
   "metadata": {},
   "outputs": [],
   "source": [
    "#assume they have not changed.\n",
    "ex3_isic4_l4=ex2_isic4_l4.copy()"
   ]
  },
  {
   "cell_type": "code",
   "execution_count": 70,
   "metadata": {},
   "outputs": [],
   "source": [
    "#for codes in missing_codes:\n",
    "#    print('#',ex3_actcode1_to_descrip[codes])\n",
    "#    print(\"ex3_isic4_l4['{}']=\".format(codes))"
   ]
  },
  {
   "cell_type": "code",
   "execution_count": null,
   "metadata": {},
   "outputs": [],
   "source": [
    "# Landfill of waste: Inert/metal/hazardous\n",
    "ex3_isic4_l4['i90.5.d']='5093'\n",
    "# Cultivation of sugar cane, sugar beet\n",
    "ex3_isic4_l4['i01.f']='0133'\n",
    "# Plastics, basic\n",
    "ex3_isic4_l4['i24.a']=\n",
    "# Cultivation of paddy rice\n",
    "ex3_isic4_l4['i01.a']=\n",
    "# Biogasification of food waste, incl. land application\n",
    "ex3_isic4_l4['i90.2.a']=\n",
    "# Fishing, operating of fish hatcheries and fish farms; service activities incidental to fishing (05)\n",
    "ex3_isic4_l4['i05']=\n",
    "# Poultry farming\n",
    "ex3_isic4_l4['i01.k']=\n",
    "# Cultivation of vegetables, fruit, nuts\n",
    "ex3_isic4_l4['i01.d']=\n",
    "# Landfill of waste: Plastic\n",
    "ex3_isic4_l4['i90.5.c']=\n",
    "# Biogasification of sewage slugde, incl. land application\n",
    "ex3_isic4_l4['i90.2.c']=\n",
    "# Re-processing of secondary plastic into new plastic\n",
    "ex3_isic4_l4['i24.a.w']=\n",
    "# Wool, silk-worm cocoons\n",
    "ex3_isic4_l4['i01.o']=\n",
    "# Cultivation of wheat\n",
    "ex3_isic4_l4['i01.b']=\n",
    "# Manure treatment (conventional), storage and land application\n",
    "ex3_isic4_l4['i01.w.1']=\n",
    "# Biogasification of paper, incl. land application\n",
    "ex3_isic4_l4['i90.2.b']=\n",
    "# Re-processing of secondary glass into new glass\n",
    "ex3_isic4_l4['i26.a.w']=\n",
    "# Cultivation of oil seeds\n",
    "ex3_isic4_l4['i01.e']=\n",
    "# Landfill of waste: Wood\n",
    "ex3_isic4_l4['i90.5.f']=\n",
    "# Cultivation of plant-based fibers\n",
    "ex3_isic4_l4['i01.g']=\n",
    "# Re-processing of ash into clinker\n",
    "ex3_isic4_l4['i26.d.w']=\n",
    "# Cultivation of cereal grains nec\n",
    "ex3_isic4_l4['i01.c']=\n",
    "# Forestry, logging and related service activities (02)\n",
    "ex3_isic4_l4['i02']=\n",
    "# Chemicals nec\n",
    "ex3_isic4_l4['i24.d']=\n",
    "# Pigs farming\n",
    "ex3_isic4_l4['i01.j']=\n",
    "# P- and other fertiliser\n",
    "ex3_isic4_l4['i24.c']=\n",
    "# Manufacture of gas;\n",
    "ex3_isic4_l4['i40.2.a']=\n",
    "# Raw milk\n",
    "ex3_isic4_l4['i01.n']=\n",
    "# N-fertiliser\n",
    "ex3_isic4_l4['i24.b']=\n",
    "# Meat animals nec\n",
    "ex3_isic4_l4['i01.l']=\n",
    "# Landfill of waste: Textiles\n",
    "ex3_isic4_l4['i90.5.e']=\n",
    "# Animal products nec\n",
    "ex3_isic4_l4['i01.m']=\n",
    "# Distribution of gaseous fuels through mains\n",
    "ex3_isic4_l4['i40.2.b']=\n",
    "# Manure treatment (biogas), storage and land application\n",
    "ex3_isic4_l4['i01.w.2']=\n",
    "# Cattle farming\n",
    "ex3_isic4_l4['i01.i']=\n",
    "# Cultivation of crops nec\n",
    "ex3_isic4_l4['i01.h']="
   ]
  },
  {
   "cell_type": "code",
   "execution_count": 14,
   "metadata": {},
   "outputs": [
    {
     "data": {
      "text/html": [
       "<div>\n",
       "<style scoped>\n",
       "    .dataframe tbody tr th:only-of-type {\n",
       "        vertical-align: middle;\n",
       "    }\n",
       "\n",
       "    .dataframe tbody tr th {\n",
       "        vertical-align: top;\n",
       "    }\n",
       "\n",
       "    .dataframe thead th {\n",
       "        text-align: right;\n",
       "    }\n",
       "</style>\n",
       "<table border=\"1\" class=\"dataframe\">\n",
       "  <thead>\n",
       "    <tr style=\"text-align: right;\">\n",
       "      <th></th>\n",
       "      <th>exiobase2</th>\n",
       "      <th>isic_rev4_l4</th>\n",
       "    </tr>\n",
       "  </thead>\n",
       "  <tbody>\n",
       "    <tr>\n",
       "      <th>0</th>\n",
       "      <td>i10</td>\n",
       "      <td>990</td>\n",
       "    </tr>\n",
       "    <tr>\n",
       "      <th>1</th>\n",
       "      <td>i11.a</td>\n",
       "      <td>910</td>\n",
       "    </tr>\n",
       "    <tr>\n",
       "      <th>2</th>\n",
       "      <td>i11.b</td>\n",
       "      <td>910</td>\n",
       "    </tr>\n",
       "  </tbody>\n",
       "</table>\n",
       "</div>"
      ],
      "text/plain": [
       "  exiobase2 isic_rev4_l4\n",
       "0       i10          990\n",
       "1     i11.a          910\n",
       "2     i11.b          910"
      ]
     },
     "execution_count": 14,
     "metadata": {},
     "output_type": "execute_result"
    }
   ],
   "source": [
    "ex2_isic4_l4_df=pd.DataFrame.from_dict(ex2_isic4_l4,orient='index').reset_index()\n",
    "ex2_isic4_l4_df.columns=['exiobase2','isic_rev4_l4']\n",
    "ex2_isic4_l4_df.head(3)"
   ]
  },
  {
   "cell_type": "markdown",
   "metadata": {},
   "source": [
    "Once \"cleaned\" it can be exported to csv"
   ]
  },
  {
   "cell_type": "code",
   "execution_count": 106,
   "metadata": {},
   "outputs": [],
   "source": [
    "ex2_isic4_l4_df.to_csv('../raw/exiobase2_isic_rev4_l4.csv',index=False)"
   ]
  },
  {
   "cell_type": "markdown",
   "metadata": {},
   "source": [
    "**To be continued ...**"
   ]
  },
  {
   "cell_type": "markdown",
   "metadata": {},
   "source": [
    "# Entso-e to Exiobase."
   ]
  },
  {
   "cell_type": "markdown",
   "metadata": {},
   "source": [
    "load exiobase activity names"
   ]
  },
  {
   "cell_type": "code",
   "execution_count": 84,
   "metadata": {},
   "outputs": [
    {
     "data": {
      "text/html": [
       "<div>\n",
       "<style scoped>\n",
       "    .dataframe tbody tr th:only-of-type {\n",
       "        vertical-align: middle;\n",
       "    }\n",
       "\n",
       "    .dataframe tbody tr th {\n",
       "        vertical-align: top;\n",
       "    }\n",
       "\n",
       "    .dataframe thead th {\n",
       "        text-align: right;\n",
       "    }\n",
       "</style>\n",
       "<table border=\"1\" class=\"dataframe\">\n",
       "  <thead>\n",
       "    <tr style=\"text-align: right;\">\n",
       "      <th></th>\n",
       "      <th>Contry code</th>\n",
       "      <th>Activity name</th>\n",
       "      <th>Activity code 1</th>\n",
       "      <th>Activity code 2</th>\n",
       "    </tr>\n",
       "  </thead>\n",
       "  <tbody>\n",
       "    <tr>\n",
       "      <th>0</th>\n",
       "      <td>AU</td>\n",
       "      <td>Cultivation of paddy rice</td>\n",
       "      <td>i01.a</td>\n",
       "      <td>A_PARI</td>\n",
       "    </tr>\n",
       "    <tr>\n",
       "      <th>1</th>\n",
       "      <td>AU</td>\n",
       "      <td>Cultivation of wheat</td>\n",
       "      <td>i01.b</td>\n",
       "      <td>A_WHEA</td>\n",
       "    </tr>\n",
       "    <tr>\n",
       "      <th>2</th>\n",
       "      <td>AU</td>\n",
       "      <td>Cultivation of cereal grains nec</td>\n",
       "      <td>i01.c</td>\n",
       "      <td>A_OCER</td>\n",
       "    </tr>\n",
       "  </tbody>\n",
       "</table>\n",
       "</div>"
      ],
      "text/plain": [
       "  Contry code                     Activity name Activity code 1  \\\n",
       "0          AU         Cultivation of paddy rice           i01.a   \n",
       "1          AU              Cultivation of wheat           i01.b   \n",
       "2          AU  Cultivation of cereal grains nec           i01.c   \n",
       "\n",
       "  Activity code 2  \n",
       "0          A_PARI  \n",
       "1          A_WHEA  \n",
       "2          A_OCER  "
      ]
     },
     "execution_count": 84,
     "metadata": {},
     "output_type": "execute_result"
    }
   ],
   "source": [
    "ex3=pd.read_excel('../raw/Classifications_v_3_3_17.xlsx',sheet_name='Activities')\n",
    "ex3.head(3)"
   ]
  },
  {
   "cell_type": "code",
   "execution_count": 87,
   "metadata": {},
   "outputs": [],
   "source": [
    "ex3_activity_names=ex3['Activity name'].unique()"
   ]
  },
  {
   "cell_type": "markdown",
   "metadata": {},
   "source": [
    "load entso-e activities (provided by Carlos)"
   ]
  },
  {
   "cell_type": "code",
   "execution_count": 98,
   "metadata": {},
   "outputs": [
    {
     "data": {
      "text/html": [
       "<div>\n",
       "<style scoped>\n",
       "    .dataframe tbody tr th:only-of-type {\n",
       "        vertical-align: middle;\n",
       "    }\n",
       "\n",
       "    .dataframe tbody tr th {\n",
       "        vertical-align: top;\n",
       "    }\n",
       "\n",
       "    .dataframe thead th {\n",
       "        text-align: right;\n",
       "    }\n",
       "</style>\n",
       "<table border=\"1\" class=\"dataframe\">\n",
       "  <thead>\n",
       "    <tr style=\"text-align: right;\">\n",
       "      <th></th>\n",
       "      <th>technology</th>\n",
       "    </tr>\n",
       "  </thead>\n",
       "  <tbody>\n",
       "    <tr>\n",
       "      <th>0</th>\n",
       "      <td>Fossil Peat</td>\n",
       "    </tr>\n",
       "    <tr>\n",
       "      <th>1</th>\n",
       "      <td>Hydro Water Reservoir</td>\n",
       "    </tr>\n",
       "    <tr>\n",
       "      <th>2</th>\n",
       "      <td>Fossil Brown coal/Lignite</td>\n",
       "    </tr>\n",
       "    <tr>\n",
       "      <th>3</th>\n",
       "      <td>Nuclear</td>\n",
       "    </tr>\n",
       "    <tr>\n",
       "      <th>4</th>\n",
       "      <td>Other</td>\n",
       "    </tr>\n",
       "    <tr>\n",
       "      <th>5</th>\n",
       "      <td>Solar</td>\n",
       "    </tr>\n",
       "    <tr>\n",
       "      <th>6</th>\n",
       "      <td>Fossil Gas</td>\n",
       "    </tr>\n",
       "    <tr>\n",
       "      <th>7</th>\n",
       "      <td>Wind Offshore</td>\n",
       "    </tr>\n",
       "    <tr>\n",
       "      <th>8</th>\n",
       "      <td>Biomass</td>\n",
       "    </tr>\n",
       "    <tr>\n",
       "      <th>9</th>\n",
       "      <td>Hydro Run-of-river and poundage</td>\n",
       "    </tr>\n",
       "    <tr>\n",
       "      <th>10</th>\n",
       "      <td>Hydro Pumped Storage</td>\n",
       "    </tr>\n",
       "    <tr>\n",
       "      <th>11</th>\n",
       "      <td>Marine</td>\n",
       "    </tr>\n",
       "    <tr>\n",
       "      <th>12</th>\n",
       "      <td>Wind Onshore</td>\n",
       "    </tr>\n",
       "    <tr>\n",
       "      <th>13</th>\n",
       "      <td>Waste</td>\n",
       "    </tr>\n",
       "    <tr>\n",
       "      <th>14</th>\n",
       "      <td>Geothermal</td>\n",
       "    </tr>\n",
       "    <tr>\n",
       "      <th>15</th>\n",
       "      <td>Fossil Oil shale</td>\n",
       "    </tr>\n",
       "    <tr>\n",
       "      <th>16</th>\n",
       "      <td>Fossil Coal-derived gas</td>\n",
       "    </tr>\n",
       "    <tr>\n",
       "      <th>17</th>\n",
       "      <td>Fossil Oil</td>\n",
       "    </tr>\n",
       "    <tr>\n",
       "      <th>18</th>\n",
       "      <td>Other renewable</td>\n",
       "    </tr>\n",
       "    <tr>\n",
       "      <th>19</th>\n",
       "      <td>Fossil Hard coal</td>\n",
       "    </tr>\n",
       "  </tbody>\n",
       "</table>\n",
       "</div>"
      ],
      "text/plain": [
       "                         technology\n",
       "0                       Fossil Peat\n",
       "1             Hydro Water Reservoir\n",
       "2         Fossil Brown coal/Lignite\n",
       "3                           Nuclear\n",
       "4                             Other\n",
       "5                             Solar\n",
       "6                        Fossil Gas\n",
       "7                     Wind Offshore\n",
       "8                           Biomass\n",
       "9   Hydro Run-of-river and poundage\n",
       "10             Hydro Pumped Storage\n",
       "11                           Marine\n",
       "12                     Wind Onshore\n",
       "13                            Waste\n",
       "14                       Geothermal\n",
       "15                 Fossil Oil shale\n",
       "16          Fossil Coal-derived gas\n",
       "17                       Fossil Oil\n",
       "18                  Other renewable\n",
       "19                 Fossil Hard coal"
      ]
     },
     "execution_count": 98,
     "metadata": {},
     "output_type": "execute_result"
    }
   ],
   "source": [
    "entsoe_technologies=pd.read_csv('../raw/bentso_technologies_updated.csv')\n",
    "entsoe_technologies"
   ]
  },
  {
   "cell_type": "markdown",
   "metadata": {},
   "source": [
    "one could do some string matching operations to find the equivalences.. e.g. exiobase activities containing electricity in the name."
   ]
  },
  {
   "cell_type": "code",
   "execution_count": 96,
   "metadata": {},
   "outputs": [
    {
     "data": {
      "text/plain": [
       "['Production of electricity by coal',\n",
       " 'Production of electricity by gas',\n",
       " 'Production of electricity by nuclear',\n",
       " 'Production of electricity by hydro',\n",
       " 'Production of electricity by wind',\n",
       " 'Production of electricity by petroleum and other oil derivatives',\n",
       " 'Production of electricity by biomass and waste',\n",
       " 'Production of electricity by solar photovoltaic',\n",
       " 'Production of electricity by solar thermal',\n",
       " 'Production of electricity by tide, wave, ocean',\n",
       " 'Production of electricity by Geothermal',\n",
       " 'Production of electricity nec',\n",
       " 'Transmission of electricity',\n",
       " 'Distribution and trade of electricity']"
      ]
     },
     "execution_count": 96,
     "metadata": {},
     "output_type": "execute_result"
    }
   ],
   "source": [
    "[s for s in ex3_activity_names if \"electricity\" in s.lower()] "
   ]
  },
  {
   "cell_type": "markdown",
   "metadata": {},
   "source": [
    "the easiest is to do the matching by hand."
   ]
  },
  {
   "cell_type": "code",
   "execution_count": 102,
   "metadata": {},
   "outputs": [
    {
     "name": "stdout",
     "output_type": "stream",
     "text": [
      "'Fossil Peat':\n",
      "'Hydro Water Reservoir':\n",
      "'Fossil Brown coal/Lignite':\n",
      "'Nuclear':\n",
      "'Other':\n",
      "'Solar':\n",
      "'Fossil Gas':\n",
      "'Wind Offshore':\n",
      "'Biomass':\n",
      "'Hydro Run-of-river and poundage':\n",
      "'Hydro Pumped Storage':\n",
      "'Marine':\n",
      "'Wind Onshore':\n",
      "'Waste':\n",
      "'Geothermal':\n",
      "'Fossil Oil shale':\n",
      "'Fossil Coal-derived gas':\n",
      "'Fossil Oil':\n",
      "'Other renewable':\n",
      "'Fossil Hard coal':\n"
     ]
    }
   ],
   "source": [
    " for t in entsoe_technologies.technology.unique():\n",
    "        print(\"'{}':\".format(t))"
   ]
  },
  {
   "cell_type": "code",
   "execution_count": 103,
   "metadata": {},
   "outputs": [],
   "source": [
    "entsoe_to_exiobase3={\n",
    "'Fossil Peat':'Production of electricity by coal',\n",
    "'Hydro Water Reservoir':'Production of electricity by hydro',\n",
    "'Fossil Brown coal/Lignite':'Production of electricity by coal',\n",
    "'Nuclear':'Production of electricity by nuclear',\n",
    "'Other':'Production of electricity nec',\n",
    "'Solar':'Production of electricity by solar photovoltaic',\n",
    "'Fossil Gas':'Production of electricity by gas',\n",
    "'Wind Offshore':'Production of electricity by wind',\n",
    "'Biomass':'Production of electricity by biomass and waste',\n",
    "'Hydro Run-of-river and poundage':'Production of electricity by hydro',\n",
    "'Hydro Pumped Storage':'Production of electricity by hydro',\n",
    "'Marine':'Production of electricity by tide, wave, ocean',\n",
    "'Wind Onshore':'Production of electricity by wind',\n",
    "'Waste':'Production of electricity by biomass and waste',\n",
    "'Geothermal':'Production of electricity by Geothermal',\n",
    "'Fossil Oil shale':'Production of electricity by coal',\n",
    "'Fossil Coal-derived gas':'Production of electricity by coal', #?\n",
    "'Fossil Oil':'Production of electricity by petroleum and other oil derivatives',\n",
    "'Other renewable':'Production of electricity by tide, wave, ocean',\n",
    "'Fossil Hard coal':'Production of electricity by coal',\n",
    "}"
   ]
  },
  {
   "cell_type": "markdown",
   "metadata": {},
   "source": [
    "some checks."
   ]
  },
  {
   "cell_type": "code",
   "execution_count": 114,
   "metadata": {},
   "outputs": [],
   "source": [
    "#all technologies in entso-e have a exiobase \"correspondant\"\n",
    "assert len(set(entsoe_technologies.technology.unique()).difference(set([k for k in entsoe_to_exiobase3.keys()])))==0"
   ]
  },
  {
   "cell_type": "code",
   "execution_count": null,
   "metadata": {},
   "outputs": [],
   "source": []
  },
  {
   "cell_type": "code",
   "execution_count": 120,
   "metadata": {},
   "outputs": [],
   "source": [
    "entsoe_to_exiobase3_df=pd.DataFrame.from_dict(entsoe_to_exiobase3,orient='index').reset_index()\n",
    "entsoe_to_exiobase3_df.columns=['entso-e','exiobase3']"
   ]
  },
  {
   "cell_type": "code",
   "execution_count": 121,
   "metadata": {},
   "outputs": [
    {
     "data": {
      "text/html": [
       "<div>\n",
       "<style scoped>\n",
       "    .dataframe tbody tr th:only-of-type {\n",
       "        vertical-align: middle;\n",
       "    }\n",
       "\n",
       "    .dataframe tbody tr th {\n",
       "        vertical-align: top;\n",
       "    }\n",
       "\n",
       "    .dataframe thead th {\n",
       "        text-align: right;\n",
       "    }\n",
       "</style>\n",
       "<table border=\"1\" class=\"dataframe\">\n",
       "  <thead>\n",
       "    <tr style=\"text-align: right;\">\n",
       "      <th></th>\n",
       "      <th>entso-e</th>\n",
       "      <th>exiobase3</th>\n",
       "    </tr>\n",
       "  </thead>\n",
       "  <tbody>\n",
       "    <tr>\n",
       "      <th>0</th>\n",
       "      <td>Fossil Peat</td>\n",
       "      <td>Production of electricity by coal</td>\n",
       "    </tr>\n",
       "    <tr>\n",
       "      <th>1</th>\n",
       "      <td>Hydro Water Reservoir</td>\n",
       "      <td>Production of electricity by hydro</td>\n",
       "    </tr>\n",
       "    <tr>\n",
       "      <th>2</th>\n",
       "      <td>Fossil Brown coal/Lignite</td>\n",
       "      <td>Production of electricity by coal</td>\n",
       "    </tr>\n",
       "    <tr>\n",
       "      <th>3</th>\n",
       "      <td>Nuclear</td>\n",
       "      <td>Production of electricity by nuclear</td>\n",
       "    </tr>\n",
       "    <tr>\n",
       "      <th>4</th>\n",
       "      <td>Other</td>\n",
       "      <td>Production of electricity nec</td>\n",
       "    </tr>\n",
       "    <tr>\n",
       "      <th>5</th>\n",
       "      <td>Solar</td>\n",
       "      <td>Production of electricity by solar photovoltaic</td>\n",
       "    </tr>\n",
       "    <tr>\n",
       "      <th>6</th>\n",
       "      <td>Fossil Gas</td>\n",
       "      <td>Production of electricity by gas</td>\n",
       "    </tr>\n",
       "    <tr>\n",
       "      <th>7</th>\n",
       "      <td>Wind Offshore</td>\n",
       "      <td>Production of electricity by wind</td>\n",
       "    </tr>\n",
       "    <tr>\n",
       "      <th>8</th>\n",
       "      <td>Biomass</td>\n",
       "      <td>Production of electricity by biomass and waste</td>\n",
       "    </tr>\n",
       "    <tr>\n",
       "      <th>9</th>\n",
       "      <td>Hydro Run-of-river and poundage</td>\n",
       "      <td>Production of electricity by hydro</td>\n",
       "    </tr>\n",
       "    <tr>\n",
       "      <th>10</th>\n",
       "      <td>Hydro Pumped Storage</td>\n",
       "      <td>Production of electricity by hydro</td>\n",
       "    </tr>\n",
       "    <tr>\n",
       "      <th>11</th>\n",
       "      <td>Marine</td>\n",
       "      <td>Production of electricity by tide, wave, ocean</td>\n",
       "    </tr>\n",
       "    <tr>\n",
       "      <th>12</th>\n",
       "      <td>Wind Onshore</td>\n",
       "      <td>Production of electricity by wind</td>\n",
       "    </tr>\n",
       "    <tr>\n",
       "      <th>13</th>\n",
       "      <td>Waste</td>\n",
       "      <td>Production of electricity by biomass and waste</td>\n",
       "    </tr>\n",
       "    <tr>\n",
       "      <th>14</th>\n",
       "      <td>Geothermal</td>\n",
       "      <td>Production of electricity by Geothermal</td>\n",
       "    </tr>\n",
       "    <tr>\n",
       "      <th>15</th>\n",
       "      <td>Fossil Oil shale</td>\n",
       "      <td>Production of electricity by coal</td>\n",
       "    </tr>\n",
       "    <tr>\n",
       "      <th>16</th>\n",
       "      <td>Fossil Coal-derived gas</td>\n",
       "      <td>Production of electricity by coal</td>\n",
       "    </tr>\n",
       "    <tr>\n",
       "      <th>17</th>\n",
       "      <td>Fossil Oil</td>\n",
       "      <td>Production of electricity by petroleum and oth...</td>\n",
       "    </tr>\n",
       "    <tr>\n",
       "      <th>18</th>\n",
       "      <td>Other renewable</td>\n",
       "      <td>Production of electricity by tide, wave, ocean</td>\n",
       "    </tr>\n",
       "    <tr>\n",
       "      <th>19</th>\n",
       "      <td>Fossil Hard coal</td>\n",
       "      <td>Production of electricity by coal</td>\n",
       "    </tr>\n",
       "  </tbody>\n",
       "</table>\n",
       "</div>"
      ],
      "text/plain": [
       "                            entso-e  \\\n",
       "0                       Fossil Peat   \n",
       "1             Hydro Water Reservoir   \n",
       "2         Fossil Brown coal/Lignite   \n",
       "3                           Nuclear   \n",
       "4                             Other   \n",
       "5                             Solar   \n",
       "6                        Fossil Gas   \n",
       "7                     Wind Offshore   \n",
       "8                           Biomass   \n",
       "9   Hydro Run-of-river and poundage   \n",
       "10             Hydro Pumped Storage   \n",
       "11                           Marine   \n",
       "12                     Wind Onshore   \n",
       "13                            Waste   \n",
       "14                       Geothermal   \n",
       "15                 Fossil Oil shale   \n",
       "16          Fossil Coal-derived gas   \n",
       "17                       Fossil Oil   \n",
       "18                  Other renewable   \n",
       "19                 Fossil Hard coal   \n",
       "\n",
       "                                            exiobase3  \n",
       "0                   Production of electricity by coal  \n",
       "1                  Production of electricity by hydro  \n",
       "2                   Production of electricity by coal  \n",
       "3                Production of electricity by nuclear  \n",
       "4                       Production of electricity nec  \n",
       "5     Production of electricity by solar photovoltaic  \n",
       "6                    Production of electricity by gas  \n",
       "7                   Production of electricity by wind  \n",
       "8      Production of electricity by biomass and waste  \n",
       "9                  Production of electricity by hydro  \n",
       "10                 Production of electricity by hydro  \n",
       "11     Production of electricity by tide, wave, ocean  \n",
       "12                  Production of electricity by wind  \n",
       "13     Production of electricity by biomass and waste  \n",
       "14            Production of electricity by Geothermal  \n",
       "15                  Production of electricity by coal  \n",
       "16                  Production of electricity by coal  \n",
       "17  Production of electricity by petroleum and oth...  \n",
       "18     Production of electricity by tide, wave, ocean  \n",
       "19                  Production of electricity by coal  "
      ]
     },
     "execution_count": 121,
     "metadata": {},
     "output_type": "execute_result"
    }
   ],
   "source": [
    "entsoe_to_exiobase3_df"
   ]
  },
  {
   "cell_type": "markdown",
   "metadata": {},
   "source": [
    "this table can easily be stored into csv for further processing. For example specifying that \"fossil hard coal\" is a subclass of \"Production of electricity by coal\". \n",
    "The selection of the predicate may not be so easy to automate, but we could have some defaults."
   ]
  },
  {
   "cell_type": "code",
   "execution_count": null,
   "metadata": {},
   "outputs": [],
   "source": []
  }
 ],
 "metadata": {
  "kernelspec": {
   "display_name": "Python 3",
   "language": "python",
   "name": "python3"
  },
  "language_info": {
   "codemirror_mode": {
    "name": "ipython",
    "version": 3
   },
   "file_extension": ".py",
   "mimetype": "text/x-python",
   "name": "python",
   "nbconvert_exporter": "python",
   "pygments_lexer": "ipython3",
   "version": "3.6.8"
  }
 },
 "nbformat": 4,
 "nbformat_minor": 2
}
