{
 "cells": [
  {
   "cell_type": "markdown",
   "metadata": {},
   "source": [
    "# exiobase to isic v4 \n",
    "\n",
    "this correspondance table does not exist but here we create it from existing ones. "
   ]
  },
  {
   "cell_type": "code",
   "execution_count": 1,
   "metadata": {},
   "outputs": [],
   "source": [
    "import pandas as pd"
   ]
  },
  {
   "cell_type": "markdown",
   "metadata": {},
   "source": [
    "from https://unstats.un.org/unsd/classifications/business-trade/tables/ISIC/ISIC31_ISIC4/ISIC31_ISIC4.txt"
   ]
  },
  {
   "cell_type": "code",
   "execution_count": 2,
   "metadata": {},
   "outputs": [
    {
     "name": "stderr",
     "output_type": "stream",
     "text": [
      "C:\\Users\\migue\\Anaconda3\\envs\\bw2\\lib\\site-packages\\ipykernel_launcher.py:1: FutureWarning: read_table is deprecated, use read_csv instead.\n",
      "  \"\"\"Entry point for launching an IPython kernel.\n"
     ]
    },
    {
     "data": {
      "text/html": [
       "<div>\n",
       "<style scoped>\n",
       "    .dataframe tbody tr th:only-of-type {\n",
       "        vertical-align: middle;\n",
       "    }\n",
       "\n",
       "    .dataframe tbody tr th {\n",
       "        vertical-align: top;\n",
       "    }\n",
       "\n",
       "    .dataframe thead th {\n",
       "        text-align: right;\n",
       "    }\n",
       "</style>\n",
       "<table border=\"1\" class=\"dataframe\">\n",
       "  <thead>\n",
       "    <tr style=\"text-align: right;\">\n",
       "      <th></th>\n",
       "      <th>ISIC31code</th>\n",
       "      <th>partialISIC31</th>\n",
       "      <th>ISIC4code</th>\n",
       "      <th>partialISIC4</th>\n",
       "      <th>Detail</th>\n",
       "    </tr>\n",
       "  </thead>\n",
       "  <tbody>\n",
       "    <tr>\n",
       "      <th>0</th>\n",
       "      <td>111</td>\n",
       "      <td>1</td>\n",
       "      <td>111</td>\n",
       "      <td>0</td>\n",
       "      <td>NaN</td>\n",
       "    </tr>\n",
       "    <tr>\n",
       "      <th>1</th>\n",
       "      <td>111</td>\n",
       "      <td>1</td>\n",
       "      <td>112</td>\n",
       "      <td>0</td>\n",
       "      <td>NaN</td>\n",
       "    </tr>\n",
       "    <tr>\n",
       "      <th>2</th>\n",
       "      <td>111</td>\n",
       "      <td>1</td>\n",
       "      <td>113</td>\n",
       "      <td>1</td>\n",
       "      <td>Growing of sugar beet, roots and tubers</td>\n",
       "    </tr>\n",
       "    <tr>\n",
       "      <th>3</th>\n",
       "      <td>111</td>\n",
       "      <td>1</td>\n",
       "      <td>114</td>\n",
       "      <td>0</td>\n",
       "      <td>NaN</td>\n",
       "    </tr>\n",
       "    <tr>\n",
       "      <th>4</th>\n",
       "      <td>111</td>\n",
       "      <td>1</td>\n",
       "      <td>115</td>\n",
       "      <td>0</td>\n",
       "      <td>NaN</td>\n",
       "    </tr>\n",
       "  </tbody>\n",
       "</table>\n",
       "</div>"
      ],
      "text/plain": [
       "   ISIC31code  partialISIC31  ISIC4code  partialISIC4  \\\n",
       "0         111              1        111             0   \n",
       "1         111              1        112             0   \n",
       "2         111              1        113             1   \n",
       "3         111              1        114             0   \n",
       "4         111              1        115             0   \n",
       "\n",
       "                                    Detail  \n",
       "0                                      NaN  \n",
       "1                                      NaN  \n",
       "2  Growing of sugar beet, roots and tubers  \n",
       "3                                      NaN  \n",
       "4                                      NaN  "
      ]
     },
     "execution_count": 2,
     "metadata": {},
     "output_type": "execute_result"
    }
   ],
   "source": [
    "isic31to4=pd.read_table('../raw/ISIC31_ISIC4.txt',sep=',')\n",
    "isic31to4.head()"
   ]
  },
  {
   "cell_type": "code",
   "execution_count": 3,
   "metadata": {},
   "outputs": [],
   "source": [
    "isic_31_to_4_dict=dict(isic31to4[['ISIC31code','ISIC4code']].values)"
   ]
  },
  {
   "cell_type": "markdown",
   "metadata": {},
   "source": [
    "provided by Constantin Standler"
   ]
  },
  {
   "cell_type": "code",
   "execution_count": 4,
   "metadata": {},
   "outputs": [
    {
     "data": {
      "text/html": [
       "<div>\n",
       "<style scoped>\n",
       "    .dataframe tbody tr th:only-of-type {\n",
       "        vertical-align: middle;\n",
       "    }\n",
       "\n",
       "    .dataframe tbody tr th {\n",
       "        vertical-align: top;\n",
       "    }\n",
       "\n",
       "    .dataframe thead th {\n",
       "        text-align: right;\n",
       "    }\n",
       "</style>\n",
       "<table border=\"1\" class=\"dataframe\">\n",
       "  <thead>\n",
       "    <tr style=\"text-align: right;\">\n",
       "      <th></th>\n",
       "      <th>ISIC REV. 3 - NACE REV. 1</th>\n",
       "      <th>EXIOBASE 2.0</th>\n",
       "    </tr>\n",
       "  </thead>\n",
       "  <tbody>\n",
       "    <tr>\n",
       "      <th>0</th>\n",
       "      <td>Source (unique)</td>\n",
       "      <td>NaN</td>\n",
       "    </tr>\n",
       "    <tr>\n",
       "      <th>1</th>\n",
       "      <td>1</td>\n",
       "      <td>i01.a;i01.b;i01.c;i01.d;i01.e;i01.f;i01.g;i01....</td>\n",
       "    </tr>\n",
       "    <tr>\n",
       "      <th>2</th>\n",
       "      <td>11</td>\n",
       "      <td>i01.a;i01.b;i01.c;i01.d;i01.e;i01.f;i01.g;i01.h</td>\n",
       "    </tr>\n",
       "    <tr>\n",
       "      <th>3</th>\n",
       "      <td>111</td>\n",
       "      <td>i01.a;i01.b;i01.c;i01.e;i01.f;i01.g;i01.h</td>\n",
       "    </tr>\n",
       "    <tr>\n",
       "      <th>4</th>\n",
       "      <td>112</td>\n",
       "      <td>i01.d;i01.e;i01.h</td>\n",
       "    </tr>\n",
       "  </tbody>\n",
       "</table>\n",
       "</div>"
      ],
      "text/plain": [
       "  ISIC REV. 3 - NACE REV. 1                                       EXIOBASE 2.0\n",
       "0           Source (unique)                                                NaN\n",
       "1                         1  i01.a;i01.b;i01.c;i01.d;i01.e;i01.f;i01.g;i01....\n",
       "2                        11    i01.a;i01.b;i01.c;i01.d;i01.e;i01.f;i01.g;i01.h\n",
       "3                       111          i01.a;i01.b;i01.c;i01.e;i01.f;i01.g;i01.h\n",
       "4                       112                                  i01.d;i01.e;i01.h"
      ]
     },
     "execution_count": 4,
     "metadata": {},
     "output_type": "execute_result"
    }
   ],
   "source": [
    "exiobase_to_isic3=pd.read_excel('../raw/ISIC REV. 3 - EXIOBASE2.0.xlsx',usecols='B:C')\n",
    "exiobase_to_isic3.head()"
   ]
  },
  {
   "cell_type": "markdown",
   "metadata": {},
   "source": [
    "ok, this needs further processing because codes are given at different levels of aggregation."
   ]
  },
  {
   "cell_type": "code",
   "execution_count": 5,
   "metadata": {},
   "outputs": [],
   "source": [
    "exiobase_to_isic3=exiobase_to_isic3.drop(0)"
   ]
  },
  {
   "cell_type": "code",
   "execution_count": 6,
   "metadata": {},
   "outputs": [],
   "source": [
    "exiobase_to_isic3.columns=['isic3','exiobase2']"
   ]
  },
  {
   "cell_type": "code",
   "execution_count": 7,
   "metadata": {},
   "outputs": [],
   "source": [
    "exiobase_to_isic3.isic3=exiobase_to_isic3.isic3.astype(str)"
   ]
  },
  {
   "cell_type": "markdown",
   "metadata": {},
   "source": [
    "if the isic code has 4 digits then is level 4"
   ]
  },
  {
   "cell_type": "code",
   "execution_count": 8,
   "metadata": {},
   "outputs": [],
   "source": [
    "exiobase_to_isic3_l4=exiobase_to_isic3[exiobase_to_isic3.isic3.str.match('....')]"
   ]
  },
  {
   "cell_type": "code",
   "execution_count": 9,
   "metadata": {},
   "outputs": [
    {
     "data": {
      "text/html": [
       "<div>\n",
       "<style scoped>\n",
       "    .dataframe tbody tr th:only-of-type {\n",
       "        vertical-align: middle;\n",
       "    }\n",
       "\n",
       "    .dataframe tbody tr th {\n",
       "        vertical-align: top;\n",
       "    }\n",
       "\n",
       "    .dataframe thead th {\n",
       "        text-align: right;\n",
       "    }\n",
       "</style>\n",
       "<table border=\"1\" class=\"dataframe\">\n",
       "  <thead>\n",
       "    <tr style=\"text-align: right;\">\n",
       "      <th></th>\n",
       "      <th>isic3</th>\n",
       "      <th>exiobase2</th>\n",
       "    </tr>\n",
       "  </thead>\n",
       "  <tbody>\n",
       "    <tr>\n",
       "      <th>23</th>\n",
       "      <td>1010</td>\n",
       "      <td>i10</td>\n",
       "    </tr>\n",
       "    <tr>\n",
       "      <th>25</th>\n",
       "      <td>1020</td>\n",
       "      <td>i10</td>\n",
       "    </tr>\n",
       "    <tr>\n",
       "      <th>27</th>\n",
       "      <td>1030</td>\n",
       "      <td>i10</td>\n",
       "    </tr>\n",
       "    <tr>\n",
       "      <th>29</th>\n",
       "      <td>1110</td>\n",
       "      <td>i11.a;i11.b;i11.c</td>\n",
       "    </tr>\n",
       "    <tr>\n",
       "      <th>30</th>\n",
       "      <td>1120</td>\n",
       "      <td>i11.a;i11.b;i11.c</td>\n",
       "    </tr>\n",
       "  </tbody>\n",
       "</table>\n",
       "</div>"
      ],
      "text/plain": [
       "   isic3          exiobase2\n",
       "23  1010                i10\n",
       "25  1020                i10\n",
       "27  1030                i10\n",
       "29  1110  i11.a;i11.b;i11.c\n",
       "30  1120  i11.a;i11.b;i11.c"
      ]
     },
     "execution_count": 9,
     "metadata": {},
     "output_type": "execute_result"
    }
   ],
   "source": [
    "exiobase_to_isic3_l4.head(5)"
   ]
  },
  {
   "cell_type": "markdown",
   "metadata": {},
   "source": [
    "we can iterate the columns and parse the string in exiobase separating by `;`. Create a dictionary of the exiobase codes to isic codes."
   ]
  },
  {
   "cell_type": "code",
   "execution_count": 10,
   "metadata": {},
   "outputs": [],
   "source": [
    "ex2_isic3_l4={}\n",
    "for row in exiobase_to_isic3_l4.iterrows():\n",
    "    for excode in row[1]['exiobase2'].split(';'):\n",
    "        excode=excode.strip()\n",
    "        ex2_isic3_l4[excode]=row[1]['isic3']"
   ]
  },
  {
   "cell_type": "code",
   "execution_count": 11,
   "metadata": {},
   "outputs": [
    {
     "data": {
      "text/plain": [
       "143"
      ]
     },
     "execution_count": 11,
     "metadata": {},
     "output_type": "execute_result"
    }
   ],
   "source": [
    "len(ex2_isic3_l4)"
   ]
  },
  {
   "cell_type": "markdown",
   "metadata": {},
   "source": [
    "now isic3 to isic 4"
   ]
  },
  {
   "cell_type": "code",
   "execution_count": 12,
   "metadata": {},
   "outputs": [],
   "source": [
    "ex2_isic4_l4={}\n",
    "for item in ex2_isic3_l4.items():\n",
    "    ex2_isic4_l4[item[0]]=str(isic_31_to_4_dict[int(item[1])])"
   ]
  },
  {
   "cell_type": "code",
   "execution_count": 13,
   "metadata": {},
   "outputs": [
    {
     "data": {
      "text/plain": [
       "143"
      ]
     },
     "execution_count": 13,
     "metadata": {},
     "output_type": "execute_result"
    }
   ],
   "source": [
    "len(ex2_isic4_l4)"
   ]
  },
  {
   "cell_type": "markdown",
   "metadata": {},
   "source": [
    "now from exiobase 2 to 3"
   ]
  },
  {
   "cell_type": "markdown",
   "metadata": {},
   "source": [
    "identify the missing codes"
   ]
  },
  {
   "cell_type": "code",
   "execution_count": 38,
   "metadata": {},
   "outputs": [
    {
     "data": {
      "text/html": [
       "<div>\n",
       "<style scoped>\n",
       "    .dataframe tbody tr th:only-of-type {\n",
       "        vertical-align: middle;\n",
       "    }\n",
       "\n",
       "    .dataframe tbody tr th {\n",
       "        vertical-align: top;\n",
       "    }\n",
       "\n",
       "    .dataframe thead th {\n",
       "        text-align: right;\n",
       "    }\n",
       "</style>\n",
       "<table border=\"1\" class=\"dataframe\">\n",
       "  <thead>\n",
       "    <tr style=\"text-align: right;\">\n",
       "      <th></th>\n",
       "      <th></th>\n",
       "      <th>Activity code 1</th>\n",
       "      <th>Activity code 2</th>\n",
       "    </tr>\n",
       "    <tr>\n",
       "      <th>Contry code</th>\n",
       "      <th>Activity name</th>\n",
       "      <th></th>\n",
       "      <th></th>\n",
       "    </tr>\n",
       "  </thead>\n",
       "  <tbody>\n",
       "    <tr>\n",
       "      <th rowspan=\"3\" valign=\"top\">AU</th>\n",
       "      <th>Cultivation of paddy rice</th>\n",
       "      <td>i01.a</td>\n",
       "      <td>A_PARI</td>\n",
       "    </tr>\n",
       "    <tr>\n",
       "      <th>Cultivation of wheat</th>\n",
       "      <td>i01.b</td>\n",
       "      <td>A_WHEA</td>\n",
       "    </tr>\n",
       "    <tr>\n",
       "      <th>Cultivation of cereal grains nec</th>\n",
       "      <td>i01.c</td>\n",
       "      <td>A_OCER</td>\n",
       "    </tr>\n",
       "  </tbody>\n",
       "</table>\n",
       "</div>"
      ],
      "text/plain": [
       "                                             Activity code 1 Activity code 2\n",
       "Contry code Activity name                                                   \n",
       "AU          Cultivation of paddy rice                  i01.a          A_PARI\n",
       "            Cultivation of wheat                       i01.b          A_WHEA\n",
       "            Cultivation of cereal grains nec           i01.c          A_OCER"
      ]
     },
     "execution_count": 38,
     "metadata": {},
     "output_type": "execute_result"
    }
   ],
   "source": [
    "ex3=pd.read_excel('../raw/Classifications_v_3_3_17.xlsx',sheet_name='Activities',index_col=[0,1])\n",
    "ex3.head(3)"
   ]
  },
  {
   "cell_type": "code",
   "execution_count": 47,
   "metadata": {},
   "outputs": [
    {
     "data": {
      "text/plain": [
       "Activity code 1    True\n",
       "Activity code 2    True\n",
       "dtype: bool"
      ]
     },
     "execution_count": 47,
     "metadata": {},
     "output_type": "execute_result"
    }
   ],
   "source": [
    "(ex3.groupby('Contry code').count()==164).all()"
   ]
  },
  {
   "cell_type": "markdown",
   "metadata": {},
   "source": [
    "All the countries have the same number of activities, so we can pick one to identify the codes. "
   ]
  },
  {
   "cell_type": "code",
   "execution_count": 53,
   "metadata": {},
   "outputs": [],
   "source": [
    "ex3_descrip_to_actcode1=dict(ex3.loc['AU','Activity code 1'])"
   ]
  },
  {
   "cell_type": "code",
   "execution_count": 54,
   "metadata": {},
   "outputs": [],
   "source": [
    "ex3_actcode1_to_descrip = {v: k for k, v in ex3_descrip_to_actcode1.items()}"
   ]
  },
  {
   "cell_type": "code",
   "execution_count": 31,
   "metadata": {},
   "outputs": [],
   "source": [
    "ex3_actcode1_set=set(ex3['Activity code 1'].values)"
   ]
  },
  {
   "cell_type": "code",
   "execution_count": 33,
   "metadata": {},
   "outputs": [],
   "source": [
    "missing_codes=ex3_actcode1_set.difference(set([k for k in ex2_isic4_l4.keys()]))"
   ]
  },
  {
   "cell_type": "code",
   "execution_count": 61,
   "metadata": {},
   "outputs": [
    {
     "name": "stdout",
     "output_type": "stream",
     "text": [
      "i90.5.d - Landfill of waste: Inert/metal/hazardous\n",
      "i01.f - Cultivation of sugar cane, sugar beet\n",
      "i24.a - Plastics, basic\n",
      "i01.a - Cultivation of paddy rice\n",
      "i90.2.a - Biogasification of food waste, incl. land application\n",
      "i05 - Fishing, operating of fish hatcheries and fish farms; service activities incidental to fishing (05)\n",
      "i01.k - Poultry farming\n",
      "i01.d - Cultivation of vegetables, fruit, nuts\n",
      "i90.5.c - Landfill of waste: Plastic\n",
      "i90.2.c - Biogasification of sewage slugde, incl. land application\n",
      "i24.a.w - Re-processing of secondary plastic into new plastic\n",
      "i01.o - Wool, silk-worm cocoons\n",
      "i01.b - Cultivation of wheat\n",
      "i01.w.1 - Manure treatment (conventional), storage and land application\n",
      "i90.2.b - Biogasification of paper, incl. land application\n",
      "i26.a.w - Re-processing of secondary glass into new glass\n",
      "i01.e - Cultivation of oil seeds\n",
      "i90.5.f - Landfill of waste: Wood\n",
      "i01.g - Cultivation of plant-based fibers\n",
      "i26.d.w - Re-processing of ash into clinker\n",
      "i01.c - Cultivation of cereal grains nec\n",
      "i02 - Forestry, logging and related service activities (02)\n",
      "i24.d - Chemicals nec\n",
      "i01.j - Pigs farming\n",
      "i24.c - P- and other fertiliser\n",
      "i40.2.a - Manufacture of gas;\n",
      "i01.n - Raw milk\n",
      "i24.b - N-fertiliser\n",
      "i01.l - Meat animals nec\n",
      "i90.5.e - Landfill of waste: Textiles\n",
      "i01.m - Animal products nec\n",
      "i40.2.b - Distribution of gaseous fuels through mains\n",
      "i01.w.2 - Manure treatment (biogas), storage and land application\n",
      "i01.i - Cattle farming\n",
      "i01.h - Cultivation of crops nec\n"
     ]
    }
   ],
   "source": [
    "for code in missing_codes:\n",
    "    print(code,'-',ex3_actcode1_to_descrip[code])"
   ]
  },
  {
   "cell_type": "code",
   "execution_count": 57,
   "metadata": {},
   "outputs": [],
   "source": [
    "#assume they have not changed.\n",
    "ex3_isic4_l4=ex2_isic4_l4.copy()"
   ]
  },
  {
   "cell_type": "code",
   "execution_count": 58,
   "metadata": {},
   "outputs": [
    {
     "data": {
      "text/plain": [
       "{'i10': '990',\n",
       " 'i11.a': '910',\n",
       " 'i11.b': '910',\n",
       " 'i11.c': '910',\n",
       " 'i12': '990',\n",
       " 'i13.1': '990',\n",
       " 'i13.20.11': '990',\n",
       " 'i13.20.12': '990',\n",
       " 'i13.20.13': '990',\n",
       " 'i13.20.14': '990',\n",
       " 'i13.20.15': '990',\n",
       " 'i13.20.16': '990',\n",
       " 'i14.1': '990',\n",
       " 'i14.2': '990',\n",
       " 'i14.3': '990',\n",
       " 'i15.a': '1010',\n",
       " 'i15.b': '1010',\n",
       " 'i15.c': '1010',\n",
       " 'i15.d': '1010',\n",
       " 'i15.k': '1075',\n",
       " 'i15.g': '1075',\n",
       " 'i15.i': '3530',\n",
       " 'i15.e': '1040',\n",
       " 'i15.f': '1050',\n",
       " 'i15.h': '1072',\n",
       " 'i15.j': '1104',\n",
       " 'i16': '1200',\n",
       " 'i17': '1430',\n",
       " 'i18': '1511',\n",
       " 'i19': '3230',\n",
       " 'i20': '3319',\n",
       " 'i20.w': '3319',\n",
       " 'i21.1': '1701',\n",
       " 'i21.w.1': '2220',\n",
       " 'i21.2': '2220',\n",
       " 'i22': '1820',\n",
       " 'i23.1': '1910',\n",
       " 'i23.2': '1920',\n",
       " 'i23.3': '3822',\n",
       " 'i24.1': '2013',\n",
       " 'i24.1.w': '2013',\n",
       " 'i24.4': '2030',\n",
       " 'i24.2': '3821',\n",
       " 'i24.3': '3821',\n",
       " 'i25': '3319',\n",
       " 'i26.a': '3319',\n",
       " 'i26.w.1': '3319',\n",
       " 'i26.b': '2391',\n",
       " 'i26.c': '2392',\n",
       " 'i26.d': '2394',\n",
       " 'i26.e': '3319',\n",
       " 'i27.a': '2431',\n",
       " 'i27.a.w': '2431',\n",
       " 'i27.41': '2420',\n",
       " 'i27.41.w': '2420',\n",
       " 'i27.42': '2420',\n",
       " 'i27.42.w': '2420',\n",
       " 'i27.43': '2420',\n",
       " 'i27.43.w': '2420',\n",
       " 'i27.44': '2420',\n",
       " 'i27.44.w': '2420',\n",
       " 'i27.45': '2420',\n",
       " 'i27.45.w': '2420',\n",
       " 'i27.5': '2432',\n",
       " 'i28': '3311',\n",
       " 'i29': '2819',\n",
       " 'i30': '3320',\n",
       " 'i31': '3314',\n",
       " 'i32': '9521',\n",
       " 'i33': '3319',\n",
       " 'i34': '2930',\n",
       " 'i35': '3315',\n",
       " 'i36': '3312',\n",
       " 'i37': '3830',\n",
       " 'i37.w.1': '3830',\n",
       " 'i40.11.a': '3510',\n",
       " 'i40.11.b': '3510',\n",
       " 'i40.11.c': '3510',\n",
       " 'i40.11.d': '3510',\n",
       " 'i40.11.e': '3510',\n",
       " 'i40.11.f': '3510',\n",
       " 'i40.11.g': '3510',\n",
       " 'i40.11.h': '3510',\n",
       " 'i40.11.i': '3510',\n",
       " 'i40.11.j': '3510',\n",
       " 'i40.11.k': '3510',\n",
       " 'i40.11.l': '3510',\n",
       " 'i40.12': '3510',\n",
       " 'i40.13': '3510',\n",
       " 'i40.2': '3520',\n",
       " 'i40.3': '3530',\n",
       " 'i41': '3600',\n",
       " 'i45': '4390',\n",
       " 'i45.w': '4390',\n",
       " 'i50.a': '4540',\n",
       " 'i50.b': '4730',\n",
       " 'i51': '4690',\n",
       " 'i52': '9529',\n",
       " 'i55': '5630',\n",
       " 'i60.1': '5221',\n",
       " 'i60.2': '4923',\n",
       " 'i60.3': '4930',\n",
       " 'i61.1': '5012',\n",
       " 'i61.2': '5022',\n",
       " 'i62': '5120',\n",
       " 'i63': '7490',\n",
       " 'i64': '6190',\n",
       " 'i65': '9499',\n",
       " 'i66': '6520',\n",
       " 'i67': '6629',\n",
       " 'i70': '8110',\n",
       " 'i71': '7730',\n",
       " 'i72': '6209',\n",
       " 'i73': '7220',\n",
       " 'i74': '8550',\n",
       " 'i75': '8430',\n",
       " 'i80': '8549',\n",
       " 'i85': '8890',\n",
       " 'i90.1.a': '8130',\n",
       " 'i90.1.b': '8130',\n",
       " 'i90.1.c': '8130',\n",
       " 'i90.1.d': '8130',\n",
       " 'i90.1.e': '8130',\n",
       " 'i90.1.f': '8130',\n",
       " 'i90.1.g': '8130',\n",
       " 'i90.3.a': '8130',\n",
       " 'i90.3.b': '8130',\n",
       " 'i90.3.c': '8130',\n",
       " 'i90.4.a': '8130',\n",
       " 'i90.4.b': '8130',\n",
       " 'i90.5.a': '8130',\n",
       " 'i90.5.b': '8130',\n",
       " 'i90.6.a': '8130',\n",
       " 'i90.6.b': '8130',\n",
       " 'i90.6.c': '8130',\n",
       " 'i90.6.d': '8130',\n",
       " 'i90.6.e': '8130',\n",
       " 'i90.6.f': '8130',\n",
       " 'i91': '9499',\n",
       " 'i92': '9329',\n",
       " 'i93': '9609',\n",
       " 'i99': '9900',\n",
       " 'i95': '9700'}"
      ]
     },
     "execution_count": 58,
     "metadata": {},
     "output_type": "execute_result"
    }
   ],
   "source": [
    "ex3_isic4_l4['i90.5.d']='5093' \n",
    "ex3_isic4_l4['i01.f']='0133'\n",
    "ex3_isic4_l4['i24.a']=\n",
    "ex3_isic4_l4['i01.a']=\n",
    "ex3_isic4_l4['i90.2.a']=\n",
    "ex3_isic4_l4['i05']=\n",
    "ex3_isic4_l4['i01.k']=\n",
    "ex3_isic4_l4['i01.d']=\n",
    "ex3_isic4_l4['i90.5.c']=\n",
    "ex3_isic4_l4['i90.2.c']=\n",
    "ex3_isic4_l4['i01.o']=\n",
    "ex3_isic4_l4['i01.b']=\n",
    "ex3_isic4_l4['i90.2.c']=\n",
    "ex3_isic4_l4['i90.2.c']=\n",
    "ex3_isic4_l4['i90.2.c']=\n",
    "ex3_isic4_l4['i90.2.c']=\n",
    "ex3_isic4_l4['i90.2.c']=\n"
   ]
  },
  {
   "cell_type": "code",
   "execution_count": 14,
   "metadata": {},
   "outputs": [
    {
     "data": {
      "text/html": [
       "<div>\n",
       "<style scoped>\n",
       "    .dataframe tbody tr th:only-of-type {\n",
       "        vertical-align: middle;\n",
       "    }\n",
       "\n",
       "    .dataframe tbody tr th {\n",
       "        vertical-align: top;\n",
       "    }\n",
       "\n",
       "    .dataframe thead th {\n",
       "        text-align: right;\n",
       "    }\n",
       "</style>\n",
       "<table border=\"1\" class=\"dataframe\">\n",
       "  <thead>\n",
       "    <tr style=\"text-align: right;\">\n",
       "      <th></th>\n",
       "      <th>exiobase2</th>\n",
       "      <th>isic_rev4_l4</th>\n",
       "    </tr>\n",
       "  </thead>\n",
       "  <tbody>\n",
       "    <tr>\n",
       "      <th>0</th>\n",
       "      <td>i10</td>\n",
       "      <td>990</td>\n",
       "    </tr>\n",
       "    <tr>\n",
       "      <th>1</th>\n",
       "      <td>i11.a</td>\n",
       "      <td>910</td>\n",
       "    </tr>\n",
       "    <tr>\n",
       "      <th>2</th>\n",
       "      <td>i11.b</td>\n",
       "      <td>910</td>\n",
       "    </tr>\n",
       "  </tbody>\n",
       "</table>\n",
       "</div>"
      ],
      "text/plain": [
       "  exiobase2 isic_rev4_l4\n",
       "0       i10          990\n",
       "1     i11.a          910\n",
       "2     i11.b          910"
      ]
     },
     "execution_count": 14,
     "metadata": {},
     "output_type": "execute_result"
    }
   ],
   "source": [
    "ex2_isic4_l4_df=pd.DataFrame.from_dict(ex2_isic4_l4,orient='index').reset_index()\n",
    "ex2_isic4_l4_df.columns=['exiobase2','isic_rev4_l4']\n",
    "ex2_isic4_l4_df.head(3)"
   ]
  },
  {
   "cell_type": "code",
   "execution_count": 106,
   "metadata": {},
   "outputs": [],
   "source": [
    "ex2_isic4_l4_df.to_csv('../raw/exiobase2_isic_rev4_l4.csv',index=False)"
   ]
  },
  {
   "cell_type": "markdown",
   "metadata": {},
   "source": [
    "# option B) use NACE codes"
   ]
  },
  {
   "cell_type": "code",
   "execution_count": null,
   "metadata": {},
   "outputs": [],
   "source": [
    "pd.read_csv"
   ]
  }
 ],
 "metadata": {
  "kernelspec": {
   "display_name": "Python 3",
   "language": "python",
   "name": "python3"
  },
  "language_info": {
   "codemirror_mode": {
    "name": "ipython",
    "version": 3
   },
   "file_extension": ".py",
   "mimetype": "text/x-python",
   "name": "python",
   "nbconvert_exporter": "python",
   "pygments_lexer": "ipython3",
   "version": "3.6.8"
  }
 },
 "nbformat": 4,
 "nbformat_minor": 2
}
