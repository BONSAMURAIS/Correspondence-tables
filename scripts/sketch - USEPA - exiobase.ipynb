{
 "cells": [
  {
   "cell_type": "markdown",
   "metadata": {},
   "source": [
    "# USEPA to Exiobase "
   ]
  },
  {
   "cell_type": "code",
   "execution_count": 1,
   "metadata": {},
   "outputs": [],
   "source": [
    "import pathlib"
   ]
  },
  {
   "cell_type": "code",
   "execution_count": 2,
   "metadata": {},
   "outputs": [],
   "source": [
    "import pandas as pd"
   ]
  },
  {
   "cell_type": "code",
   "execution_count": 3,
   "metadata": {},
   "outputs": [],
   "source": [
    "import fedelemflowlist"
   ]
  },
  {
   "cell_type": "code",
   "execution_count": 4,
   "metadata": {},
   "outputs": [],
   "source": [
    "ef_usepa = pd.read_csv('../correspondence_tables/data/raw/USEPA_EF_20200120.csv',low_memory=False)"
   ]
  },
  {
   "cell_type": "markdown",
   "metadata": {},
   "source": [
    "we'd need to know what makes a unique UUID, seems to be `flowable` and `context`"
   ]
  },
  {
   "cell_type": "code",
   "execution_count": 5,
   "metadata": {},
   "outputs": [],
   "source": [
    "assert ef_usepa.set_index('Flow UUID')[['Flowable','Context']].duplicated().sum()==0"
   ]
  },
  {
   "cell_type": "markdown",
   "metadata": {},
   "source": [
    "in principle we'd link to the preferred flows"
   ]
  },
  {
   "cell_type": "code",
   "execution_count": 6,
   "metadata": {},
   "outputs": [
    {
     "data": {
      "text/html": [
       "<div>\n",
       "<style scoped>\n",
       "    .dataframe tbody tr th:only-of-type {\n",
       "        vertical-align: middle;\n",
       "    }\n",
       "\n",
       "    .dataframe tbody tr th {\n",
       "        vertical-align: top;\n",
       "    }\n",
       "\n",
       "    .dataframe thead th {\n",
       "        text-align: right;\n",
       "    }\n",
       "</style>\n",
       "<table border=\"1\" class=\"dataframe\">\n",
       "  <thead>\n",
       "    <tr style=\"text-align: right;\">\n",
       "      <th></th>\n",
       "      <th>105706</th>\n",
       "    </tr>\n",
       "  </thead>\n",
       "  <tbody>\n",
       "    <tr>\n",
       "      <th>Flowable</th>\n",
       "      <td>C.I. Acid Red 18, trisodium salt</td>\n",
       "    </tr>\n",
       "    <tr>\n",
       "      <th>CAS No</th>\n",
       "      <td>2611-82-7</td>\n",
       "    </tr>\n",
       "    <tr>\n",
       "      <th>Formula</th>\n",
       "      <td>C20H11N2Na3O10S3</td>\n",
       "    </tr>\n",
       "    <tr>\n",
       "      <th>Synonyms</th>\n",
       "      <td>SX purple; 1,3-Naphthalenedisulfonic acid, 7-h...</td>\n",
       "    </tr>\n",
       "    <tr>\n",
       "      <th>Unit</th>\n",
       "      <td>kg</td>\n",
       "    </tr>\n",
       "    <tr>\n",
       "      <th>Class</th>\n",
       "      <td>Chemicals</td>\n",
       "    </tr>\n",
       "    <tr>\n",
       "      <th>External Reference</th>\n",
       "      <td>https://ofmpub.epa.gov/sor_internet/registry/s...</td>\n",
       "    </tr>\n",
       "    <tr>\n",
       "      <th>Preferred</th>\n",
       "      <td>0</td>\n",
       "    </tr>\n",
       "    <tr>\n",
       "      <th>Context</th>\n",
       "      <td>emission/ground/human-dominated/commercial</td>\n",
       "    </tr>\n",
       "    <tr>\n",
       "      <th>Flow UUID</th>\n",
       "      <td>e8904a6f-17a9-3288-8390-b83704c0a9c1</td>\n",
       "    </tr>\n",
       "    <tr>\n",
       "      <th>AltUnit</th>\n",
       "      <td>NaN</td>\n",
       "    </tr>\n",
       "    <tr>\n",
       "      <th>AltUnitConversionFactor</th>\n",
       "      <td>NaN</td>\n",
       "    </tr>\n",
       "  </tbody>\n",
       "</table>\n",
       "</div>"
      ],
      "text/plain": [
       "                                                                    105706\n",
       "Flowable                                  C.I. Acid Red 18, trisodium salt\n",
       "CAS No                                                           2611-82-7\n",
       "Formula                                                   C20H11N2Na3O10S3\n",
       "Synonyms                 SX purple; 1,3-Naphthalenedisulfonic acid, 7-h...\n",
       "Unit                                                                    kg\n",
       "Class                                                            Chemicals\n",
       "External Reference       https://ofmpub.epa.gov/sor_internet/registry/s...\n",
       "Preferred                                                                0\n",
       "Context                         emission/ground/human-dominated/commercial\n",
       "Flow UUID                             e8904a6f-17a9-3288-8390-b83704c0a9c1\n",
       "AltUnit                                                                NaN\n",
       "AltUnitConversionFactor                                                NaN"
      ]
     },
     "execution_count": 6,
     "metadata": {},
     "output_type": "execute_result"
    }
   ],
   "source": [
    "ef_usepa.sample().T"
   ]
  },
  {
   "cell_type": "markdown",
   "metadata": {},
   "source": [
    "Exiobase flows"
   ]
  },
  {
   "cell_type": "code",
   "execution_count": 7,
   "metadata": {},
   "outputs": [],
   "source": [
    "exiobase_airborn = pd.read_excel('../correspondence_tables/data/raw/Classifications_v_3_3_17.xlsx',sheet_name='Emissions')"
   ]
  },
  {
   "cell_type": "markdown",
   "metadata": {},
   "source": [
    "in principle, we should not care about the unit"
   ]
  },
  {
   "cell_type": "code",
   "execution_count": 8,
   "metadata": {},
   "outputs": [
    {
     "data": {
      "text/html": [
       "<div>\n",
       "<style scoped>\n",
       "    .dataframe tbody tr th:only-of-type {\n",
       "        vertical-align: middle;\n",
       "    }\n",
       "\n",
       "    .dataframe tbody tr th {\n",
       "        vertical-align: top;\n",
       "    }\n",
       "\n",
       "    .dataframe thead th {\n",
       "        text-align: right;\n",
       "    }\n",
       "</style>\n",
       "<table border=\"1\" class=\"dataframe\">\n",
       "  <thead>\n",
       "    <tr style=\"text-align: right;\">\n",
       "      <th></th>\n",
       "      <th>Emission name</th>\n",
       "      <th>Unit</th>\n",
       "      <th>Compartment</th>\n",
       "    </tr>\n",
       "  </thead>\n",
       "  <tbody>\n",
       "    <tr>\n",
       "      <th>62</th>\n",
       "      <td>C</td>\n",
       "      <td>tonnes</td>\n",
       "      <td>air</td>\n",
       "    </tr>\n",
       "  </tbody>\n",
       "</table>\n",
       "</div>"
      ],
      "text/plain": [
       "   Emission name   Unit  Compartment\n",
       "62             C  tonnes         air"
      ]
     },
     "execution_count": 8,
     "metadata": {},
     "output_type": "execute_result"
    }
   ],
   "source": [
    "exiobase_airborn.sample()"
   ]
  },
  {
   "cell_type": "code",
   "execution_count": 9,
   "metadata": {},
   "outputs": [],
   "source": [
    "# it needs some cleaning\n",
    "exiobase_airborn['Emission name'] = exiobase_airborn['Emission name'].str.strip()"
   ]
  },
  {
   "cell_type": "markdown",
   "metadata": {},
   "source": [
    "store results in a dictionary with keys equal to pairs (emission name, compartment)"
   ]
  },
  {
   "cell_type": "code",
   "execution_count": 10,
   "metadata": {},
   "outputs": [],
   "source": [
    "exiobase3_usepa={}\n",
    "\n",
    "for i,row in exiobase_airborn.iterrows():\n",
    "    exiobase3_usepa[(row['Emission name'],row['Compartment'])]=None"
   ]
  },
  {
   "cell_type": "markdown",
   "metadata": {},
   "source": [
    "from inspection, we can see that not having a secondary context is an \"non preferred\" flowable. We'll have to stick to non-preferred"
   ]
  },
  {
   "cell_type": "markdown",
   "metadata": {},
   "source": [
    "we can start by those whose name coincide with the formula"
   ]
  },
  {
   "cell_type": "code",
   "execution_count": 11,
   "metadata": {},
   "outputs": [
    {
     "data": {
      "text/plain": [
       "18"
      ]
     },
     "execution_count": 11,
     "metadata": {},
     "output_type": "execute_result"
    }
   ],
   "source": [
    "match1_1 = pd.merge(left = exiobase_airborn[exiobase_airborn.Compartment=='air'],\n",
    "                  right=ef_usepa[ef_usepa.Context=='emission/air'],\n",
    "                  left_on='Emission name',\n",
    "                  right_on='Formula',how='inner')\n",
    "len(match1_1)"
   ]
  },
  {
   "cell_type": "code",
   "execution_count": 12,
   "metadata": {},
   "outputs": [],
   "source": [
    "match1_1=match1_1[['Emission name','Compartment','Flow UUID']]"
   ]
  },
  {
   "cell_type": "code",
   "execution_count": 13,
   "metadata": {},
   "outputs": [],
   "source": [
    "exiobase3_usepa.update(match1_1.set_index(['Emission name','Compartment'])['Flow UUID'].to_dict())"
   ]
  },
  {
   "cell_type": "code",
   "execution_count": 14,
   "metadata": {},
   "outputs": [
    {
     "data": {
      "text/plain": [
       "10"
      ]
     },
     "execution_count": 14,
     "metadata": {},
     "output_type": "execute_result"
    }
   ],
   "source": [
    "match1_2 = pd.merge(left = exiobase_airborn[exiobase_airborn.Compartment=='soil'],\n",
    "                  right=ef_usepa[ef_usepa.Context=='emission/ground'],\n",
    "                  left_on='Emission name',\n",
    "                  right_on='Formula',how='inner')\n",
    "len(match1_2)"
   ]
  },
  {
   "cell_type": "code",
   "execution_count": 15,
   "metadata": {},
   "outputs": [],
   "source": [
    "match1_2=match1_2[['Emission name','Compartment','Flow UUID']]"
   ]
  },
  {
   "cell_type": "code",
   "execution_count": 16,
   "metadata": {},
   "outputs": [],
   "source": [
    "exiobase3_usepa.update(match1_2.set_index(['Emission name','Compartment'])['Flow UUID'].to_dict())"
   ]
  },
  {
   "cell_type": "markdown",
   "metadata": {},
   "source": [
    "this stores more than one value, but we'll clean it after for the values that only have one"
   ]
  },
  {
   "cell_type": "markdown",
   "metadata": {},
   "source": [
    "same flowable name"
   ]
  },
  {
   "cell_type": "code",
   "execution_count": 17,
   "metadata": {},
   "outputs": [],
   "source": [
    "'''dict of flowable uuid where the flowable name coincides with exiobase name. \n",
    "there is no more than one because that would break the set_index call due to \n",
    "repeated elements''' \n",
    "match2_1 = ef_usepa.loc[ef_usepa.Flowable.isin(list(exiobase_airborn.loc[exiobase_airborn.Compartment=='air','Emission name']))&\n",
    "             (ef_usepa.Context=='emission/air'),['Flowable','Flow UUID']]\\\n",
    ".set_index('Flowable')['Flow UUID'].to_dict()"
   ]
  },
  {
   "cell_type": "code",
   "execution_count": 18,
   "metadata": {},
   "outputs": [],
   "source": [
    "for flowable,uuid in match2_1.items():\n",
    "    exiobase3_usepa[(flowable,'air')]=uuid"
   ]
  },
  {
   "cell_type": "code",
   "execution_count": 19,
   "metadata": {},
   "outputs": [],
   "source": [
    "'''dict of flowable uuid where the flowable name coincides with exiobase name. \n",
    "there is no more than one because that would break the set_index call due to \n",
    "repeated elements''' \n",
    "match2_2 = ef_usepa.loc[ef_usepa.Flowable.isin(list(exiobase_airborn.loc[exiobase_airborn.Compartment=='soil','Emission name']))&\n",
    "             (ef_usepa.Context=='emission/ground'),['Flowable','Flow UUID']]\\\n",
    ".set_index('Flowable')['Flow UUID'].to_dict()"
   ]
  },
  {
   "cell_type": "code",
   "execution_count": 20,
   "metadata": {},
   "outputs": [
    {
     "data": {
      "text/plain": [
       "{}"
      ]
     },
     "execution_count": 20,
     "metadata": {},
     "output_type": "execute_result"
    }
   ],
   "source": [
    "match2_2"
   ]
  },
  {
   "cell_type": "markdown",
   "metadata": {},
   "source": [
    "manual matching"
   ]
  },
  {
   "cell_type": "code",
   "execution_count": 21,
   "metadata": {},
   "outputs": [],
   "source": [
    "exiobase3_usepa[('CO ', 'air')] = ef_usepa.loc[(ef_usepa.Flowable.str.contains('Carbon monoxide'))&(ef_usepa.Context=='emission/air'),'Flow UUID'].values"
   ]
  },
  {
   "cell_type": "code",
   "execution_count": 22,
   "metadata": {},
   "outputs": [],
   "source": [
    "exiobase3_usepa[('Carbon dioxide, fossil', 'air')] = ef_usepa.loc[(ef_usepa.Formula=='CO2')&(ef_usepa.Context=='emission/air'),'Flow UUID'].values"
   ]
  },
  {
   "cell_type": "code",
   "execution_count": 23,
   "metadata": {},
   "outputs": [],
   "source": [
    "exiobase3_usepa[('Carbon dioxide, biogenic', 'air')] = ef_usepa.loc[(ef_usepa.Formula=='CO2')&(ef_usepa.Context=='emission/air'),'Flow UUID'].values"
   ]
  },
  {
   "cell_type": "code",
   "execution_count": 24,
   "metadata": {},
   "outputs": [],
   "source": [
    "exiobase3_usepa[('DDT', 'air')]=ef_usepa.loc[ef_usepa.Flowable.str.contains('DDT')&(ef_usepa.Context=='emission/air'),'Flow UUID'].values"
   ]
  },
  {
   "cell_type": "code",
   "execution_count": 25,
   "metadata": {},
   "outputs": [],
   "source": [
    "exiobase3_usepa[('SF6','air')]=ef_usepa.loc[(ef_usepa.Flowable=='Sulfur hexafluoride')&(ef_usepa.Context=='emission/air'),'Flow UUID'].values"
   ]
  },
  {
   "cell_type": "code",
   "execution_count": 26,
   "metadata": {},
   "outputs": [],
   "source": [
    "# there are more dioxins too, more specific\n",
    "exiobase3_usepa[('dioxin','air')] = ef_usepa.loc[(ef_usepa.Flowable=='Dioxins')&(ef_usepa.Context=='emission/air'),'Flow UUID'].values"
   ]
  },
  {
   "cell_type": "code",
   "execution_count": 27,
   "metadata": {},
   "outputs": [],
   "source": [
    "exiobase3_usepa[('HFCs','air')] = ef_usepa.loc[(ef_usepa.Flowable=='Hydrofluorocarbons')&(ef_usepa.Context=='emission/air'),'Flow UUID'].values"
   ]
  },
  {
   "cell_type": "code",
   "execution_count": 28,
   "metadata": {},
   "outputs": [],
   "source": [
    "exiobase3_usepa[('PFCs','air')] = ef_usepa.loc[(ef_usepa.Flowable=='Perfluorocarbons')&(ef_usepa.Context=='emission/air'),'Flow UUID'].values"
   ]
  },
  {
   "cell_type": "code",
   "execution_count": 29,
   "metadata": {},
   "outputs": [],
   "source": [
    "exiobase3_usepa[('NH3','air')] = ef_usepa.loc[(ef_usepa.Flowable=='Ammonia')&(ef_usepa.Context=='emission/air'),'Flow UUID'].values"
   ]
  },
  {
   "cell_type": "markdown",
   "metadata": {},
   "source": [
    "PM10 is PM bigger than 10 or smaller than then microns?"
   ]
  },
  {
   "cell_type": "code",
   "execution_count": 30,
   "metadata": {},
   "outputs": [],
   "source": [
    "exiobase3_usepa[('PM10','air')] = ef_usepa.loc[(ef_usepa.Flowable=='Particulate matter, ≤ 10μm')&(ef_usepa.Context=='emission/air'),'Flow UUID'].values"
   ]
  },
  {
   "cell_type": "code",
   "execution_count": 31,
   "metadata": {},
   "outputs": [],
   "source": [
    "exiobase3_usepa[('SOx','air')] = ef_usepa.loc[(ef_usepa.Flowable=='Sulfur oxides')&(ef_usepa.Context=='emission/air'),'Flow UUID'].values"
   ]
  },
  {
   "cell_type": "code",
   "execution_count": 32,
   "metadata": {},
   "outputs": [],
   "source": [
    "exiobase3_usepa[('NOX','air')] = ef_usepa.loc[(ef_usepa.Flowable=='Nitrogen oxides')&(ef_usepa.Context=='emission/air'),'Flow UUID'].values"
   ]
  },
  {
   "cell_type": "code",
   "execution_count": 33,
   "metadata": {},
   "outputs": [],
   "source": [
    "# close matching, but not exact. \n",
    "exiobase3_usepa[('NMVOC','air')] = ef_usepa.loc[(ef_usepa.Flowable=='Volatile organic compounds')&(ef_usepa.Context=='emission/air'),'Flow UUID'].values"
   ]
  },
  {
   "cell_type": "code",
   "execution_count": 34,
   "metadata": {},
   "outputs": [],
   "source": [
    "exiobase3_usepa[('Benzo-[b]-fluoranthene','air')] = ef_usepa.loc[(ef_usepa.Flowable=='Benzo(b)fluoranthene')&(ef_usepa.Context=='emission/air'),'Flow UUID'].values"
   ]
  },
  {
   "cell_type": "code",
   "execution_count": 35,
   "metadata": {},
   "outputs": [],
   "source": [
    "exiobase3_usepa[('Benzo-[k]-fluoranthene','air')] = ef_usepa.loc[(ef_usepa.Flowable=='Benzo[k]fluoranthene')&(ef_usepa.Context=='emission/air'),'Flow UUID'].values"
   ]
  },
  {
   "cell_type": "code",
   "execution_count": 36,
   "metadata": {},
   "outputs": [],
   "source": [
    "exiobase3_usepa[('Benzo-[a]-pyrene','air')] = ef_usepa.loc[(ef_usepa.Flowable=='Benzo[a]pyrene')&(ef_usepa.Context=='emission/air'),'Flow UUID'].values"
   ]
  },
  {
   "cell_type": "code",
   "execution_count": 37,
   "metadata": {},
   "outputs": [],
   "source": [
    "exiobase3_usepa[('PCB','air')] = ef_usepa.loc[(ef_usepa.Flowable=='Polychlorinated biphenyls')&(ef_usepa.Context=='emission/air'),'Flow UUID'].values"
   ]
  },
  {
   "cell_type": "code",
   "execution_count": 38,
   "metadata": {},
   "outputs": [],
   "source": [
    "exiobase3_usepa[('Formaldehyd','air')] = ef_usepa.loc[(ef_usepa.Flowable=='Formaldehyde')&(ef_usepa.Context=='emission/air'),'Flow UUID'].values"
   ]
  },
  {
   "cell_type": "code",
   "execution_count": 39,
   "metadata": {},
   "outputs": [],
   "source": [
    "exiobase3_usepa[('PM2.5','air')] = ef_usepa.loc[(ef_usepa.Flowable=='Particulate matter, ≤ 2.5μm')&(ef_usepa.Context=='emission/air'),'Flow UUID'].values"
   ]
  },
  {
   "cell_type": "code",
   "execution_count": 40,
   "metadata": {},
   "outputs": [],
   "source": [
    "exiobase3_usepa[('1,3 Butadiene','air')] = ef_usepa.loc[(ef_usepa.Flowable=='1,3-Butadiene')&(ef_usepa.Context=='emission/air'),'Flow UUID'].values"
   ]
  },
  {
   "cell_type": "code",
   "execution_count": 41,
   "metadata": {},
   "outputs": [],
   "source": [
    "exiobase3_usepa[('Indeno-[1,2,3-cd]-pyrene','air')] = ef_usepa.loc[(ef_usepa.Flowable=='Indeno[1,2,3-cd]pyrene')&(ef_usepa.Context=='emission/air'),'Flow UUID'].values"
   ]
  },
  {
   "cell_type": "code",
   "execution_count": 42,
   "metadata": {},
   "outputs": [],
   "source": [
    "exiobase3_usepa[('HCB','air')] = ef_usepa.loc[(ef_usepa.Flowable=='Hexachlorobenzene')&(ef_usepa.Context=='emission/air'),'Flow UUID'].values"
   ]
  },
  {
   "cell_type": "code",
   "execution_count": 43,
   "metadata": {},
   "outputs": [],
   "source": [
    "exiobase3_usepa[('BOD','water')] = ef_usepa.loc[(ef_usepa.Flowable=='Biological Oxygen Demand')&(ef_usepa.Context=='emission/water'),'Flow UUID'].values"
   ]
  },
  {
   "cell_type": "code",
   "execution_count": 44,
   "metadata": {},
   "outputs": [],
   "source": [
    "exiobase3_usepa[('N','water')] = ef_usepa.loc[(ef_usepa.Flowable=='Nitrogen')&(ef_usepa.Context=='emission/water'),'Flow UUID'].values"
   ]
  },
  {
   "cell_type": "code",
   "execution_count": 45,
   "metadata": {},
   "outputs": [],
   "source": [
    "exiobase3_usepa[('N','soil')] = ef_usepa.loc[(ef_usepa.Flowable=='Nitrogen')&(ef_usepa.Context=='emission/ground'),'Flow UUID'].values"
   ]
  },
  {
   "cell_type": "code",
   "execution_count": 46,
   "metadata": {},
   "outputs": [],
   "source": [
    "exiobase3_usepa[('P','water')] = ef_usepa.loc[(ef_usepa.Flowable=='Phosphorus')&(ef_usepa.Context=='emission/water'),'Flow UUID'].values"
   ]
  },
  {
   "cell_type": "code",
   "execution_count": 47,
   "metadata": {},
   "outputs": [],
   "source": [
    "exiobase3_usepa[('CFCs', 'air')] = ef_usepa.loc[ef_usepa.Flowable.str.startswith('CFC-')&(ef_usepa.Context=='emission/air'),'Flow UUID'].values"
   ]
  },
  {
   "cell_type": "code",
   "execution_count": 48,
   "metadata": {},
   "outputs": [],
   "source": [
    "exiobase3_usepa[('HCFCs', 'air')] = ef_usepa.loc[ef_usepa.Flowable.str.startswith('HCFC-')&(ef_usepa.Context=='emission/air'),'Flow UUID'].values"
   ]
  },
  {
   "cell_type": "code",
   "execution_count": 49,
   "metadata": {},
   "outputs": [],
   "source": [
    "exiobase3_usepa[('HCH','air')] = ef_usepa.loc[(ef_usepa.Flowable.str.endswith('Hexachlorocyclohexane'))&(ef_usepa.Context=='emission/air'),'Flow UUID'].values"
   ]
  },
  {
   "cell_type": "code",
   "execution_count": 50,
   "metadata": {},
   "outputs": [],
   "source": [
    "# partial match\n",
    "exiobase3_usepa[('PCDD/F (dioxins and furans)','air')] = ef_usepa.loc[(ef_usepa.Flowable=='Dioxins')&(ef_usepa.Context=='emission/air'),'Flow UUID'].values"
   ]
  },
  {
   "cell_type": "code",
   "execution_count": 51,
   "metadata": {},
   "outputs": [],
   "source": [
    "# partial match\n",
    "exiobase3_usepa[('HCH','air')] = ef_usepa.loc[(ef_usepa.Flowable.str.endswith('Hexachlorocyclohexane'))&(ef_usepa.Context=='emission/air'),'Flow UUID'].values"
   ]
  },
  {
   "cell_type": "code",
   "execution_count": 52,
   "metadata": {},
   "outputs": [],
   "source": [
    "# partial match\n",
    "exiobase3_usepa[('PAH (total of 4 components, sum of EM_AIR.43, 45, 46, 47)','air')] =\\\n",
    "ef_usepa.loc[(ef_usepa.Flowable=='PAH/POM, unspecified')&(ef_usepa.Context=='emission/air'),'Flow UUID'].values"
   ]
  },
  {
   "cell_type": "code",
   "execution_count": 53,
   "metadata": {},
   "outputs": [
    {
     "data": {
      "text/html": [
       "<div>\n",
       "<style scoped>\n",
       "    .dataframe tbody tr th:only-of-type {\n",
       "        vertical-align: middle;\n",
       "    }\n",
       "\n",
       "    .dataframe tbody tr th {\n",
       "        vertical-align: top;\n",
       "    }\n",
       "\n",
       "    .dataframe thead th {\n",
       "        text-align: right;\n",
       "    }\n",
       "</style>\n",
       "<table border=\"1\" class=\"dataframe\">\n",
       "  <thead>\n",
       "    <tr style=\"text-align: right;\">\n",
       "      <th></th>\n",
       "      <th>Flowable</th>\n",
       "      <th>CAS No</th>\n",
       "      <th>Formula</th>\n",
       "      <th>Synonyms</th>\n",
       "      <th>Unit</th>\n",
       "      <th>Class</th>\n",
       "      <th>External Reference</th>\n",
       "      <th>Preferred</th>\n",
       "      <th>Context</th>\n",
       "      <th>Flow UUID</th>\n",
       "      <th>AltUnit</th>\n",
       "      <th>AltUnitConversionFactor</th>\n",
       "    </tr>\n",
       "  </thead>\n",
       "  <tbody>\n",
       "  </tbody>\n",
       "</table>\n",
       "</div>"
      ],
      "text/plain": [
       "Empty DataFrame\n",
       "Columns: [Flowable, CAS No, Formula, Synonyms, Unit, Class, External Reference, Preferred, Context, Flow UUID, AltUnit, AltUnitConversionFactor]\n",
       "Index: []"
      ]
     },
     "execution_count": 53,
     "metadata": {},
     "output_type": "execute_result"
    }
   ],
   "source": [
    "ef_usepa.loc[ef_usepa.Flowable.str.lower().str.contains('P')&(ef_usepa.Context=='emission/water'),:]"
   ]
  },
  {
   "cell_type": "code",
   "execution_count": 54,
   "metadata": {},
   "outputs": [
    {
     "data": {
      "text/html": [
       "<div>\n",
       "<style scoped>\n",
       "    .dataframe tbody tr th:only-of-type {\n",
       "        vertical-align: middle;\n",
       "    }\n",
       "\n",
       "    .dataframe tbody tr th {\n",
       "        vertical-align: top;\n",
       "    }\n",
       "\n",
       "    .dataframe thead th {\n",
       "        text-align: right;\n",
       "    }\n",
       "</style>\n",
       "<table border=\"1\" class=\"dataframe\">\n",
       "  <thead>\n",
       "    <tr style=\"text-align: right;\">\n",
       "      <th></th>\n",
       "      <th>Flowable</th>\n",
       "      <th>CAS No</th>\n",
       "      <th>Formula</th>\n",
       "      <th>Synonyms</th>\n",
       "      <th>Unit</th>\n",
       "      <th>Class</th>\n",
       "      <th>External Reference</th>\n",
       "      <th>Preferred</th>\n",
       "      <th>Context</th>\n",
       "      <th>Flow UUID</th>\n",
       "      <th>AltUnit</th>\n",
       "      <th>AltUnitConversionFactor</th>\n",
       "    </tr>\n",
       "  </thead>\n",
       "  <tbody>\n",
       "    <tr>\n",
       "      <th>205967</th>\n",
       "      <td>Phosphorus</td>\n",
       "      <td>7723-14-0</td>\n",
       "      <td>P</td>\n",
       "      <td>NaN</td>\n",
       "      <td>kg</td>\n",
       "      <td>Chemicals</td>\n",
       "      <td>https://ofmpub.epa.gov/sor_internet/registry/s...</td>\n",
       "      <td>0</td>\n",
       "      <td>emission/water</td>\n",
       "      <td>1733622b-b54a-3202-8e58-4670a96ef6b3</td>\n",
       "      <td>NaN</td>\n",
       "      <td>NaN</td>\n",
       "    </tr>\n",
       "    <tr>\n",
       "      <th>217631</th>\n",
       "      <td>Phosphorus pentoxide</td>\n",
       "      <td>1314-56-3</td>\n",
       "      <td>O10P4</td>\n",
       "      <td>Phosphorus oxide (P2O5)</td>\n",
       "      <td>kg</td>\n",
       "      <td>Chemicals</td>\n",
       "      <td>https://ofmpub.epa.gov/sor_internet/registry/s...</td>\n",
       "      <td>0</td>\n",
       "      <td>emission/water</td>\n",
       "      <td>2d9e33c6-c46b-3a9e-a869-ae787ff2dc85</td>\n",
       "      <td>NaN</td>\n",
       "      <td>NaN</td>\n",
       "    </tr>\n",
       "    <tr>\n",
       "      <th>221663</th>\n",
       "      <td>Phosphorus-32</td>\n",
       "      <td>14596-37-3</td>\n",
       "      <td>-</td>\n",
       "      <td>Phosphorus, isotope of mass 32</td>\n",
       "      <td>kg</td>\n",
       "      <td>Chemicals</td>\n",
       "      <td>https://ofmpub.epa.gov/sor_internet/registry/s...</td>\n",
       "      <td>0</td>\n",
       "      <td>emission/water</td>\n",
       "      <td>c86eae04-e6a9-3c8a-be9e-1878b4a12fdd</td>\n",
       "      <td>NaN</td>\n",
       "      <td>NaN</td>\n",
       "    </tr>\n",
       "  </tbody>\n",
       "</table>\n",
       "</div>"
      ],
      "text/plain": [
       "                    Flowable      CAS No Formula  \\\n",
       "205967            Phosphorus   7723-14-0       P   \n",
       "217631  Phosphorus pentoxide   1314-56-3   O10P4   \n",
       "221663         Phosphorus-32  14596-37-3       -   \n",
       "\n",
       "                              Synonyms Unit      Class  \\\n",
       "205967                             NaN   kg  Chemicals   \n",
       "217631         Phosphorus oxide (P2O5)   kg  Chemicals   \n",
       "221663  Phosphorus, isotope of mass 32   kg  Chemicals   \n",
       "\n",
       "                                       External Reference  Preferred  \\\n",
       "205967  https://ofmpub.epa.gov/sor_internet/registry/s...          0   \n",
       "217631  https://ofmpub.epa.gov/sor_internet/registry/s...          0   \n",
       "221663  https://ofmpub.epa.gov/sor_internet/registry/s...          0   \n",
       "\n",
       "               Context                             Flow UUID AltUnit  \\\n",
       "205967  emission/water  1733622b-b54a-3202-8e58-4670a96ef6b3     NaN   \n",
       "217631  emission/water  2d9e33c6-c46b-3a9e-a869-ae787ff2dc85     NaN   \n",
       "221663  emission/water  c86eae04-e6a9-3c8a-be9e-1878b4a12fdd     NaN   \n",
       "\n",
       "        AltUnitConversionFactor  \n",
       "205967                      NaN  \n",
       "217631                      NaN  \n",
       "221663                      NaN  "
      ]
     },
     "execution_count": 54,
     "metadata": {},
     "output_type": "execute_result"
    }
   ],
   "source": [
    "ef_usepa.loc[ef_usepa.Flowable.str.lower().str.contains('phosphorus')&(ef_usepa.Context=='emission/water'),:]"
   ]
  },
  {
   "cell_type": "markdown",
   "metadata": {},
   "source": [
    "check because here are emissions to non-air too!"
   ]
  },
  {
   "cell_type": "code",
   "execution_count": 55,
   "metadata": {},
   "outputs": [
    {
     "name": "stdout",
     "output_type": "stream",
     "text": [
      "Hexabr.-biph. air\n",
      "PBDEs air\n",
      "TSP (total suspended particulate) air\n",
      "other emissions undef\n",
      "Other emissions nec air\n"
     ]
    }
   ],
   "source": [
    "for (substance,archetype),equivalent in exiobase3_usepa.items():\n",
    "    if equivalent is None:\n",
    "        print(substance,archetype)\n"
   ]
  },
  {
   "cell_type": "markdown",
   "metadata": {},
   "source": [
    "Polychlorinated dibenzo(p)dioxin and furan (PCDD/F)"
   ]
  },
  {
   "cell_type": "markdown",
   "metadata": {},
   "source": [
    "Hexabr.-biph appears to be Hexabromobiphenyl but there's no inventories about this"
   ]
  },
  {
   "cell_type": "code",
   "execution_count": 56,
   "metadata": {},
   "outputs": [],
   "source": [
    "exiobase3_usepa_known = {k:v for k,v in exiobase3_usepa.items() if v is not None}"
   ]
  },
  {
   "cell_type": "code",
   "execution_count": 57,
   "metadata": {},
   "outputs": [],
   "source": [
    "single_values = {k:v[0] for k,v in exiobase3_usepa_known.items() if len(v)==1}"
   ]
  },
  {
   "cell_type": "code",
   "execution_count": 58,
   "metadata": {},
   "outputs": [],
   "source": [
    "exiobase3_usepa_known.update(single_values)"
   ]
  },
  {
   "cell_type": "code",
   "execution_count": 59,
   "metadata": {},
   "outputs": [
    {
     "name": "stdout",
     "output_type": "stream",
     "text": [
      "Carbon dioxide, fossil - Carbon dioxide - air - emission/air\n",
      "N2O - Nitrous oxide - air - emission/air\n",
      "CH4 - Methane - air - emission/air\n",
      "HFCs - Hydrofluorocarbons - air - emission/air\n",
      "PFCs - Perfluorocarbons - air - emission/air\n",
      "SF6 - Sulfur hexafluoride - air - emission/air\n",
      "NOX - Nitrogen oxides - air - emission/air\n",
      "SOx - Sulfur oxides - air - emission/air\n",
      "NH3 - Ammonia - air - emission/air\n",
      "NMVOC - Volatile organic compounds - air - emission/air\n",
      "CO - Carbon monoxide - air - emission/air\n",
      "Pb - Lead - air - emission/air\n",
      "Cd - Cadmium - air - emission/air\n",
      "Hg - Mercury(II) - air - emission/air\n",
      "As - Arsenic - air - emission/air\n",
      "Cr - Chromium - air - emission/air\n",
      "Cu - Copper - air - emission/air\n",
      "Ni - Nickel - air - emission/air\n",
      "Se - Selenium - air - emission/air\n",
      "Zn - Zinc - air - emission/air\n",
      "Aldrin - Aldrin - air - emission/air\n",
      "Chlordane - Chlordane - air - emission/air\n",
      "Chlordecone - Chlordecone - air - emission/air\n",
      "Dieldrin - Dieldrin - air - emission/air\n",
      "Endrin - Endrin - air - emission/air\n",
      "Heptachlor - Heptachlor - air - emission/air\n",
      "Mirex - Mirex - air - emission/air\n",
      "Toxaphene - Toxaphene - air - emission/air\n",
      "PCB - Polychlorinated biphenyls - air - emission/air\n",
      "dioxin - Dioxins - air - emission/air\n",
      "PM10 - Particulate matter, ≤ 10μm - air - emission/air\n",
      "PAH (total of 4 components, sum of EM_AIR.43, 45, 46, 47) - PAH/POM, unspecified - air - emission/air\n",
      "Benzene - Benzene - air - emission/air\n",
      "1,3 Butadiene - 1,3-Butadiene - air - emission/air\n",
      "Formaldehyd - Formaldehyde - air - emission/air\n",
      "PM2.5 - Particulate matter, ≤ 2.5μm - air - emission/air\n",
      "Furans - Furans - air - emission/air\n",
      "Benzo-[a]-pyrene - Benzo[a]pyrene - air - emission/air\n",
      "Benzo-[b]-fluoranthene - Benzo(b)fluoranthene - air - emission/air\n",
      "Benzo-[k]-fluoranthene - Benzo[k]fluoranthene - air - emission/air\n",
      "Indeno-[1,2,3-cd]-pyrene - Indeno[1,2,3-cd]pyrene - air - emission/air\n",
      "HCB - Hexachlorobenzene - air - emission/air\n",
      "PCDD/F (dioxins and furans) - Dioxins - air - emission/air\n",
      "N - Nitrogen - water - emission/water\n",
      "P - Phosphorus - water - emission/water\n",
      "BOD - Biological Oxygen Demand - water - emission/water\n",
      "N - Nitrogen - soil - emission/ground\n",
      "P - Phosphorus - soil - emission/ground\n",
      "Cd - Cadmium - soil - emission/ground\n",
      "Cu - Copper - soil - emission/ground\n",
      "Zn - Zinc - soil - emission/ground\n",
      "Pb - Lead - soil - emission/ground\n",
      "Hg - Mercury - soil - emission/ground\n",
      "Cr - Chromium - soil - emission/ground\n",
      "Ni - Nickel - soil - emission/ground\n",
      "C - Carbon - air - emission/air\n",
      "Carbon dioxide, biogenic - Carbon dioxide - air - emission/air\n",
      "CO  - Carbon monoxide - air - emission/air\n"
     ]
    }
   ],
   "source": [
    "for (substance,compartment),uuid in exiobase3_usepa_known.items():\n",
    "    \n",
    "    if isinstance(uuid,str):\n",
    "        toprint_list=[substance,ef_usepa.loc[ef_usepa['Flow UUID']==uuid,'Flowable'].values[0],compartment,ef_usepa.loc[ef_usepa['Flow UUID']==uuid,'Context'].values[0]]\n",
    "        print(' - '.join(toprint_list))\n",
    "    "
   ]
  },
  {
   "cell_type": "markdown",
   "metadata": {},
   "source": [
    "zut, there is `Hg - Mercury(II) - soil - emission/air` and other metals"
   ]
  },
  {
   "cell_type": "markdown",
   "metadata": {},
   "source": [
    "now reverse and unpack"
   ]
  },
  {
   "cell_type": "code",
   "execution_count": 60,
   "metadata": {},
   "outputs": [],
   "source": [
    "usepa_2_exiobase= {}\n",
    "for flow,uuids in exiobase3_usepa_known.items():\n",
    "    \n",
    "    if isinstance(uuids,str):\n",
    "        usepa_2_exiobase[uuids]=flow\n",
    "    else:\n",
    "        for uuid in uuids:\n",
    "            usepa_2_exiobase[uuid]=flow"
   ]
  },
  {
   "cell_type": "code",
   "execution_count": 61,
   "metadata": {},
   "outputs": [],
   "source": [
    "correspondence = pd.Series(usepa_2_exiobase).to_frame('exiobase 3 (flow,context)')"
   ]
  },
  {
   "cell_type": "code",
   "execution_count": 62,
   "metadata": {},
   "outputs": [],
   "source": [
    "correspondence.index.name='USEPA uuid'"
   ]
  },
  {
   "cell_type": "code",
   "execution_count": 63,
   "metadata": {},
   "outputs": [
    {
     "data": {
      "text/html": [
       "<div>\n",
       "<style scoped>\n",
       "    .dataframe tbody tr th:only-of-type {\n",
       "        vertical-align: middle;\n",
       "    }\n",
       "\n",
       "    .dataframe tbody tr th {\n",
       "        vertical-align: top;\n",
       "    }\n",
       "\n",
       "    .dataframe thead th {\n",
       "        text-align: right;\n",
       "    }\n",
       "</style>\n",
       "<table border=\"1\" class=\"dataframe\">\n",
       "  <thead>\n",
       "    <tr style=\"text-align: right;\">\n",
       "      <th></th>\n",
       "      <th>exiobase 3 (flow,context)</th>\n",
       "    </tr>\n",
       "    <tr>\n",
       "      <th>USEPA uuid</th>\n",
       "      <th></th>\n",
       "    </tr>\n",
       "  </thead>\n",
       "  <tbody>\n",
       "    <tr>\n",
       "      <th>cfee0524-7ad6-300b-b050-6249135a2492</th>\n",
       "      <td>(N2O, air)</td>\n",
       "    </tr>\n",
       "  </tbody>\n",
       "</table>\n",
       "</div>"
      ],
      "text/plain": [
       "                                     exiobase 3 (flow,context)\n",
       "USEPA uuid                                                    \n",
       "cfee0524-7ad6-300b-b050-6249135a2492                (N2O, air)"
      ]
     },
     "execution_count": 63,
     "metadata": {},
     "output_type": "execute_result"
    }
   ],
   "source": [
    "correspondence.sample()"
   ]
  },
  {
   "cell_type": "code",
   "execution_count": 64,
   "metadata": {},
   "outputs": [],
   "source": [
    "correspondence.to_csv('../correspondence_tables/data/intermediate/lcacommons_exiobase_ef.csv')"
   ]
  },
  {
   "cell_type": "markdown",
   "metadata": {},
   "source": [
    "***"
   ]
  },
  {
   "cell_type": "markdown",
   "metadata": {},
   "source": [
    "## Resources\n",
    "all the resources have at least one non-zero value"
   ]
  },
  {
   "cell_type": "code",
   "execution_count": 65,
   "metadata": {},
   "outputs": [],
   "source": [
    "exiobase_classification_d =pd.read_excel('../correspondence_tables/data/raw/Classifications_v_3_3_17.xlsx',sheet_name=None)"
   ]
  },
  {
   "cell_type": "code",
   "execution_count": 66,
   "metadata": {},
   "outputs": [
    {
     "data": {
      "text/plain": [
       "['Resources',\n",
       " 'Land',\n",
       " 'Emissions',\n",
       " 'waste',\n",
       " 'Crop_residues',\n",
       " 'Country',\n",
       " 'Activities',\n",
       " 'Products_HSUTs',\n",
       " 'Products_HIOT',\n",
       " 'Final_demand',\n",
       " 'Correspondence_products']"
      ]
     },
     "execution_count": 66,
     "metadata": {},
     "output_type": "execute_result"
    }
   ],
   "source": [
    "[k for k in exiobase_classification_d.keys()]"
   ]
  },
  {
   "cell_type": "code",
   "execution_count": 67,
   "metadata": {},
   "outputs": [],
   "source": [
    "exiobase_resources = exiobase_classification_d['Resources']"
   ]
  },
  {
   "cell_type": "code",
   "execution_count": 68,
   "metadata": {},
   "outputs": [
    {
     "data": {
      "text/html": [
       "<div>\n",
       "<style scoped>\n",
       "    .dataframe tbody tr th:only-of-type {\n",
       "        vertical-align: middle;\n",
       "    }\n",
       "\n",
       "    .dataframe tbody tr th {\n",
       "        vertical-align: top;\n",
       "    }\n",
       "\n",
       "    .dataframe thead th {\n",
       "        text-align: right;\n",
       "    }\n",
       "</style>\n",
       "<table border=\"1\" class=\"dataframe\">\n",
       "  <thead>\n",
       "    <tr style=\"text-align: right;\">\n",
       "      <th></th>\n",
       "      <th>Resource name</th>\n",
       "      <th>Unit</th>\n",
       "    </tr>\n",
       "  </thead>\n",
       "  <tbody>\n",
       "    <tr>\n",
       "      <th>2</th>\n",
       "      <td>Building stones</td>\n",
       "      <td>tonne</td>\n",
       "    </tr>\n",
       "    <tr>\n",
       "      <th>18</th>\n",
       "      <td>Salt</td>\n",
       "      <td>tonne</td>\n",
       "    </tr>\n",
       "    <tr>\n",
       "      <th>28</th>\n",
       "      <td>Anthracite</td>\n",
       "      <td>tonne</td>\n",
       "    </tr>\n",
       "    <tr>\n",
       "      <th>8</th>\n",
       "      <td>Inland waters fish catch</td>\n",
       "      <td>tonne</td>\n",
       "    </tr>\n",
       "    <tr>\n",
       "      <th>22</th>\n",
       "      <td>Uranium and thorium ores</td>\n",
       "      <td>tonne</td>\n",
       "    </tr>\n",
       "  </tbody>\n",
       "</table>\n",
       "</div>"
      ],
      "text/plain": [
       "               Resource name   Unit\n",
       "2            Building stones  tonne\n",
       "18                      Salt  tonne\n",
       "28                Anthracite  tonne\n",
       "8   Inland waters fish catch  tonne\n",
       "22  Uranium and thorium ores  tonne"
      ]
     },
     "execution_count": 68,
     "metadata": {},
     "output_type": "execute_result"
    }
   ],
   "source": [
    "exiobase_resources.sample(5)"
   ]
  },
  {
   "cell_type": "code",
   "execution_count": 69,
   "metadata": {},
   "outputs": [],
   "source": [
    "exiobase3_usepa_resources={}\n",
    "\n",
    "for i,row in exiobase_resources.iterrows():\n",
    "    exiobase3_usepa_resources[row['Resource name']]=None"
   ]
  },
  {
   "cell_type": "code",
   "execution_count": 71,
   "metadata": {},
   "outputs": [],
   "source": [
    "flowable_list = list(ef_usepa['Flowable'].unique())"
   ]
  },
  {
   "cell_type": "code",
   "execution_count": null,
   "metadata": {},
   "outputs": [],
   "source": []
  },
  {
   "cell_type": "code",
   "execution_count": 72,
   "metadata": {},
   "outputs": [],
   "source": [
    "exiobase3_usepa_resources['Slate'] = ef_usepa.loc[(ef_usepa['Flowable']=='Slate')&(ef_usepa.Context=='resource/ground'),'Flow UUID'].values"
   ]
  },
  {
   "cell_type": "code",
   "execution_count": 73,
   "metadata": {},
   "outputs": [],
   "source": [
    "# there is only natural gas in air, which is a bit strange\n",
    "exiobase3_usepa_resources['Natural gas'] = ef_usepa.loc[(ef_usepa['Flowable']=='Natural gas')&(ef_usepa.Context=='resource/air'),'Flow UUID'].values"
   ]
  },
  {
   "cell_type": "code",
   "execution_count": 74,
   "metadata": {},
   "outputs": [],
   "source": [
    "exiobase3_usepa_resources['Peat'] = ef_usepa.loc[(ef_usepa['Flowable']=='Peat')&(ef_usepa.Context=='resource/ground'),'Flow UUID'].values"
   ]
  },
  {
   "cell_type": "code",
   "execution_count": 75,
   "metadata": {},
   "outputs": [],
   "source": [
    "exiobase3_usepa_resources['Peat'] = ef_usepa.loc[(ef_usepa['Flowable']=='Peat')&(ef_usepa.Context=='resource/ground'),'Flow UUID'].values"
   ]
  },
  {
   "cell_type": "markdown",
   "metadata": {},
   "source": [
    "there seems to be Oxygen just as an emission, not a resource."
   ]
  },
  {
   "cell_type": "code",
   "execution_count": 76,
   "metadata": {},
   "outputs": [
    {
     "data": {
      "text/html": [
       "<div>\n",
       "<style scoped>\n",
       "    .dataframe tbody tr th:only-of-type {\n",
       "        vertical-align: middle;\n",
       "    }\n",
       "\n",
       "    .dataframe tbody tr th {\n",
       "        vertical-align: top;\n",
       "    }\n",
       "\n",
       "    .dataframe thead th {\n",
       "        text-align: right;\n",
       "    }\n",
       "</style>\n",
       "<table border=\"1\" class=\"dataframe\">\n",
       "  <thead>\n",
       "    <tr style=\"text-align: right;\">\n",
       "      <th></th>\n",
       "      <th>Flowable</th>\n",
       "      <th>CAS No</th>\n",
       "      <th>Formula</th>\n",
       "      <th>Synonyms</th>\n",
       "      <th>Unit</th>\n",
       "      <th>Class</th>\n",
       "      <th>External Reference</th>\n",
       "      <th>Preferred</th>\n",
       "      <th>Context</th>\n",
       "      <th>Flow UUID</th>\n",
       "      <th>AltUnit</th>\n",
       "      <th>AltUnitConversionFactor</th>\n",
       "    </tr>\n",
       "  </thead>\n",
       "  <tbody>\n",
       "    <tr>\n",
       "      <th>144615</th>\n",
       "      <td>Oxygen</td>\n",
       "      <td>7782-44-7</td>\n",
       "      <td>O2</td>\n",
       "      <td>NaN</td>\n",
       "      <td>kg</td>\n",
       "      <td>Chemicals</td>\n",
       "      <td>https://ofmpub.epa.gov/sor_internet/registry/s...</td>\n",
       "      <td>0</td>\n",
       "      <td>emission/ground</td>\n",
       "      <td>2ebb9865-03df-3f23-bf37-bdfcc29024cd</td>\n",
       "      <td>NaN</td>\n",
       "      <td>NaN</td>\n",
       "    </tr>\n",
       "  </tbody>\n",
       "</table>\n",
       "</div>"
      ],
      "text/plain": [
       "       Flowable     CAS No Formula Synonyms Unit      Class  \\\n",
       "144615   Oxygen  7782-44-7      O2      NaN   kg  Chemicals   \n",
       "\n",
       "                                       External Reference  Preferred  \\\n",
       "144615  https://ofmpub.epa.gov/sor_internet/registry/s...          0   \n",
       "\n",
       "                Context                             Flow UUID AltUnit  \\\n",
       "144615  emission/ground  2ebb9865-03df-3f23-bf37-bdfcc29024cd     NaN   \n",
       "\n",
       "        AltUnitConversionFactor  \n",
       "144615                      NaN  "
      ]
     },
     "execution_count": 76,
     "metadata": {},
     "output_type": "execute_result"
    }
   ],
   "source": [
    "#exiobase3_usepa_resources['Oxygen'] = \n",
    "ef_usepa.loc[(ef_usepa['Flowable']=='Oxygen')&(ef_usepa.Context=='emission/ground'),:]"
   ]
  },
  {
   "cell_type": "code",
   "execution_count": 77,
   "metadata": {},
   "outputs": [],
   "source": [
    "# close match\n",
    "exiobase3_usepa_resources['Bauxite and aluminium ores'] =\\\n",
    "ef_usepa.loc[(ef_usepa['Flowable'].str.lower().str.contains('bauxite'))&(ef_usepa.Context=='resource/ground'),'Flow UUID'].values"
   ]
  },
  {
   "cell_type": "code",
   "execution_count": 78,
   "metadata": {},
   "outputs": [],
   "source": [
    "exiobase3_usepa_resources['Copper ores'] =\\\n",
    "ef_usepa.loc[(ef_usepa['Flowable']=='Copper ore')&(ef_usepa.Context=='resource/ground'),'Flow UUID'].values"
   ]
  },
  {
   "cell_type": "code",
   "execution_count": 79,
   "metadata": {},
   "outputs": [],
   "source": [
    "exiobase3_usepa_resources['Gold ores'] =\\\n",
    "ef_usepa.loc[(ef_usepa['Flowable']=='Gold ore')&(ef_usepa.Context=='resource/ground'),'Flow UUID'].values"
   ]
  },
  {
   "cell_type": "code",
   "execution_count": 80,
   "metadata": {},
   "outputs": [],
   "source": [
    "exiobase3_usepa_resources['Iron ores'] =\\\n",
    "ef_usepa.loc[(ef_usepa['Flowable']=='Iron ore')&(ef_usepa.Context=='resource/ground'),'Flow UUID'].values"
   ]
  },
  {
   "cell_type": "code",
   "execution_count": 81,
   "metadata": {},
   "outputs": [],
   "source": [
    "exiobase3_usepa_resources['Lead ores'] =\\\n",
    "ef_usepa.loc[(ef_usepa['Flowable']=='Lead ore')&(ef_usepa.Context=='resource/ground'),'Flow UUID'].values"
   ]
  },
  {
   "cell_type": "code",
   "execution_count": 82,
   "metadata": {},
   "outputs": [],
   "source": [
    "exiobase3_usepa_resources['Nickel ores'] =\\\n",
    "ef_usepa.loc[(ef_usepa['Flowable']=='Nickel ore')&(ef_usepa.Context=='resource/ground'),'Flow UUID'].values"
   ]
  },
  {
   "cell_type": "code",
   "execution_count": 83,
   "metadata": {},
   "outputs": [],
   "source": [
    "exiobase3_usepa_resources['Tin ores'] =\\\n",
    "ef_usepa.loc[(ef_usepa['Flowable']=='Tin ore')&(ef_usepa.Context=='resource/ground'),'Flow UUID'].values"
   ]
  },
  {
   "cell_type": "code",
   "execution_count": 84,
   "metadata": {},
   "outputs": [],
   "source": [
    "exiobase3_usepa_resources['Zinc ores'] =\\\n",
    "ef_usepa.loc[(ef_usepa['Flowable']=='Zinc ore')&(ef_usepa.Context=='resource/ground'),'Flow UUID'].values"
   ]
  },
  {
   "cell_type": "code",
   "execution_count": 85,
   "metadata": {},
   "outputs": [],
   "source": [
    "exiobase3_usepa_resources['Silver ores'] =\\\n",
    "ef_usepa.loc[(ef_usepa['Flowable']=='Silver ore')&(ef_usepa.Context=='resource/ground'),'Flow UUID'].values"
   ]
  },
  {
   "cell_type": "code",
   "execution_count": 86,
   "metadata": {},
   "outputs": [],
   "source": [
    "# partial match\n",
    "exiobase3_usepa_resources['Uranium and thorium ores'] =\\\n",
    "ef_usepa.loc[(ef_usepa['Flowable']=='Uranium ore')&(ef_usepa.Context=='resource/ground'),'Flow UUID'].values"
   ]
  },
  {
   "cell_type": "code",
   "execution_count": 87,
   "metadata": {},
   "outputs": [],
   "source": [
    "exiobase3_usepa_resources['Sub-bituminous coal'] =\\\n",
    "ef_usepa.loc[(ef_usepa['Flowable']=='Coal, sub-bituminous')&(ef_usepa.Context=='resource/ground'),'Flow UUID'].values"
   ]
  },
  {
   "cell_type": "code",
   "execution_count": 88,
   "metadata": {},
   "outputs": [],
   "source": [
    "exiobase3_usepa_resources['Anthracite'] =\\\n",
    "ef_usepa.loc[(ef_usepa['Flowable']=='Coal, anthracite')&(ef_usepa.Context=='resource/ground'),'Flow UUID'].values"
   ]
  },
  {
   "cell_type": "code",
   "execution_count": 89,
   "metadata": {},
   "outputs": [],
   "source": [
    "# partial match\n",
    "exiobase3_usepa_resources['Lignite/brown coal'] =\\\n",
    "ef_usepa.loc[(ef_usepa['Flowable']=='Coal, lignite')&(ef_usepa.Context=='resource/ground'),'Flow UUID'].values"
   ]
  },
  {
   "cell_type": "code",
   "execution_count": 90,
   "metadata": {},
   "outputs": [],
   "source": [
    "# partial match ?\n",
    "exiobase3_usepa_resources['Other bituminous coal'] =\\\n",
    "ef_usepa.loc[(ef_usepa['Flowable']=='Coal, bituminous')&(ef_usepa.Context=='resource/ground'),'Flow UUID'].values"
   ]
  },
  {
   "cell_type": "code",
   "execution_count": 91,
   "metadata": {},
   "outputs": [],
   "source": [
    "exiobase3_usepa_resources['Building stones'] =\\\n",
    "ef_usepa.loc[(ef_usepa['Flowable']=='Stone')&(ef_usepa.Context=='resource/ground'),'Flow UUID'].values"
   ]
  },
  {
   "cell_type": "code",
   "execution_count": 92,
   "metadata": {},
   "outputs": [],
   "source": [
    "c1 = (ef_usepa['Flowable']=='Limestone')\n",
    "c2 = (ef_usepa['Flowable']=='Gypsum')\n",
    "c3 = (ef_usepa['Flowable']=='Chalk')\n",
    "c4 = (ef_usepa['Flowable']=='Dolomite')\n",
    "cground= (ef_usepa.Context=='resource/ground')"
   ]
  },
  {
   "cell_type": "code",
   "execution_count": 93,
   "metadata": {},
   "outputs": [],
   "source": [
    "exiobase3_usepa_resources['Limestone, gypsum, chalk, dolomite'] =\\\n",
    "ef_usepa.loc[(c1|c2|c3|c4)&cground,'Flow UUID'].values"
   ]
  },
  {
   "cell_type": "code",
   "execution_count": 94,
   "metadata": {},
   "outputs": [
    {
     "data": {
      "text/plain": [
       "228339    13f50f4e-6aee-34f6-b3af-20503373f75d\n",
       "Name: Flow UUID, dtype: object"
      ]
     },
     "execution_count": 94,
     "metadata": {},
     "output_type": "execute_result"
    }
   ],
   "source": [
    "ef_usepa.loc[(ef_usepa['Flowable']=='Limestone')&(ef_usepa.Context=='resource/ground'),'Flow UUID']"
   ]
  },
  {
   "cell_type": "code",
   "execution_count": 95,
   "metadata": {},
   "outputs": [],
   "source": [
    "ckaolin = (ef_usepa['Flowable']=='Kaoline')\n",
    "cclay = (ef_usepa['Flowable']=='Clay')\n",
    "\n",
    "exiobase3_usepa_resources['Clays and kaolin'] = ef_usepa.loc[(ckaolin|cclay)&cground,'Flow UUID'].values"
   ]
  },
  {
   "cell_type": "code",
   "execution_count": 96,
   "metadata": {},
   "outputs": [],
   "source": [
    "cgravel = (ef_usepa['Flowable']=='Gravel')\n",
    "csand = (ef_usepa['Flowable']=='Sand')\n",
    "exiobase3_usepa_resources['Gravel and sand'] = ef_usepa.loc[(cgravel|csand)&cground,'Flow UUID'].values"
   ]
  },
  {
   "cell_type": "code",
   "execution_count": 135,
   "metadata": {},
   "outputs": [],
   "source": [
    "exiobase3_usepa_resources['Natural gas'] = \\\n",
    "ef_usepa.loc[(ef_usepa['Flowable'].str.lower().str.contains('natural gas'))&(ef_usepa.Context=='resource/air/subterranean'),'Flow UUID'].values"
   ]
  },
  {
   "cell_type": "code",
   "execution_count": 136,
   "metadata": {},
   "outputs": [],
   "source": [
    "exiobase3_usepa_resources['Carbon dioxide, in air'] = \\\n",
    "ef_usepa.loc[(ef_usepa['Flowable'].str.lower().str.contains('Carbon dioxide, in air'))&(ef_usepa.Context=='resource/air'),'Flow UUID'].values"
   ]
  },
  {
   "cell_type": "code",
   "execution_count": 114,
   "metadata": {},
   "outputs": [],
   "source": [
    "# kind of close match. PGM is platinum group metals\n",
    "exiobase3_usepa_resources['PGM ores']=\\\n",
    "ef_usepa.loc[(ef_usepa['Flowable'].str.lower().str.contains('platinum ore')),'Flow UUID'].values"
   ]
  },
  {
   "cell_type": "code",
   "execution_count": 118,
   "metadata": {},
   "outputs": [],
   "source": [
    "exiobase3_usepa_resources['Crude oil']=\\\n",
    "ef_usepa.loc[(ef_usepa['Flowable'].str.lower().str.contains('crude oil')),'Flow UUID'].values"
   ]
  },
  {
   "cell_type": "code",
   "execution_count": 138,
   "metadata": {},
   "outputs": [],
   "source": [
    "# guessing here\n",
    "exiobase3_usepa_resources['Salt']=\\\n",
    "ef_usepa.loc[(ef_usepa['Flowable'].str.lower().str.contains('sodium chloride'))&(ef_usepa.Context.str.startswith('resource')),'Flow UUID'].values"
   ]
  },
  {
   "cell_type": "markdown",
   "metadata": {},
   "source": [
    "coking grade-coal seems to be bitiminous mainly "
   ]
  },
  {
   "cell_type": "code",
   "execution_count": 146,
   "metadata": {},
   "outputs": [],
   "source": [
    "# close relationship\n",
    "exiobase3_usepa_resources['Coking coal']=\\\n",
    "ef_usepa.loc[(ef_usepa['Flowable'].str.lower().str.contains('coal, bituminous'))&(ef_usepa.Context.str.startswith('resource')),'Flow UUID'].values"
   ]
  },
  {
   "cell_type": "code",
   "execution_count": 150,
   "metadata": {},
   "outputs": [
    {
     "data": {
      "text/plain": [
       "array(['resource/air', 'resource/air/subterranean',\n",
       "       'resource/air/troposphere', 'resource/water/subterranean',\n",
       "       'resource/water/subterranean/fresh water body',\n",
       "       'resource/water/subterranean/brackish water body',\n",
       "       'resource/water/subterranean/saline water body',\n",
       "       'resource/water/subterranean/fresh water body/confined aquifer',\n",
       "       'resource/water/subterranean/brackish water body/confined aquifer',\n",
       "       'resource/water/subterranean/saline water body/confined aquifer',\n",
       "       'resource/water/subterranean/fresh water body/unconfined aquifer',\n",
       "       'resource/water/subterranean/brackish water body/unconfined aquifer',\n",
       "       'resource/water/subterranean/saline water body/unconfined aquifer',\n",
       "       'resource/water', 'resource/water/fresh water body',\n",
       "       'resource/water/brackish water body',\n",
       "       'resource/water/saline water body',\n",
       "       'resource/water/fresh water body/lake',\n",
       "       'resource/water/fresh water body/river',\n",
       "       'resource/water/brackish water body/lake',\n",
       "       'resource/water/saline water body/ocean',\n",
       "       'resource/water/fresh water body/lake/urban',\n",
       "       'resource/water/fresh water body/lake/rural',\n",
       "       'resource/water/fresh water body/river/urban',\n",
       "       'resource/water/fresh water body/river/rural',\n",
       "       'resource/water/brackish water body/lake/urban',\n",
       "       'resource/water/brackish water body/lake/rural'], dtype=object)"
      ]
     },
     "execution_count": 150,
     "metadata": {},
     "output_type": "execute_result"
    }
   ],
   "source": [
    "ef_usepa.loc[(ef_usepa['Flowable'].str.lower().str.contains('water'))&(ef_usepa.Context.str.startswith('resource')),'Context'].unique()"
   ]
  },
  {
   "cell_type": "code",
   "execution_count": 156,
   "metadata": {},
   "outputs": [],
   "source": [
    "# water cons and water withdrawal ? what is the difference ?\n",
    "exiobase3_usepa_resources['Water Consumption Blue']=\\\n",
    "ef_usepa.loc[(ef_usepa['Flowable'].str.lower().str.contains('water'))&(ef_usepa.Context.str.startswith('resource/water/subterranean')),'Flow UUID'].values"
   ]
  },
  {
   "cell_type": "code",
   "execution_count": 166,
   "metadata": {},
   "outputs": [
    {
     "data": {
      "text/plain": [
       "array(['Biomass', 'Hardwood', 'Softwood', 'Wood', 'Bacillus subtilis',\n",
       "       'Bacillus thuringiensis var. aizawai',\n",
       "       'Bacillus thuringiensis var. israeliensis',\n",
       "       'Bacillus thuringiensis var. kurstaki', 'Entomopathogenic virus'],\n",
       "      dtype=object)"
      ]
     },
     "execution_count": 166,
     "metadata": {},
     "output_type": "execute_result"
    }
   ],
   "source": [
    "ef_usepa.loc[(ef_usepa.Class=='Biological'),'Flowable'].unique()"
   ]
  },
  {
   "cell_type": "code",
   "execution_count": 158,
   "metadata": {},
   "outputs": [
    {
     "data": {
      "text/plain": [
       "['Aquatic plants',\n",
       " 'Chemical and fertilizer minerals',\n",
       " 'Inland waters fish catch',\n",
       " 'Marine fish catch',\n",
       " 'Other (e.g. Aquatic mammals)',\n",
       " 'Other minerals',\n",
       " 'Other non-ferrous metal ores',\n",
       " 'Natural gas liquids',\n",
       " 'Minerals nec. (incl nitrogen and hydrogen)',\n",
       " 'Oxygen',\n",
       " 'Water Consumption Green',\n",
       " 'Water Withdrawal Blue']"
      ]
     },
     "execution_count": 158,
     "metadata": {},
     "output_type": "execute_result"
    }
   ],
   "source": [
    "[k for k,v in exiobase3_usepa_resources.items() if (v is None)]"
   ]
  },
  {
   "cell_type": "markdown",
   "metadata": {},
   "source": [
    "the rest looks pretty hard to find"
   ]
  },
  {
   "cell_type": "markdown",
   "metadata": {},
   "source": [
    "# Land"
   ]
  },
  {
   "cell_type": "code",
   "execution_count": 181,
   "metadata": {},
   "outputs": [],
   "source": [
    "exiobase3_usepa_land={}"
   ]
  },
  {
   "cell_type": "code",
   "execution_count": 182,
   "metadata": {},
   "outputs": [
    {
     "data": {
      "text/html": [
       "<div>\n",
       "<style scoped>\n",
       "    .dataframe tbody tr th:only-of-type {\n",
       "        vertical-align: middle;\n",
       "    }\n",
       "\n",
       "    .dataframe tbody tr th {\n",
       "        vertical-align: top;\n",
       "    }\n",
       "\n",
       "    .dataframe thead th {\n",
       "        text-align: right;\n",
       "    }\n",
       "</style>\n",
       "<table border=\"1\" class=\"dataframe\">\n",
       "  <thead>\n",
       "    <tr style=\"text-align: right;\">\n",
       "      <th></th>\n",
       "      <th>Land type</th>\n",
       "      <th>Unit</th>\n",
       "    </tr>\n",
       "  </thead>\n",
       "  <tbody>\n",
       "    <tr>\n",
       "      <th>0</th>\n",
       "      <td>Land use, arable land</td>\n",
       "      <td>ha</td>\n",
       "    </tr>\n",
       "    <tr>\n",
       "      <th>1</th>\n",
       "      <td>Land use, forest land</td>\n",
       "      <td>ha</td>\n",
       "    </tr>\n",
       "    <tr>\n",
       "      <th>2</th>\n",
       "      <td>Land use, grassland</td>\n",
       "      <td>ha</td>\n",
       "    </tr>\n",
       "    <tr>\n",
       "      <th>3</th>\n",
       "      <td>Land use, other land for woodfuel</td>\n",
       "      <td>ha</td>\n",
       "    </tr>\n",
       "    <tr>\n",
       "      <th>4</th>\n",
       "      <td>Land use, infrastructure land</td>\n",
       "      <td>ha</td>\n",
       "    </tr>\n",
       "  </tbody>\n",
       "</table>\n",
       "</div>"
      ],
      "text/plain": [
       "                           Land type Unit\n",
       "0              Land use, arable land   ha\n",
       "1              Land use, forest land   ha\n",
       "2                Land use, grassland   ha\n",
       "3  Land use, other land for woodfuel   ha\n",
       "4      Land use, infrastructure land   ha"
      ]
     },
     "execution_count": 182,
     "metadata": {},
     "output_type": "execute_result"
    }
   ],
   "source": [
    "exiobase_classification_d['Land']"
   ]
  },
  {
   "cell_type": "code",
   "execution_count": 183,
   "metadata": {},
   "outputs": [
    {
     "data": {
      "text/html": [
       "<div>\n",
       "<style scoped>\n",
       "    .dataframe tbody tr th:only-of-type {\n",
       "        vertical-align: middle;\n",
       "    }\n",
       "\n",
       "    .dataframe tbody tr th {\n",
       "        vertical-align: top;\n",
       "    }\n",
       "\n",
       "    .dataframe thead th {\n",
       "        text-align: right;\n",
       "    }\n",
       "</style>\n",
       "<table border=\"1\" class=\"dataframe\">\n",
       "  <thead>\n",
       "    <tr style=\"text-align: right;\">\n",
       "      <th></th>\n",
       "      <th>Flowable</th>\n",
       "      <th>CAS No</th>\n",
       "      <th>Formula</th>\n",
       "      <th>Synonyms</th>\n",
       "      <th>Unit</th>\n",
       "      <th>Class</th>\n",
       "      <th>External Reference</th>\n",
       "      <th>Preferred</th>\n",
       "      <th>Context</th>\n",
       "      <th>Flow UUID</th>\n",
       "      <th>AltUnit</th>\n",
       "      <th>AltUnitConversionFactor</th>\n",
       "    </tr>\n",
       "  </thead>\n",
       "  <tbody>\n",
       "    <tr>\n",
       "      <th>238158</th>\n",
       "      <td>Land use</td>\n",
       "      <td>NaN</td>\n",
       "      <td>NaN</td>\n",
       "      <td>NaN</td>\n",
       "      <td>m2*a</td>\n",
       "      <td>Land</td>\n",
       "      <td>NaN</td>\n",
       "      <td>1</td>\n",
       "      <td>resource/water/fresh water body/river/urban</td>\n",
       "      <td>0e3e8b33-cb94-334f-8dd0-09cb08109d16</td>\n",
       "      <td>NaN</td>\n",
       "      <td>NaN</td>\n",
       "    </tr>\n",
       "    <tr>\n",
       "      <th>238143</th>\n",
       "      <td>Land use</td>\n",
       "      <td>NaN</td>\n",
       "      <td>NaN</td>\n",
       "      <td>NaN</td>\n",
       "      <td>m2*a</td>\n",
       "      <td>Land</td>\n",
       "      <td>NaN</td>\n",
       "      <td>0</td>\n",
       "      <td>resource/ground/human-dominated/rural</td>\n",
       "      <td>4b286b72-43b8-30c4-8b46-fa100dadd3b2</td>\n",
       "      <td>NaN</td>\n",
       "      <td>NaN</td>\n",
       "    </tr>\n",
       "  </tbody>\n",
       "</table>\n",
       "</div>"
      ],
      "text/plain": [
       "        Flowable CAS No Formula Synonyms  Unit Class External Reference  \\\n",
       "238158  Land use    NaN     NaN      NaN  m2*a  Land                NaN   \n",
       "238143  Land use    NaN     NaN      NaN  m2*a  Land                NaN   \n",
       "\n",
       "        Preferred                                      Context  \\\n",
       "238158          1  resource/water/fresh water body/river/urban   \n",
       "238143          0        resource/ground/human-dominated/rural   \n",
       "\n",
       "                                   Flow UUID AltUnit  AltUnitConversionFactor  \n",
       "238158  0e3e8b33-cb94-334f-8dd0-09cb08109d16     NaN                      NaN  \n",
       "238143  4b286b72-43b8-30c4-8b46-fa100dadd3b2     NaN                      NaN  "
      ]
     },
     "execution_count": 183,
     "metadata": {},
     "output_type": "execute_result"
    }
   ],
   "source": [
    "ef_usepa.loc[(ef_usepa.Class=='Land'),:].sample(2)"
   ]
  },
  {
   "cell_type": "code",
   "execution_count": 184,
   "metadata": {},
   "outputs": [
    {
     "data": {
      "text/plain": [
       "array(['resource/ground', 'resource/ground/subterranean',\n",
       "       'resource/ground/human-dominated',\n",
       "       'resource/ground/human-dominated/industrial',\n",
       "       'resource/ground/human-dominated/commercial',\n",
       "       'resource/ground/human-dominated/agricultural',\n",
       "       'resource/ground/human-dominated/residential',\n",
       "       'resource/ground/terrestrial/wetland',\n",
       "       'resource/ground/terrestrial/barren land',\n",
       "       'resource/ground/terrestrial/snow and ice',\n",
       "       'resource/ground/terrestrial/grassland',\n",
       "       'resource/ground/terrestrial/shrubland',\n",
       "       'resource/ground/terrestrial/forest',\n",
       "       'resource/ground/human-dominated/urban',\n",
       "       'resource/ground/human-dominated/rural',\n",
       "       'resource/ground/human-dominated/industrial/urban',\n",
       "       'resource/ground/human-dominated/industrial/rural',\n",
       "       'resource/ground/human-dominated/commercial/urban',\n",
       "       'resource/ground/human-dominated/commercial/rural',\n",
       "       'resource/ground/human-dominated/agricultural/urban',\n",
       "       'resource/ground/human-dominated/agricultural/rural',\n",
       "       'resource/ground/human-dominated/residential/urban',\n",
       "       'resource/ground/human-dominated/residential/rural',\n",
       "       'resource/water/fresh water body/lake',\n",
       "       'resource/water/fresh water body/river',\n",
       "       'resource/water/brackish water body/lake',\n",
       "       'resource/water/saline water body/ocean',\n",
       "       'resource/water/fresh water body/lake/urban',\n",
       "       'resource/water/fresh water body/lake/rural',\n",
       "       'resource/water/fresh water body/river/urban',\n",
       "       'resource/water/fresh water body/river/rural',\n",
       "       'resource/water/brackish water body/lake/urban',\n",
       "       'resource/water/brackish water body/lake/rural'], dtype=object)"
      ]
     },
     "execution_count": 184,
     "metadata": {},
     "output_type": "execute_result"
    }
   ],
   "source": [
    "ef_usepa.loc[(ef_usepa['Flowable'].str.lower().str.contains('land')),'Context'].unique()"
   ]
  },
  {
   "cell_type": "code",
   "execution_count": 187,
   "metadata": {},
   "outputs": [],
   "source": [
    "exiobase3_usepa_land['Land use, arable land']=\\\n",
    "ef_usepa.loc[(ef_usepa.Class=='Land')&(ef_usepa.Context.str.contains('human-dominated/agricultural')),'Flow UUID'].values"
   ]
  },
  {
   "cell_type": "code",
   "execution_count": null,
   "metadata": {},
   "outputs": [],
   "source": []
  }
 ],
 "metadata": {
  "kernelspec": {
   "display_name": "Python 3",
   "language": "python",
   "name": "python3"
  },
  "language_info": {
   "codemirror_mode": {
    "name": "ipython",
    "version": 3
   },
   "file_extension": ".py",
   "mimetype": "text/x-python",
   "name": "python",
   "nbconvert_exporter": "python",
   "pygments_lexer": "ipython3",
   "version": "3.7.4"
  }
 },
 "nbformat": 4,
 "nbformat_minor": 4
}
